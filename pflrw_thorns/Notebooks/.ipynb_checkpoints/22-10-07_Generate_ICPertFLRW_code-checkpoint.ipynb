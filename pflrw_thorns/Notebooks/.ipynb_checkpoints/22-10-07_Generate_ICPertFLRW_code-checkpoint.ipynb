{
 "cells": [
  {
   "cell_type": "code",
   "execution_count": 1,
   "id": "a97f29c7",
   "metadata": {},
   "outputs": [],
   "source": [
    "import numpy as np"
   ]
  },
  {
   "cell_type": "code",
   "execution_count": 2,
   "id": "0c0cfb87",
   "metadata": {},
   "outputs": [],
   "source": [
    "coords = ['t', 'x', 'y', 'z']"
   ]
  },
  {
   "cell_type": "code",
   "execution_count": 3,
   "id": "0fc72fad",
   "metadata": {},
   "outputs": [],
   "source": [
    "def swap_indice(indices):\n",
    "    if indices == 'yx':\n",
    "        return 'xy'\n",
    "    elif indices == 'zx':\n",
    "        return 'xz'\n",
    "    elif indices == 'zy':\n",
    "        return 'yz'\n",
    "    else:\n",
    "        return indices    "
   ]
  },
  {
   "cell_type": "code",
   "execution_count": 9,
   "id": "f3705fcd",
   "metadata": {},
   "outputs": [
    {
     "name": "stdout",
     "output_type": "stream",
     "text": [
      "Azzu = gxzu*gxzu*Axx + gxzu*gyzu*Axy + gxzu*gzzu*Axz + gyzu*gxzu*Axy + gyzu*gyzu*Ayy + gyzu*gzzu*Ayz + gzzu*gxzu*Axz + gzzu*gyzu*Ayz + gzzu*gzzu*Azz\n"
     ]
    }
   ],
   "source": [
    "i = coords[3]\n",
    "j = coords[3]\n",
    "expression = 'A'+i+j+'u = '\n",
    "for k in coords[1:]:\n",
    "    for l in coords[1:]:\n",
    "        ik = swap_indice(i+k)\n",
    "        jl = swap_indice(j+l)\n",
    "        kl = swap_indice(k+l)\n",
    "        expression += 'g'+ik+'u*g'+jl+'u*A'+kl\n",
    "        if k+l != 'zz':\n",
    "            expression += ' + '\n",
    "print(expression)"
   ]
  },
  {
   "cell_type": "code",
   "execution_count": 12,
   "id": "5f37065d",
   "metadata": {},
   "outputs": [
    {
     "name": "stdout",
     "output_type": "stream",
     "text": [
      "AijuAijd = Axxu*Axx + Axyu*Axy + Axzu*Axz + Axyu*Axy + Ayyu*Ayy + Ayzu*Ayz + Axzu*Axz + Ayzu*Ayz + Azzu*Azz\n"
     ]
    }
   ],
   "source": [
    "expression = 'AijuAijd = '\n",
    "for i in coords[1:]:\n",
    "    for j in coords[1:]:\n",
    "        ij = swap_indice(i+j)\n",
    "        expression += 'A'+ij+'u*A'+ij\n",
    "        if i+j != 'zz':\n",
    "            expression += ' + '\n",
    "print(expression)"
   ]
  },
  {
   "cell_type": "code",
   "execution_count": 29,
   "id": "469ec5d4",
   "metadata": {},
   "outputs": [],
   "source": [
    "def swap_two_dindices(dindices):\n",
    "    if dindices == 'dydx':\n",
    "        return 'dxdy'\n",
    "    elif dindices == 'dzdx':\n",
    "        return 'dxdz'\n",
    "    elif dindices == 'dzdy':\n",
    "        return 'dydz'\n",
    "    else:\n",
    "        return dindices    \n",
    "\n",
    "def swap_three_dindices(dindices):\n",
    "    d1 = 'd'+dindices.split('d')[1]+'d'+dindices.split('d')[2]\n",
    "    d1 = swap_two_dindices(d1)+'d'+dindices.split('d')[3]\n",
    "    \n",
    "    d2 = 'd'+d1.split('d')[2]+'d'+d1.split('d')[3]\n",
    "    d2 = 'd'+d1.split('d')[1]+swap_two_dindices(d2)\n",
    "    \n",
    "    d3 = 'd'+d2.split('d')[1]+'d'+d2.split('d')[2]\n",
    "    d3 = swap_two_dindices(d3)+'d'+d2.split('d')[3]\n",
    "    return d3"
   ]
  },
  {
   "cell_type": "code",
   "execution_count": 36,
   "id": "e7eeacb1",
   "metadata": {},
   "outputs": [
    {
     "name": "stdout",
     "output_type": "stream",
     "text": [
      "dxgxx = mta2 * dxRc + m2iFH2 * dxdxdxRc\n",
      "dygxx = mta2 * dyRc + m2iFH2 * dxdxdyRc\n",
      "dzgxx = mta2 * dzRc + m2iFH2 * dxdxdzRc\n",
      "dxgxy = m2iFH2 * dxdxdyRc\n",
      "dygxy = m2iFH2 * dxdydyRc\n",
      "dzgxy = m2iFH2 * dxdydzRc\n",
      "dxgxz = m2iFH2 * dxdxdzRc\n",
      "dygxz = m2iFH2 * dxdydzRc\n",
      "dzgxz = m2iFH2 * dxdzdzRc\n",
      "dxgyy = mta2 * dxRc + m2iFH2 * dxdydyRc\n",
      "dygyy = mta2 * dyRc + m2iFH2 * dydydyRc\n",
      "dzgyy = mta2 * dzRc + m2iFH2 * dydydzRc\n",
      "dxgyz = m2iFH2 * dxdydzRc\n",
      "dygyz = m2iFH2 * dydydzRc\n",
      "dzgyz = m2iFH2 * dydzdzRc\n",
      "dxgzz = mta2 * dxRc + m2iFH2 * dxdzdzRc\n",
      "dygzz = mta2 * dyRc + m2iFH2 * dydzdzRc\n",
      "dzgzz = mta2 * dzRc + m2iFH2 * dzdzdzRc\n"
     ]
    }
   ],
   "source": [
    "coordsj = ['x', 'y', 'z']\n",
    "for i in coords[1:]:\n",
    "    for j in coordsj:\n",
    "        for k in coords[1:]:\n",
    "            dk = 'd'+k\n",
    "            ij = i+j\n",
    "            dkdidj = swap_three_dindices('d'+k+'d'+i+'d'+j)\n",
    "            if i==j:\n",
    "                print(dk+'g'+ij+' = mta2 * '+dk+'Rc + m2iFH2 * '+dkdidj+'Rc')\n",
    "            else:\n",
    "                print(dk+'g'+ij+' = m2iFH2 * '+dkdidj+'Rc')\n",
    "    coordsj.remove(i)"
   ]
  },
  {
   "cell_type": "code",
   "execution_count": 37,
   "id": "a69f8346",
   "metadata": {},
   "outputs": [],
   "source": [
    "def swap_four_dindices(dindices):\n",
    "    \n",
    "    d1 = 'd'+dindices.split('d')[1]+'d'+dindices.split('d')[2]+'d'+dindices.split('d')[3]\n",
    "    d1 = swap_three_dindices(d1)+'d'+dindices.split('d')[4]\n",
    "    \n",
    "    d2 = 'd'+d1.split('d')[2]+'d'+d1.split('d')[3]+'d'+d1.split('d')[4]\n",
    "    d2 = 'd'+d1.split('d')[1]+swap_three_dindices(d2)\n",
    "    \n",
    "    d3 = 'd'+d2.split('d')[1]+'d'+d2.split('d')[2]+'d'+d2.split('d')[3]\n",
    "    d3 = swap_three_dindices(d3)+'d'+d2.split('d')[4]\n",
    "    return d3"
   ]
  },
  {
   "cell_type": "code",
   "execution_count": 42,
   "id": "7d5dba83",
   "metadata": {},
   "outputs": [
    {
     "name": "stdout",
     "output_type": "stream",
     "text": [
      "dxdxgxx = mta2 * dxdxRc + m2iFH2 * dxdxdxdxRc\n",
      "dxdygxx = mta2 * dxdyRc + m2iFH2 * dxdxdxdyRc\n",
      "dxdzgxx = mta2 * dxdzRc + m2iFH2 * dxdxdxdzRc\n",
      "dxdxgxy = m2iFH2 * dxdxdxdyRc\n",
      "dxdygxy = m2iFH2 * dxdxdydyRc\n",
      "dxdzgxy = m2iFH2 * dxdxdydzRc\n",
      "dxdxgxz = m2iFH2 * dxdxdxdzRc\n",
      "dxdygxz = m2iFH2 * dxdxdydzRc\n",
      "dxdzgxz = m2iFH2 * dxdxdzdzRc\n",
      "dxdxgyy = mta2 * dxdxRc + m2iFH2 * dxdxdydyRc\n",
      "dxdygyy = mta2 * dxdyRc + m2iFH2 * dxdydydyRc\n",
      "dxdzgyy = mta2 * dxdzRc + m2iFH2 * dxdydydzRc\n",
      "dxdxgyz = m2iFH2 * dxdxdydzRc\n",
      "dxdygyz = m2iFH2 * dxdydydzRc\n",
      "dxdzgyz = m2iFH2 * dxdydzdzRc\n",
      "dxdxgzz = mta2 * dxdxRc + m2iFH2 * dxdxdzdzRc\n",
      "dxdygzz = mta2 * dxdyRc + m2iFH2 * dxdydzdzRc\n",
      "dxdzgzz = mta2 * dxdzRc + m2iFH2 * dxdzdzdzRc\n"
     ]
    }
   ],
   "source": [
    "coordsj = ['x', 'y', 'z']\n",
    "dl = 'dx'\n",
    "for i in coords[1:]:\n",
    "    for j in coordsj:\n",
    "        for k in coords[1:]:\n",
    "            dk = 'd'+k\n",
    "            dldk = swap_two_dindices(dl+dk)\n",
    "            ij = i+j\n",
    "            dldkdidj = swap_four_dindices(dldk+'d'+i+'d'+j)\n",
    "            if i==j:\n",
    "                print(dldk+'g'+ij+' = mta2 * '+dldk+'Rc + m2iFH2 * '+dldkdidj+'Rc')\n",
    "            else:\n",
    "                print(dldk+'g'+ij+' = m2iFH2 * '+dldkdidj+'Rc')\n",
    "    coordsj.remove(i)"
   ]
  },
  {
   "cell_type": "code",
   "execution_count": 43,
   "id": "dd606e78",
   "metadata": {},
   "outputs": [
    {
     "name": "stdout",
     "output_type": "stream",
     "text": [
      "dxdygxx = mta2 * dxdyRc + m2iFH2 * dxdxdxdyRc\n",
      "dydygxx = mta2 * dydyRc + m2iFH2 * dxdxdydyRc\n",
      "dydzgxx = mta2 * dydzRc + m2iFH2 * dxdxdydzRc\n",
      "dxdygxy = m2iFH2 * dxdxdydyRc\n",
      "dydygxy = m2iFH2 * dxdydydyRc\n",
      "dydzgxy = m2iFH2 * dxdydydzRc\n",
      "dxdygxz = m2iFH2 * dxdxdydzRc\n",
      "dydygxz = m2iFH2 * dxdydydzRc\n",
      "dydzgxz = m2iFH2 * dxdydzdzRc\n",
      "dxdygyy = mta2 * dxdyRc + m2iFH2 * dxdydydyRc\n",
      "dydygyy = mta2 * dydyRc + m2iFH2 * dydydydyRc\n",
      "dydzgyy = mta2 * dydzRc + m2iFH2 * dydydydzRc\n",
      "dxdygyz = m2iFH2 * dxdydydzRc\n",
      "dydygyz = m2iFH2 * dydydydzRc\n",
      "dydzgyz = m2iFH2 * dydydzdzRc\n",
      "dxdygzz = mta2 * dxdyRc + m2iFH2 * dxdydzdzRc\n",
      "dydygzz = mta2 * dydyRc + m2iFH2 * dydydzdzRc\n",
      "dydzgzz = mta2 * dydzRc + m2iFH2 * dydzdzdzRc\n"
     ]
    }
   ],
   "source": [
    "coordsj = ['x', 'y', 'z']\n",
    "dl = 'dy'\n",
    "for i in coords[1:]:\n",
    "    for j in coordsj:\n",
    "        for k in coords[1:]:\n",
    "            dk = 'd'+k\n",
    "            dldk = swap_two_dindices(dl+dk)\n",
    "            ij = i+j\n",
    "            dldkdidj = swap_four_dindices(dldk+'d'+i+'d'+j)\n",
    "            if i==j:\n",
    "                print(dldk+'g'+ij+' = mta2 * '+dldk+'Rc + m2iFH2 * '+dldkdidj+'Rc')\n",
    "            else:\n",
    "                print(dldk+'g'+ij+' = m2iFH2 * '+dldkdidj+'Rc')\n",
    "    coordsj.remove(i)"
   ]
  },
  {
   "cell_type": "code",
   "execution_count": 44,
   "id": "8dd9114c",
   "metadata": {},
   "outputs": [
    {
     "name": "stdout",
     "output_type": "stream",
     "text": [
      "dxdzgxx = mta2 * dxdzRc + m2iFH2 * dxdxdxdzRc\n",
      "dydzgxx = mta2 * dydzRc + m2iFH2 * dxdxdydzRc\n",
      "dzdzgxx = mta2 * dzdzRc + m2iFH2 * dxdxdzdzRc\n",
      "dxdzgxy = m2iFH2 * dxdxdydzRc\n",
      "dydzgxy = m2iFH2 * dxdydydzRc\n",
      "dzdzgxy = m2iFH2 * dxdydzdzRc\n",
      "dxdzgxz = m2iFH2 * dxdxdzdzRc\n",
      "dydzgxz = m2iFH2 * dxdydzdzRc\n",
      "dzdzgxz = m2iFH2 * dxdzdzdzRc\n",
      "dxdzgyy = mta2 * dxdzRc + m2iFH2 * dxdydydzRc\n",
      "dydzgyy = mta2 * dydzRc + m2iFH2 * dydydydzRc\n",
      "dzdzgyy = mta2 * dzdzRc + m2iFH2 * dydydzdzRc\n",
      "dxdzgyz = m2iFH2 * dxdydzdzRc\n",
      "dydzgyz = m2iFH2 * dydydzdzRc\n",
      "dzdzgyz = m2iFH2 * dydzdzdzRc\n",
      "dxdzgzz = mta2 * dxdzRc + m2iFH2 * dxdzdzdzRc\n",
      "dydzgzz = mta2 * dydzRc + m2iFH2 * dydzdzdzRc\n",
      "dzdzgzz = mta2 * dzdzRc + m2iFH2 * dzdzdzdzRc\n"
     ]
    }
   ],
   "source": [
    "coordsj = ['x', 'y', 'z']\n",
    "dl = 'dz'\n",
    "for i in coords[1:]:\n",
    "    for j in coordsj:\n",
    "        for k in coords[1:]:\n",
    "            dk = 'd'+k\n",
    "            dldk = swap_two_dindices(dl+dk)\n",
    "            ij = i+j\n",
    "            dldkdidj = swap_four_dindices(dldk+'d'+i+'d'+j)\n",
    "            if i==j:\n",
    "                print(dldk+'g'+ij+' = mta2 * '+dldk+'Rc + m2iFH2 * '+dldkdidj+'Rc')\n",
    "            else:\n",
    "                print(dldk+'g'+ij+' = m2iFH2 * '+dldkdidj+'Rc')\n",
    "    coordsj.remove(i)"
   ]
  },
  {
   "cell_type": "code",
   "execution_count": 51,
   "id": "316af7fb",
   "metadata": {},
   "outputs": [
    {
     "name": "stdout",
     "output_type": "stream",
     "text": [
      "dxdxdxRc,\n",
      "dxdxdyRc,\n",
      "dxdxdzRc,\n",
      "dxdydyRc,\n",
      "dxdydzRc,\n",
      "dxdzdzRc,\n",
      "dydydyRc,\n",
      "dydydzRc,\n",
      "dydzdzRc,\n",
      "dzdzdzRc,\n"
     ]
    }
   ],
   "source": [
    "ddone = []\n",
    "for i in coords[1:]:\n",
    "    for j in coords[1:]:\n",
    "        for k in coords[1:]:\n",
    "            didjdk = swap_three_dindices('d'+i+'d'+j+'d'+k)\n",
    "            if didjdk not in ddone:\n",
    "                print(didjdk+'Rc,')\n",
    "                ddone += [didjdk]"
   ]
  },
  {
   "cell_type": "code",
   "execution_count": 54,
   "id": "268a7e96",
   "metadata": {},
   "outputs": [
    {
     "name": "stdout",
     "output_type": "stream",
     "text": [
      "dxdxdxdxRc,\n",
      "dxdxdxdyRc,\n",
      "dxdxdxdzRc,\n",
      "dxdxdydyRc,\n",
      "dxdxdydzRc,\n",
      "dxdxdzdzRc,\n",
      "dxdydydyRc,\n",
      "dxdydydzRc,\n",
      "dxdydzdzRc,\n",
      "dxdzdzdzRc,\n",
      "dydydydyRc,\n",
      "dydydydzRc,\n",
      "dydydzdzRc,\n",
      "dydzdzdzRc,\n",
      "dzdzdzdzRc,\n"
     ]
    }
   ],
   "source": [
    "ddone = []\n",
    "for i in coords[1:]:\n",
    "    for j in coords[1:]:\n",
    "        for k in coords[1:]:\n",
    "            for l in coords[1:]:\n",
    "                didjdkdl = swap_four_dindices('d'+i+'d'+j+'d'+k+'d'+l)\n",
    "                if didjdkdl not in ddone:\n",
    "                    print(didjdkdl+'Rc,')\n",
    "                    ddone += [didjdkdl]"
   ]
  },
  {
   "cell_type": "code",
   "execution_count": 9,
   "id": "3893ea1a",
   "metadata": {},
   "outputs": [
    {
     "name": "stdout",
     "output_type": "stream",
     "text": [
      "Gzxxu = gxzu*gxxu*gxxu*Gxxx + gxzu*gxxu*gxyu*Gxxy + gxzu*gxxu*gxzu*Gxxz + gxzu*gxyu*gxxu*Gxxy + gxzu*gxyu*gxyu*Gxyy + gxzu*gxyu*gxzu*Gxyz + gxzu*gxzu*gxxu*Gxxz + gxzu*gxzu*gxyu*Gxyz + gxzu*gxzu*gxzu*Gxzz + gyzu*gxxu*gxxu*Gyxx + gyzu*gxxu*gxyu*Gyxy + gyzu*gxxu*gxzu*Gyxz + gyzu*gxyu*gxxu*Gyxy + gyzu*gxyu*gxyu*Gyyy + gyzu*gxyu*gxzu*Gyyz + gyzu*gxzu*gxxu*Gyxz + gyzu*gxzu*gxyu*Gyyz + gyzu*gxzu*gxzu*Gyzz + gzzu*gxxu*gxxu*Gzxx + gzzu*gxxu*gxyu*Gzxy + gzzu*gxxu*gxzu*Gzxz + gzzu*gxyu*gxxu*Gzxy + gzzu*gxyu*gxyu*Gzyy + gzzu*gxyu*gxzu*Gzyz + gzzu*gxzu*gxxu*Gzxz + gzzu*gxzu*gxyu*Gzyz + gzzu*gxzu*gxzu*Gzzz + \n",
      "\n",
      "Gzxyu = gxzu*gxxu*gxyu*Gxxx + gxzu*gxxu*gyyu*Gxxy + gxzu*gxxu*gyzu*Gxxz + gxzu*gxyu*gxyu*Gxxy + gxzu*gxyu*gyyu*Gxyy + gxzu*gxyu*gyzu*Gxyz + gxzu*gxzu*gxyu*Gxxz + gxzu*gxzu*gyyu*Gxyz + gxzu*gxzu*gyzu*Gxzz + gyzu*gxxu*gxyu*Gyxx + gyzu*gxxu*gyyu*Gyxy + gyzu*gxxu*gyzu*Gyxz + gyzu*gxyu*gxyu*Gyxy + gyzu*gxyu*gyyu*Gyyy + gyzu*gxyu*gyzu*Gyyz + gyzu*gxzu*gxyu*Gyxz + gyzu*gxzu*gyyu*Gyyz + gyzu*gxzu*gyzu*Gyzz + gzzu*gxxu*gxyu*Gzxx + gzzu*gxxu*gyyu*Gzxy + gzzu*gxxu*gyzu*Gzxz + gzzu*gxyu*gxyu*Gzxy + gzzu*gxyu*gyyu*Gzyy + gzzu*gxyu*gyzu*Gzyz + gzzu*gxzu*gxyu*Gzxz + gzzu*gxzu*gyyu*Gzyz + gzzu*gxzu*gyzu*Gzzz + \n",
      "\n",
      "Gzxzu = gxzu*gxxu*gxzu*Gxxx + gxzu*gxxu*gyzu*Gxxy + gxzu*gxxu*gzzu*Gxxz + gxzu*gxyu*gxzu*Gxxy + gxzu*gxyu*gyzu*Gxyy + gxzu*gxyu*gzzu*Gxyz + gxzu*gxzu*gxzu*Gxxz + gxzu*gxzu*gyzu*Gxyz + gxzu*gxzu*gzzu*Gxzz + gyzu*gxxu*gxzu*Gyxx + gyzu*gxxu*gyzu*Gyxy + gyzu*gxxu*gzzu*Gyxz + gyzu*gxyu*gxzu*Gyxy + gyzu*gxyu*gyzu*Gyyy + gyzu*gxyu*gzzu*Gyyz + gyzu*gxzu*gxzu*Gyxz + gyzu*gxzu*gyzu*Gyyz + gyzu*gxzu*gzzu*Gyzz + gzzu*gxxu*gxzu*Gzxx + gzzu*gxxu*gyzu*Gzxy + gzzu*gxxu*gzzu*Gzxz + gzzu*gxyu*gxzu*Gzxy + gzzu*gxyu*gyzu*Gzyy + gzzu*gxyu*gzzu*Gzyz + gzzu*gxzu*gxzu*Gzxz + gzzu*gxzu*gyzu*Gzyz + gzzu*gxzu*gzzu*Gzzz + \n",
      "\n",
      "Gzyyu = gxzu*gxyu*gxyu*Gxxx + gxzu*gxyu*gyyu*Gxxy + gxzu*gxyu*gyzu*Gxxz + gxzu*gyyu*gxyu*Gxxy + gxzu*gyyu*gyyu*Gxyy + gxzu*gyyu*gyzu*Gxyz + gxzu*gyzu*gxyu*Gxxz + gxzu*gyzu*gyyu*Gxyz + gxzu*gyzu*gyzu*Gxzz + gyzu*gxyu*gxyu*Gyxx + gyzu*gxyu*gyyu*Gyxy + gyzu*gxyu*gyzu*Gyxz + gyzu*gyyu*gxyu*Gyxy + gyzu*gyyu*gyyu*Gyyy + gyzu*gyyu*gyzu*Gyyz + gyzu*gyzu*gxyu*Gyxz + gyzu*gyzu*gyyu*Gyyz + gyzu*gyzu*gyzu*Gyzz + gzzu*gxyu*gxyu*Gzxx + gzzu*gxyu*gyyu*Gzxy + gzzu*gxyu*gyzu*Gzxz + gzzu*gyyu*gxyu*Gzxy + gzzu*gyyu*gyyu*Gzyy + gzzu*gyyu*gyzu*Gzyz + gzzu*gyzu*gxyu*Gzxz + gzzu*gyzu*gyyu*Gzyz + gzzu*gyzu*gyzu*Gzzz + \n",
      "\n",
      "Gzyzu = gxzu*gxyu*gxzu*Gxxx + gxzu*gxyu*gyzu*Gxxy + gxzu*gxyu*gzzu*Gxxz + gxzu*gyyu*gxzu*Gxxy + gxzu*gyyu*gyzu*Gxyy + gxzu*gyyu*gzzu*Gxyz + gxzu*gyzu*gxzu*Gxxz + gxzu*gyzu*gyzu*Gxyz + gxzu*gyzu*gzzu*Gxzz + gyzu*gxyu*gxzu*Gyxx + gyzu*gxyu*gyzu*Gyxy + gyzu*gxyu*gzzu*Gyxz + gyzu*gyyu*gxzu*Gyxy + gyzu*gyyu*gyzu*Gyyy + gyzu*gyyu*gzzu*Gyyz + gyzu*gyzu*gxzu*Gyxz + gyzu*gyzu*gyzu*Gyyz + gyzu*gyzu*gzzu*Gyzz + gzzu*gxyu*gxzu*Gzxx + gzzu*gxyu*gyzu*Gzxy + gzzu*gxyu*gzzu*Gzxz + gzzu*gyyu*gxzu*Gzxy + gzzu*gyyu*gyzu*Gzyy + gzzu*gyyu*gzzu*Gzyz + gzzu*gyzu*gxzu*Gzxz + gzzu*gyzu*gyzu*Gzyz + gzzu*gyzu*gzzu*Gzzz + \n",
      "\n",
      "Gzzzu = gxzu*gxzu*gxzu*Gxxx + gxzu*gxzu*gyzu*Gxxy + gxzu*gxzu*gzzu*Gxxz + gxzu*gyzu*gxzu*Gxxy + gxzu*gyzu*gyzu*Gxyy + gxzu*gyzu*gzzu*Gxyz + gxzu*gzzu*gxzu*Gxxz + gxzu*gzzu*gyzu*Gxyz + gxzu*gzzu*gzzu*Gxzz + gyzu*gxzu*gxzu*Gyxx + gyzu*gxzu*gyzu*Gyxy + gyzu*gxzu*gzzu*Gyxz + gyzu*gyzu*gxzu*Gyxy + gyzu*gyzu*gyzu*Gyyy + gyzu*gyzu*gzzu*Gyyz + gyzu*gzzu*gxzu*Gyxz + gyzu*gzzu*gyzu*Gyyz + gyzu*gzzu*gzzu*Gyzz + gzzu*gxzu*gxzu*Gzxx + gzzu*gxzu*gyzu*Gzxy + gzzu*gxzu*gzzu*Gzxz + gzzu*gyzu*gxzu*Gzxy + gzzu*gyzu*gyzu*Gzyy + gzzu*gyzu*gzzu*Gzyz + gzzu*gzzu*gxzu*Gzxz + gzzu*gzzu*gyzu*Gzyz + gzzu*gzzu*gzzu*Gzzz + \n",
      "\n"
     ]
    }
   ],
   "source": [
    "i = coords[3]\n",
    "ddone = []\n",
    "for j in coords[1:]:\n",
    "    for k in coords[1:]:\n",
    "        jk = swap_indice(j+k)\n",
    "        if jk not in ddone:\n",
    "            expression = 'G'+i+jk+'u = '\n",
    "            for l in coords[1:]:\n",
    "                for m in coords[1:]:\n",
    "                    for n in coords[1:]:\n",
    "                        il = swap_indice(i+l)\n",
    "                        jm = swap_indice(j+m)\n",
    "                        kn = swap_indice(k+n)\n",
    "                        mn = swap_indice(m+n)\n",
    "                        expression += 'g'+il+'u*g'+jm+'u*g'+kn+'u*G'+l+mn+' + '\n",
    "            ddone += [jk]\n",
    "            print(expression)\n",
    "            print()"
   ]
  },
  {
   "cell_type": "code",
   "execution_count": 10,
   "id": "2f238f95",
   "metadata": {},
   "outputs": [
    {
     "name": "stdout",
     "output_type": "stream",
     "text": [
      "G = Gxxxu*Gxxx + Gxxyu*Gxxy + Gxxzu*Gxxz + Gxxyu*Gyxx + Gxyyu*Gyxy + Gxyzu*Gyxz + Gxxzu*Gzxx + Gxyzu*Gzxy + Gxzzu*Gzxz + Gyxxu*Gxxy + Gyxyu*Gxyy + Gyxzu*Gxyz + Gyxyu*Gyxy + Gyyyu*Gyyy + Gyyzu*Gyyz + Gyxzu*Gzxy + Gyyzu*Gzyy + Gyzzu*Gzyz + Gzxxu*Gxxz + Gzxyu*Gxyz + Gzxzu*Gxzz + Gzxyu*Gyxz + Gzyyu*Gyyz + Gzyzu*Gyzz + Gzxzu*Gzxz + Gzyzu*Gzyz + Gzzzu*Gzzz + \n"
     ]
    }
   ],
   "source": [
    "expression = 'G = '\n",
    "for i in coords[1:]:\n",
    "    for j in coords[1:]:\n",
    "        for k in coords[1:]:\n",
    "            jk = swap_indice(j+k)\n",
    "            ki = swap_indice(k+i)\n",
    "            expression += 'G'+i+jk+'u*G'+j+ki+' + '\n",
    "print(expression)"
   ]
  },
  {
   "cell_type": "code",
   "execution_count": 16,
   "id": "c007a817",
   "metadata": {},
   "outputs": [
    {
     "data": {
      "text/plain": [
       "'R1kl = dxgxxu*Gxkl + gxxu*dxGxkl + dxgxyu*Gykl + gxyu*dxGykl + dxgxzu*Gzkl + gxzu*dxGzkl + dygxyu*Gxkl + gxyu*dyGxkl + dygyyu*Gykl + gyyu*dyGykl + dygyzu*Gzkl + gyzu*dyGzkl + dzgxzu*Gxkl + gxzu*dzGxkl + dzgyzu*Gykl + gyzu*dzGykl + dzgzzu*Gzkl + gzzu*dzGzkl + '"
      ]
     },
     "execution_count": 16,
     "metadata": {},
     "output_type": "execute_result"
    }
   ],
   "source": [
    "kl = 'kl'\n",
    "expression = 'dG'+kl+' = '\n",
    "for i in coords[1:]:\n",
    "    for m in coords[1:]:\n",
    "        im = swap_indice(i+m)\n",
    "        expression += 'd'+i+'g'+im+'u*G'+m+kl+' + g'+im+'u*d'+i+'G'+m+kl+' + '\n",
    "\n",
    "expression"
   ]
  },
  {
   "cell_type": "code",
   "execution_count": 18,
   "id": "25a8d5d4",
   "metadata": {},
   "outputs": [
    {
     "name": "stdout",
     "output_type": "stream",
     "text": [
      "dxGnxn = dxgxxu*Gxxx + gxxu*dxGxxx + dxgxyu*Gyxx + gxyu*dxGyxx + dxgxzu*Gzxx + gxzu*dxGzxx + dxgxyu*Gxxy + gxyu*dxGxxy + dxgyyu*Gyxy + gyyu*dxGyxy + dxgyzu*Gzxy + gyzu*dxGzxy + dxgxzu*Gxxz + gxzu*dxGxxz + dxgyzu*Gyxz + gyzu*dxGyxz + dxgzzu*Gzxz + gzzu*dxGzxz + \n",
      "\n",
      "dxGnyn = dxgxxu*Gxxy + gxxu*dxGxxy + dxgxyu*Gyxy + gxyu*dxGyxy + dxgxzu*Gzxy + gxzu*dxGzxy + dxgxyu*Gxyy + gxyu*dxGxyy + dxgyyu*Gyyy + gyyu*dxGyyy + dxgyzu*Gzyy + gyzu*dxGzyy + dxgxzu*Gxyz + gxzu*dxGxyz + dxgyzu*Gyyz + gyzu*dxGyyz + dxgzzu*Gzyz + gzzu*dxGzyz + \n",
      "\n",
      "dxGnzn = dxgxxu*Gxxz + gxxu*dxGxxz + dxgxyu*Gyxz + gxyu*dxGyxz + dxgxzu*Gzxz + gxzu*dxGzxz + dxgxyu*Gxyz + gxyu*dxGxyz + dxgyyu*Gyyz + gyyu*dxGyyz + dxgyzu*Gzyz + gyzu*dxGzyz + dxgxzu*Gxzz + gxzu*dxGxzz + dxgyzu*Gyzz + gyzu*dxGyzz + dxgzzu*Gzzz + gzzu*dxGzzz + \n",
      "\n",
      "dyGnxn = dygxxu*Gxxx + gxxu*dyGxxx + dygxyu*Gyxx + gxyu*dyGyxx + dygxzu*Gzxx + gxzu*dyGzxx + dygxyu*Gxxy + gxyu*dyGxxy + dygyyu*Gyxy + gyyu*dyGyxy + dygyzu*Gzxy + gyzu*dyGzxy + dygxzu*Gxxz + gxzu*dyGxxz + dygyzu*Gyxz + gyzu*dyGyxz + dygzzu*Gzxz + gzzu*dyGzxz + \n",
      "\n",
      "dyGnyn = dygxxu*Gxxy + gxxu*dyGxxy + dygxyu*Gyxy + gxyu*dyGyxy + dygxzu*Gzxy + gxzu*dyGzxy + dygxyu*Gxyy + gxyu*dyGxyy + dygyyu*Gyyy + gyyu*dyGyyy + dygyzu*Gzyy + gyzu*dyGzyy + dygxzu*Gxyz + gxzu*dyGxyz + dygyzu*Gyyz + gyzu*dyGyyz + dygzzu*Gzyz + gzzu*dyGzyz + \n",
      "\n",
      "dyGnzn = dygxxu*Gxxz + gxxu*dyGxxz + dygxyu*Gyxz + gxyu*dyGyxz + dygxzu*Gzxz + gxzu*dyGzxz + dygxyu*Gxyz + gxyu*dyGxyz + dygyyu*Gyyz + gyyu*dyGyyz + dygyzu*Gzyz + gyzu*dyGzyz + dygxzu*Gxzz + gxzu*dyGxzz + dygyzu*Gyzz + gyzu*dyGyzz + dygzzu*Gzzz + gzzu*dyGzzz + \n",
      "\n",
      "dzGnxn = dzgxxu*Gxxx + gxxu*dzGxxx + dzgxyu*Gyxx + gxyu*dzGyxx + dzgxzu*Gzxx + gxzu*dzGzxx + dzgxyu*Gxxy + gxyu*dzGxxy + dzgyyu*Gyxy + gyyu*dzGyxy + dzgyzu*Gzxy + gyzu*dzGzxy + dzgxzu*Gxxz + gxzu*dzGxxz + dzgyzu*Gyxz + gyzu*dzGyxz + dzgzzu*Gzxz + gzzu*dzGzxz + \n",
      "\n",
      "dzGnyn = dzgxxu*Gxxy + gxxu*dzGxxy + dzgxyu*Gyxy + gxyu*dzGyxy + dzgxzu*Gzxy + gxzu*dzGzxy + dzgxyu*Gxyy + gxyu*dzGxyy + dzgyyu*Gyyy + gyyu*dzGyyy + dzgyzu*Gzyy + gyzu*dzGzyy + dzgxzu*Gxyz + gxzu*dzGxyz + dzgyzu*Gyyz + gyzu*dzGyyz + dzgzzu*Gzyz + gzzu*dzGzyz + \n",
      "\n",
      "dzGnzn = dzgxxu*Gxxz + gxxu*dzGxxz + dzgxyu*Gyxz + gxyu*dzGyxz + dzgxzu*Gzxz + gxzu*dzGzxz + dzgxyu*Gxyz + gxyu*dzGxyz + dzgyyu*Gyyz + gyyu*dzGyyz + dzgyzu*Gzyz + gyzu*dzGzyz + dzgxzu*Gxzz + gxzu*dzGxzz + dzgyzu*Gyzz + gyzu*dzGyzz + dzgzzu*Gzzz + gzzu*dzGzzz + \n",
      "\n"
     ]
    }
   ],
   "source": [
    "for l in coords[1:]:\n",
    "    for k in coords[1:]:\n",
    "        expression = 'd'+l+'Gn'+k+'n = '\n",
    "        for i in coords[1:]:\n",
    "            for j in coords[1:]:\n",
    "                ij = swap_indice(i+j)\n",
    "                ki = swap_indice(k+i)\n",
    "                expression += 'd'+l+'g'+ij+'u*G'+j+ki+' + g'+ij+'u*d'+l+'G'+j+ki+' + '\n",
    "        print(expression)\n",
    "        print()"
   ]
  },
  {
   "cell_type": "code",
   "execution_count": null,
   "id": "f8f8010f",
   "metadata": {},
   "outputs": [],
   "source": []
  }
 ],
 "metadata": {
  "kernelspec": {
   "display_name": "Python 3",
   "language": "python",
   "name": "python3"
  },
  "language_info": {
   "codemirror_mode": {
    "name": "ipython",
    "version": 3
   },
   "file_extension": ".py",
   "mimetype": "text/x-python",
   "name": "python",
   "nbconvert_exporter": "python",
   "pygments_lexer": "ipython3",
   "version": "3.8.8"
  }
 },
 "nbformat": 4,
 "nbformat_minor": 5
}
