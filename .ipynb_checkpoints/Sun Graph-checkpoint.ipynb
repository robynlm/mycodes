{
 "cells": [
  {
   "cell_type": "code",
   "execution_count": 1,
   "metadata": {},
   "outputs": [],
   "source": [
    "import numpy as np"
   ]
  },
  {
   "cell_type": "code",
   "execution_count": 20,
   "metadata": {},
   "outputs": [
    {
     "name": "stdout",
     "output_type": "stream",
     "text": [
      "117.52803899838682\n",
      "124.41131765051665\n"
     ]
    }
   ],
   "source": [
    "# Location information\n",
    "phi = 50.805832 * (np.pi/180) # latitude\n",
    "lambda_hour = phi / 15 # latitude in hours\n",
    "\n",
    "\n",
    "\n",
    "# date \n",
    "day = 27\n",
    "month = 3\n",
    "allmonths = {1:31, 2:28, 3:31}\n",
    "n = sum ( v for k, v in allmonths.items() if k < month ) + day\n",
    "t_sunrise = n + (6 - lambda_hour) / 24 # day number\n",
    "t_sunset = n + (18 - lambda_hour) / 24 # day number\n",
    "\n",
    "for t in [t_sunrise, t_sunset]:\n",
    "    z = np.pi / 2 # angle of the sun below the horizon\n",
    "    M = 0.9856 * t - 3.289 # sun's mean anomaly\n",
    "    L = (M \n",
    "         + 1.916 * np.sin(M) \n",
    "         + 0.02 * np.sin(2 * M) \n",
    "         + 282.634) # true latitue of the sun\n",
    "    delta =  np.arcsin(0.39872 * np.sin(L)) # sun's declination angle\n",
    "    RA = (np.arctan(0.91764 * np.tan(L)) \n",
    "          + (L %90) \n",
    "          - (np.arctan(0.91764 * np.tan(L)) % 90)) / 15 # sun's right ascension\n",
    "    \n",
    "    n = np.cos(z) - np.sin(delta) * np.sin(phi)\n",
    "    d = np.cos(delta)*np.cos(phi)\n",
    "    w = np.arccos(n/d)\n",
    "    \n",
    "    T = (w / 15) + RA - (0.06571 * t) - 6.622\n",
    "    Tlocal = T - lambda_hour + t*z\n",
    "    print(Tlocal)"
   ]
  },
  {
   "cell_type": "code",
   "execution_count": null,
   "metadata": {},
   "outputs": [],
   "source": []
  }
 ],
 "metadata": {
  "kernelspec": {
   "display_name": "Python 3",
   "language": "python",
   "name": "python3"
  },
  "language_info": {
   "codemirror_mode": {
    "name": "ipython",
    "version": 3
   },
   "file_extension": ".py",
   "mimetype": "text/x-python",
   "name": "python",
   "nbconvert_exporter": "python",
   "pygments_lexer": "ipython3",
   "version": "3.7.4"
  }
 },
 "nbformat": 4,
 "nbformat_minor": 2
}
