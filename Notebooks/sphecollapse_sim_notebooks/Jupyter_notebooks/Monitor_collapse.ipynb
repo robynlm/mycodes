{
 "cells": [
  {
   "cell_type": "code",
   "execution_count": 1,
   "metadata": {},
   "outputs": [],
   "source": [
    "import numpy as np\n",
    "import matplotlib.pyplot as plt\n",
    "from data_analysis_codes.tools import PlottingTools as RPlot\n",
    "from data_analysis_codes.tools import ReadingTools as RRead\n",
    "from data_analysis_codes import param\n",
    "from data_analysis_codes.tools import Cstyle\n",
    "from data_analysis_codes.tools import LinData\n",
    "plt.style.use(Cstyle.style1)\n",
    "import time\n",
    "import h5py\n",
    "from matplotlib import gridspec\n",
    "from data_analysis_codes.tools import ODUDLoc\n",
    "import pandas as pd\n",
    "from data_analysis_codes.tools import TAradius\n",
    "from data_analysis_codes.tools import GetVars_Plot2d as GVar\n",
    "from IPython.display import display, Math"
   ]
  },
  {
   "cell_type": "code",
   "execution_count": 2,
   "metadata": {},
   "outputs": [],
   "source": [
    "def collect(p, zevars):\n",
    "    pd = RPlot.getdata(p, zevars)\n",
    "    e = RPlot.geterror(p, 'h5', zevars)\n",
    "    Lin = LinData.LinData_Class(p, '/home/robynm/simulations/'+p.sim_name+'/')\n",
    "    return {'param':p, 'data':pd, 'error':e, 'lin':Lin}"
   ]
  },
  {
   "cell_type": "code",
   "execution_count": 3,
   "metadata": {},
   "outputs": [
    {
     "name": "stdout",
     "output_type": "stream",
     "text": [
      " read time file\n"
     ]
    }
   ],
   "source": [
    "V=['a_OD', 'a_avvol', 'dK_OD', 'drho_OD']\n",
    "p_EdS = collect(param.pflrw_d3e2_L1821_t1_N128_LCDM(), V)"
   ]
  },
  {
   "cell_type": "code",
   "execution_count": 4,
   "metadata": {},
   "outputs": [
    {
     "name": "stdout",
     "output_type": "stream",
     "text": [
      "INITIALLY\n"
     ]
    },
    {
     "data": {
      "text/latex": [
       "$\\displaystyle z_{IN} = 3.0253e+02$"
      ],
      "text/plain": [
       "<IPython.core.display.Math object>"
      ]
     },
     "metadata": {},
     "output_type": "display_data"
    },
    {
     "data": {
      "text/latex": [
       "$\\displaystyle \\lambda_{pert} = 1.8210e+03$"
      ],
      "text/plain": [
       "<IPython.core.display.Math object>"
      ]
     },
     "metadata": {},
     "output_type": "display_data"
    },
    {
     "data": {
      "text/latex": [
       "$\\displaystyle \\delta = 0.0300000000$"
      ],
      "text/plain": [
       "<IPython.core.display.Math object>"
      ]
     },
     "metadata": {},
     "output_type": "display_data"
    },
    {
     "data": {
      "text/latex": [
       "$\\displaystyle dt = 8.536e-03$"
      ],
      "text/plain": [
       "<IPython.core.display.Math object>"
      ]
     },
     "metadata": {},
     "output_type": "display_data"
    },
    {
     "name": "stdout",
     "output_type": "stream",
     "text": [
      "\n",
      " AT TURN AROUND\n"
     ]
    },
    {
     "data": {
      "text/latex": [
       "$\\displaystyle a/a_{IN} = 35.166355248, \\;\\;\\;  35.2624$"
      ],
      "text/plain": [
       "<IPython.core.display.Math object>"
      ]
     },
     "metadata": {},
     "output_type": "display_data"
    },
    {
     "data": {
      "text/latex": [
       "$\\displaystyle a_{OD}/a_{OD,\\;IN} = 20.059973246, \\;\\;\\;  20.0599$"
      ],
      "text/plain": [
       "<IPython.core.display.Math object>"
      ]
     },
     "metadata": {},
     "output_type": "display_data"
    },
    {
     "data": {
      "text/latex": [
       "$\\displaystyle \\langle a\\rangle_{\\mathcal{D}}/\\langle a\\rangle_{\\mathcal{D}, IN} = 35.125486587, \\;\\;\\;  35.2213$"
      ],
      "text/plain": [
       "<IPython.core.display.Math object>"
      ]
     },
     "metadata": {},
     "output_type": "display_data"
    },
    {
     "data": {
      "text/latex": [
       "$\\displaystyle \\delta^{(1)} = 1.0549906574, \\;\\;\\;  1.0579$"
      ],
      "text/plain": [
       "<IPython.core.display.Math object>"
      ]
     },
     "metadata": {},
     "output_type": "display_data"
    },
    {
     "data": {
      "text/latex": [
       "$\\displaystyle \\delta = 4.5491728569, \\;\\;\\;  4.5948$"
      ],
      "text/plain": [
       "<IPython.core.display.Math object>"
      ]
     },
     "metadata": {},
     "output_type": "display_data"
    },
    {
     "data": {
      "text/latex": [
       "$\\displaystyle \\delta K = -0.9978, \\;\\;\\;  -1.0053$"
      ],
      "text/plain": [
       "<IPython.core.display.Math object>"
      ]
     },
     "metadata": {},
     "output_type": "display_data"
    },
    {
     "name": "stdout",
     "output_type": "stream",
     "text": [
      "\n",
      " RIGHT BEFORE CRASH\n"
     ]
    },
    {
     "data": {
      "text/latex": [
       "$\\displaystyle \\delta = 422548.2622585423$"
      ],
      "text/plain": [
       "<IPython.core.display.Math object>"
      ]
     },
     "metadata": {},
     "output_type": "display_data"
    },
    {
     "data": {
      "text/latex": [
       "$\\displaystyle \\delta^{(1)} = 1.6761872080$"
      ],
      "text/plain": [
       "<IPython.core.display.Math object>"
      ]
     },
     "metadata": {},
     "output_type": "display_data"
    },
    {
     "data": {
      "text/latex": [
       "$\\displaystyle a/a_{IN} = 55.8729069$"
      ],
      "text/plain": [
       "<IPython.core.display.Math object>"
      ]
     },
     "metadata": {},
     "output_type": "display_data"
    },
    {
     "data": {
      "text/latex": [
       "$\\displaystyle a_{OD}/a_{OD,\\;IN} = 1.3077534$"
      ],
      "text/plain": [
       "<IPython.core.display.Math object>"
      ]
     },
     "metadata": {},
     "output_type": "display_data"
    },
    {
     "data": {
      "text/latex": [
       "$\\displaystyle \\langle a\\rangle_{\\mathcal{D}}/\\langle a\\rangle_{\\mathcal{D}, IN} = 55.6932941$"
      ],
      "text/plain": [
       "<IPython.core.display.Math object>"
      ]
     },
     "metadata": {},
     "output_type": "display_data"
    },
    {
     "data": {
      "text/latex": [
       "$\\displaystyle \\delta K = -634.4434$"
      ],
      "text/plain": [
       "<IPython.core.display.Math object>"
      ]
     },
     "metadata": {},
     "output_type": "display_data"
    }
   ],
   "source": [
    "d = p_EdS['data']['drho_OD']\n",
    "dlin = p_EdS['lin'].drho('h5', 'OD')\n",
    "an = p_EdS['data']['an']\n",
    "aOD = p_EdS['data']['a_OD']\n",
    "anOD = aOD/aOD[0]\n",
    "aD = p_EdS['data']['a_avvol']\n",
    "anD = aD/aD[0]\n",
    "dK = p_EdS['data']['dK_OD']\n",
    "\n",
    "print('INITIALLY')\n",
    "display(Math(r'z_{IN}'+' = {:.4e}'.format(p_EdS['data']['z'][0])))\n",
    "display(Math(r'\\lambda_{pert}'+' = {:.4e}'.format(p_EdS['param'].lambda_pert)))\n",
    "display(Math(r'\\delta = {:.10f}'.format(d[0])))\n",
    "display(Math(r'dt = {:.3e}'.format(p_EdS['param'].dtfac*p_EdS['param'].dx)))\n",
    "\n",
    "print('\\n AT TURN AROUND')\n",
    "iTA = np.argmin(abs(dK+1)[:-1])\n",
    "display(Math(r'a/a_{IN}'+' = {:.9f}, \\;\\;\\;  {:.4f}'.format(an[iTA], an[iTA+1])))\n",
    "display(Math(r'a_{OD}/a_{OD,\\;IN}'+' = {:.9f}, \\;\\;\\;  {:.4f}'.format(anOD[iTA], anOD[iTA+1])))\n",
    "display(Math(r'\\langle a\\rangle_{\\mathcal{D}}/\\langle a\\rangle_{\\mathcal{D}, IN}'+' = {:.9f}, \\;\\;\\;  {:.4f}'.format(anD[iTA], anD[iTA+1])))\n",
    "display(Math(r'\\delta^{(1)}'+' = {:.10f}, \\;\\;\\;  {:.4f}'.format(dlin[iTA], dlin[iTA+1])))\n",
    "display(Math(r'\\delta = {:.10f}, \\;\\;\\;  {:.4f}'.format(d[iTA], d[iTA+1])))\n",
    "display(Math(r'\\delta K = {:.4f}, \\;\\;\\;  {:.4f}'.format(dK[iTA], dK[iTA+1])))\n",
    "\n",
    "\n",
    "print('\\n RIGHT BEFORE CRASH')\n",
    "display(Math(r'\\delta = {:.10f}'.format(d[-1])))\n",
    "display(Math(r'\\delta^{(1)}'+' = {:.10f}'.format(dlin[-1])))\n",
    "display(Math(r'a/a_{IN}'+' = {:.9}'.format(an[-1])))\n",
    "display(Math(r'a_{OD}/a_{OD,\\;IN}'+' = {:.9}'.format(anOD[-2])))\n",
    "display(Math(r'\\langle a\\rangle_{\\mathcal{D}}/\\langle a\\rangle_{\\mathcal{D}, IN}'+' = {:.9}'.format(anD[-2])))\n",
    "display(Math(r'\\delta K = {:.4f}'.format(dK[-1])))"
   ]
  },
  {
   "cell_type": "code",
   "execution_count": 5,
   "metadata": {},
   "outputs": [],
   "source": [
    "def lin_fit(x, y, i, x_final):\n",
    "    a = (y[i]-y[i+1])/(x[i]-x[i+1])\n",
    "    b = y[i]-x[i]*a\n",
    "    return a*x_final+b"
   ]
  },
  {
   "cell_type": "code",
   "execution_count": 6,
   "metadata": {},
   "outputs": [
    {
     "name": "stdout",
     "output_type": "stream",
     "text": [
      "\n",
      " AT TURN AROUND\n"
     ]
    },
    {
     "data": {
      "text/latex": [
       "$\\displaystyle a/a_{IN} = 35.194574870$"
      ],
      "text/plain": [
       "<IPython.core.display.Math object>"
      ]
     },
     "metadata": {},
     "output_type": "display_data"
    },
    {
     "data": {
      "text/latex": [
       "$\\displaystyle a_{OD}/a_{OD,\\;IN} = 20.059948271$"
      ],
      "text/plain": [
       "<IPython.core.display.Math object>"
      ]
     },
     "metadata": {},
     "output_type": "display_data"
    },
    {
     "data": {
      "text/latex": [
       "$\\displaystyle \\langle a\\rangle_{\\mathcal{D}}/\\langle a\\rangle_{\\mathcal{D}, IN} = 35.153640994$"
      ],
      "text/plain": [
       "<IPython.core.display.Math object>"
      ]
     },
     "metadata": {},
     "output_type": "display_data"
    },
    {
     "data": {
      "text/latex": [
       "$\\displaystyle \\delta^{(1)} = 1.0558372461$"
      ],
      "text/plain": [
       "<IPython.core.display.Math object>"
      ]
     },
     "metadata": {},
     "output_type": "display_data"
    },
    {
     "data": {
      "text/latex": [
       "$\\displaystyle \\delta = 4.5625892592$"
      ],
      "text/plain": [
       "<IPython.core.display.Math object>"
      ]
     },
     "metadata": {},
     "output_type": "display_data"
    },
    {
     "data": {
      "text/latex": [
       "$\\displaystyle \\delta K = -1.0000$"
      ],
      "text/plain": [
       "<IPython.core.display.Math object>"
      ]
     },
     "metadata": {},
     "output_type": "display_data"
    }
   ],
   "source": [
    "print('\\n AT TURN AROUND')\n",
    "anF = np.arange(35.19, 35.25, 1e-8)\n",
    "anOD_fit = lin_fit(an, anOD, iTA, anF)\n",
    "anD_fit = lin_fit(an, anD, iTA, anF)\n",
    "dK_fit = lin_fit(an, dK, iTA, anF)\n",
    "iTA_fit = np.argmin(abs(dK_fit+1))\n",
    "d_fit = lin_fit(an, d, iTA, anF)\n",
    "dlin_fit = lin_fit(an, dlin, iTA, anF)\n",
    "\n",
    "display(Math(r'a/a_{IN}'+' = {:.9f}'.format(anF[iTA_fit])))\n",
    "display(Math(r'a_{OD}/a_{OD,\\;IN}'+' = {:.9f}'.format(anOD_fit[iTA_fit])))\n",
    "display(Math(r'\\langle a\\rangle_{\\mathcal{D}}/\\langle a\\rangle_{\\mathcal{D}, IN}'+' = {:.9f}'.format(anD_fit[iTA_fit])))\n",
    "display(Math(r'\\delta^{(1)}'+' = {:.10f}'.format(dlin_fit[iTA_fit])))\n",
    "display(Math(r'\\delta = {:.10f}'.format(d_fit[iTA_fit])))\n",
    "display(Math(r'\\delta K = {:.4f}'.format(dK_fit[iTA_fit])))"
   ]
  },
  {
   "cell_type": "code",
   "execution_count": 7,
   "metadata": {},
   "outputs": [
    {
     "data": {
      "text/plain": [
       "Text(0.5, 0, '$a/a_{IN}$')"
      ]
     },
     "execution_count": 7,
     "metadata": {},
     "output_type": "execute_result"
    },
    {
     "name": "stderr",
     "output_type": "stream",
     "text": [
      "/home/robynm/anaconda3/lib/python3.7/site-packages/IPython/core/pylabtools.py:128: UserWarning: Creating legend with loc=\"best\" can be slow with large amounts of data.\n",
      "  fig.canvas.print_figure(bytes_io, **kw)\n"
     ]
    },
    {
     "data": {
      "image/png": "[encoded data removed]",
      "text/plain": [
       "<Figure size 576x432 with 1 Axes>"
      ]
     },
     "metadata": {
      "needs_background": "light"
     },
     "output_type": "display_data"
    }
   ],
   "source": [
    "plt.plot(an, d, marker='o', label=r'$\\delta_{OD}$ data')\n",
    "plt.plot(anF, d_fit, label=r'$\\delta_{OD}$ fit')\n",
    "#plt.plot(an, dK)\n",
    "plt.xlim(min(anF)*0.99, max(anF)*1.01)\n",
    "plt.ylim(min(d_fit)*0.99, max(d_fit)*1.01)\n",
    "plt.axvline(x=anF[iTA_fit], color='k', label='Turn Around')\n",
    "plt.legend()\n",
    "plt.grid()\n",
    "plt.xlabel(r'$a/a_{IN}$')"
   ]
  },
  {
   "cell_type": "code",
   "execution_count": 8,
   "metadata": {},
   "outputs": [
    {
     "data": {
      "text/plain": [
       "Text(0.5, 0, '$a/a_{IN}$')"
      ]
     },
     "execution_count": 8,
     "metadata": {},
     "output_type": "execute_result"
    },
    {
     "name": "stderr",
     "output_type": "stream",
     "text": [
      "/home/robynm/anaconda3/lib/python3.7/site-packages/IPython/core/pylabtools.py:128: UserWarning: Creating legend with loc=\"best\" can be slow with large amounts of data.\n",
      "  fig.canvas.print_figure(bytes_io, **kw)\n"
     ]
    },
    {
     "data": {
      "image/png": "[encoded data removed]",
      "text/plain": [
       "<Figure size 576x432 with 1 Axes>"
      ]
     },
     "metadata": {
      "needs_background": "light"
     },
     "output_type": "display_data"
    }
   ],
   "source": [
    "plt.plot(an, dK, marker='o', label=r'$\\delta K_{OD}$ data')\n",
    "plt.plot(anF, dK_fit, label=r'$\\delta K_{OD}$ fit')\n",
    "#plt.plot(an, dK)\n",
    "plt.xlim(min(anF)*0.99, max(anF)*1.01)\n",
    "plt.ylim(min(dK_fit)*0.99, max(dK_fit)*1.01)\n",
    "plt.axvline(x=anF[iTA_fit], color='k', label='Turn Around')\n",
    "plt.legend()\n",
    "plt.grid()\n",
    "plt.xlabel(r'$a/a_{IN}$')"
   ]
  },
  {
   "cell_type": "code",
   "execution_count": 9,
   "metadata": {},
   "outputs": [
    {
     "data": {
      "text/plain": [
       "(35.333333333333336, 35.24333333333333)"
      ]
     },
     "execution_count": 9,
     "metadata": {},
     "output_type": "execute_result"
    }
   ],
   "source": [
    "1.06/0.03, 1.0573/0.03"
   ]
  },
  {
   "cell_type": "code",
   "execution_count": 10,
   "metadata": {},
   "outputs": [
    {
     "data": {
      "text/plain": [
       "-0.25471698113208596"
      ]
     },
     "execution_count": 10,
     "metadata": {},
     "output_type": "execute_result"
    }
   ],
   "source": [
    "100*(1.0573/1.06-1)"
   ]
  },
  {
   "cell_type": "code",
   "execution_count": 11,
   "metadata": {},
   "outputs": [
    {
     "name": "stdout",
     "output_type": "stream",
     "text": [
      "Top Hat\n"
     ]
    },
    {
     "ename": "NameError",
     "evalue": "name 'pd0' is not defined",
     "output_type": "error",
     "traceback": [
      "\u001b[0;31m---------------------------------------------------------------------------\u001b[0m",
      "\u001b[0;31mNameError\u001b[0m                                 Traceback (most recent call last)",
      "\u001b[0;32m<ipython-input-11-6117316d2b8a>\u001b[0m in \u001b[0;36m<module>\u001b[0;34m\u001b[0m\n\u001b[1;32m      1\u001b[0m \u001b[0mprint\u001b[0m\u001b[0;34m(\u001b[0m\u001b[0;34m'Top Hat'\u001b[0m\u001b[0;34m)\u001b[0m\u001b[0;34m\u001b[0m\u001b[0;34m\u001b[0m\u001b[0m\n\u001b[1;32m      2\u001b[0m \u001b[0;34m\u001b[0m\u001b[0m\n\u001b[0;32m----> 3\u001b[0;31m \u001b[0mprint\u001b[0m\u001b[0;34m(\u001b[0m\u001b[0;34m'TA='\u001b[0m\u001b[0;34m,\u001b[0m \u001b[0;36m1.06\u001b[0m\u001b[0;34m/\u001b[0m\u001b[0mpd0\u001b[0m\u001b[0;34m[\u001b[0m\u001b[0;34m'drho_'\u001b[0m\u001b[0;34m+\u001b[0m\u001b[0mloc\u001b[0m\u001b[0;34m]\u001b[0m\u001b[0;34m[\u001b[0m\u001b[0;36m0\u001b[0m\u001b[0;34m]\u001b[0m\u001b[0;34m)\u001b[0m\u001b[0;34m\u001b[0m\u001b[0;34m\u001b[0m\u001b[0m\n\u001b[0m\u001b[1;32m      4\u001b[0m \u001b[0mprint\u001b[0m\u001b[0;34m(\u001b[0m\u001b[0;34m'V='\u001b[0m\u001b[0;34m,\u001b[0m \u001b[0;36m1.68\u001b[0m\u001b[0;34m/\u001b[0m\u001b[0mpd0\u001b[0m\u001b[0;34m[\u001b[0m\u001b[0;34m'drho_'\u001b[0m\u001b[0;34m+\u001b[0m\u001b[0mloc\u001b[0m\u001b[0;34m]\u001b[0m\u001b[0;34m[\u001b[0m\u001b[0;36m0\u001b[0m\u001b[0;34m]\u001b[0m\u001b[0;34m)\u001b[0m\u001b[0;34m\u001b[0m\u001b[0;34m\u001b[0m\u001b[0m\n",
      "\u001b[0;31mNameError\u001b[0m: name 'pd0' is not defined"
     ]
    }
   ],
   "source": [
    "print('Top Hat')\n",
    "\n",
    "print('TA=', 1.06/pd0['drho_'+loc][0])\n",
    "print('V=', 1.68/pd0['drho_'+loc][0])"
   ]
  },
  {
   "cell_type": "code",
   "execution_count": null,
   "metadata": {},
   "outputs": [],
   "source": [
    "print('At OD Turn Around')\n",
    "loc = 'OD'\n",
    "\"\"\"i=0\n",
    "while rmax[i]==rmax[0]:\n",
    "    anTA = an[i]\n",
    "    i +=1\"\"\"\n",
    "\n",
    "print(pd0['drho_'+loc][0])\n",
    "\n",
    "itTA = np.argmin(abs(pd0['K_'+loc][:-1]))\n",
    "#itTA = int(Lin.temp_from_temp('it', 't', 209.74))\n",
    "#print(itTA)\n",
    "anTA = pd0['an'][itTA]\n",
    "print('a/aIN = {}'.format(anTA))\n",
    "\n",
    "tTA = Lin.temp_from_temp('t', 'an', anTA)\n",
    "print('t     = {:.2f}'.format(tTA))\n",
    "print('dt     = {}'.format(tTA-p.t_initial))\n",
    "\n",
    "d1TA = Lin.delta(tTA, loc=loc)\n",
    "print('delta linear = {}'.format(d1TA))\n",
    "print('delta linear = {}'.format(pd0['drho_'+loc][0]*anTA))\n",
    "\n",
    "dfTA = pd0['drho_'+loc][itTA]\n",
    "print('delta full   = {}'.format(dfTA))"
   ]
  },
  {
   "cell_type": "code",
   "execution_count": null,
   "metadata": {},
   "outputs": [],
   "source": [
    "print('At OD Virialisation')\n",
    "\n",
    "tV = 2*tTA\n",
    "\n",
    "anV = Lin.temp_from_temp('an', 't', tV)\n",
    "print('a/aIN = {:.2f}'.format(anV))\n",
    "print('t     = {:.2f}'.format(tV))\n",
    "print('dt     = {:.2f}'.format(tV-p.t_initial))\n",
    "\n",
    "d1V = Lin.delta(tV, loc='OD')\n",
    "print('delta linear = {}'.format(d1V))\n",
    "print('delta linear = {}'.format(pd0['drho_'+loc][0]*anV))\n",
    "\n",
    "itV = np.argmin(abs(pd0['an'][:-1]-anV))\n",
    "dfV = pd0['drho_OD'][itV]\n",
    "print('delta full   = {:.2f}'.format(dfV))"
   ]
  },
  {
   "cell_type": "code",
   "execution_count": null,
   "metadata": {},
   "outputs": [],
   "source": [
    "print('At crash')\n",
    "tC = pd0['t'][-1]\n",
    "\n",
    "anC = Lin.temp_from_temp('an', 't', tC)\n",
    "print('a/aIN = {}'.format(anC))\n",
    "print('t     = {:.2f}'.format(tC))\n",
    "print('dt     = {}'.format(tC-p.t_initial))\n",
    "\n",
    "d1C = Lin.delta(tC, loc=loc)\n",
    "print('delta linear = {:.2f}'.format(d1C))\n",
    "print('delta linear = {}'.format(pd0['drho_'+loc][0]*anC))\n",
    "\n",
    "itC = np.argmin(abs(pd0['an'][:-1]-anC))\n",
    "dfC = pd0['drho_'+loc][-1]\n",
    "print('delta full   = {}'.format(dfC))"
   ]
  },
  {
   "cell_type": "code",
   "execution_count": null,
   "metadata": {},
   "outputs": [],
   "source": [
    "1.2326/0.0221"
   ]
  },
  {
   "cell_type": "code",
   "execution_count": null,
   "metadata": {},
   "outputs": [],
   "source": [
    "# EB & MB\n",
    "tIN = 1\n",
    "aIN = 1\n",
    "\n",
    "tta = tIN*60**(3/2)-tIN\n",
    "print('t = ', tta)\n",
    "print('t = ', tIN*96**(3/2)-tIN, 2*tta)"
   ]
  },
  {
   "cell_type": "code",
   "execution_count": null,
   "metadata": {},
   "outputs": [],
   "source": [
    "# Vitorio\n",
    "\n",
    "d = pd0['drho_OD'][0]*(1+pd0['z'][0])\n",
    "dcrit = (1/p.Omega_m_today-1)\n",
    "D = d-dcrit\n",
    "A = 2*Lin.Hprop_today*np.sqrt(p.Omega_m_today)*(D**(3/2))\n",
    "tm = np.pi/A\n",
    "tv = 2*np.pi/A\n",
    "\n",
    "print(tm, tv)"
   ]
  },
  {
   "cell_type": "code",
   "execution_count": null,
   "metadata": {},
   "outputs": [],
   "source": [
    "# white\n",
    "Bp = (5*pd0['drho_OD'][0]/3+1-1/Lin.Omega_m_initial)**(3/2)\n",
    "B = 3*pd0['t'][0]/(4*Bp)\n",
    "tm = np.pi*B\n",
    "print(tm-pd0['t'][0])\n",
    "print(2*tm-pd0['t'][0])"
   ]
  },
  {
   "cell_type": "code",
   "execution_count": null,
   "metadata": {},
   "outputs": [],
   "source": []
  }
 ],
 "metadata": {
  "kernelspec": {
   "display_name": "Python 3",
   "language": "python",
   "name": "python3"
  },
  "language_info": {
   "codemirror_mode": {
    "name": "ipython",
    "version": 3
   },
   "file_extension": ".py",
   "mimetype": "text/x-python",
   "name": "python",
   "nbconvert_exporter": "python",
   "pygments_lexer": "ipython3",
   "version": "3.6.8"
  }
 },
 "nbformat": 4,
 "nbformat_minor": 4
}
