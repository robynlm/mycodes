{
 "cells": [
  {
   "cell_type": "code",
   "execution_count": 1,
   "metadata": {},
   "outputs": [],
   "source": [
    "from IPython.display import display, Math\n",
    "import numpy as np\n",
    "\n",
    "def matter(Apert, lambdapert, t, a, Bent):\n",
    "    UOD = -1\n",
    "    H2 = (2/(3*t))**2\n",
    "    \n",
    "    k2 = ((2*np.pi)/lambdapert)**2\n",
    "    dxdxRc = - Apert * k2 * UOD\n",
    "    ddRc   = (3*dxdxRc) / (a**2)\n",
    "        \n",
    "    if Bent:\n",
    "        delta = 3*Apert\n",
    "    else:\n",
    "        F      = 5/2\n",
    "        iFH2   = 1 / ( F * H2 )\n",
    "        \n",
    "        delta  = ddRc * iFH2\n",
    "    rho = 3*(H2)/(8*np.pi)\n",
    "    RicciS = 4*ddRc\n",
    "    return delta, rho, RicciS\n",
    "\n",
    "def metric(delta, Apert, lambdapert, t, a, Bent):\n",
    "    dmet = -6*(delta/3+3*Apert)\n",
    "    return dmet, a**6, a**2\n",
    "\n",
    "def curv(delta, Apert, lambdapert, t, a, Bent):\n",
    "    H = 2/(3*t)\n",
    "    if Bent:\n",
    "        dK = 0\n",
    "    else:\n",
    "        dK = -delta/3\n",
    "    a2 = a**2\n",
    "    return dK, -3*a2*H, -a2*H\n",
    "\n",
    "def get_all(**kwargs):\n",
    "    delta, rho, RicciS = matter(**kwargs)\n",
    "    dmet, met, gxx = metric(delta, **kwargs)\n",
    "    dK, K, kxx = curv(delta, **kwargs)\n",
    "    display(Math(r'\\delta^{(1)}'+'={:.1e}'.format(delta)+r',\\;\\;\\;\\;\\bar{\\rho}='+'{:.1e}'.format(rho)))\n",
    "    display(Math(r'\\delta\\gamma^{(1)}='+'{:.1e}'.format(dmet)+r',\\;\\;\\;\\;\\bar{\\gamma}='+'{:.1e}'.format(met)+r',\\;\\;\\;\\;\\bar{\\gamma}_{xx}='+'{:.1e}'.format(gxx)))\n",
    "    display(Math(r'\\delta K^{(1)}='+'{:.1e}'.format(dK)+r',\\;\\;\\;\\;\\bar{K}='+'{:.1e}'.format(K)+r',\\;\\;\\;\\;\\bar{K}_{xx}='+'{:.1e}'.format(kxx)))\n",
    "    display(Math(r'{}^{(3)}R^{(1)}='+'{:.1e}'.format(RicciS)))"
   ]
  },
  {
   "cell_type": "code",
   "execution_count": 2,
   "metadata": {},
   "outputs": [],
   "source": [
    "def geta(zc, t):\n",
    "    a0 = 1+zc\n",
    "    return a0/(1+getz(t))\n",
    "def getz(t):\n",
    "    t0 = 2*2997.9/(3*0.7)\n",
    "    return -1+ (t0/t)**(2/3)"
   ]
  },
  {
   "cell_type": "code",
   "execution_count": 3,
   "metadata": {},
   "outputs": [
    {
     "data": {
      "text/latex": [
       "$\\displaystyle \\delta^{(1)}=3.0e-02,\\;\\;\\;\\;\\bar{\\rho}=5.3e-02$"
      ],
      "text/plain": [
       "<IPython.core.display.Math object>"
      ]
     },
     "metadata": {},
     "output_type": "display_data"
    },
    {
     "data": {
      "text/latex": [
       "$\\displaystyle \\delta\\gamma^{(1)}=-2.4e-01,\\;\\;\\;\\;\\bar{\\gamma}=1.0e+00,\\;\\;\\;\\;\\bar{\\gamma}_{xx}=1.0e+00$"
      ],
      "text/plain": [
       "<IPython.core.display.Math object>"
      ]
     },
     "metadata": {},
     "output_type": "display_data"
    },
    {
     "data": {
      "text/latex": [
       "$\\displaystyle \\delta K^{(1)}=0.0e+00,\\;\\;\\;\\;\\bar{K}=-2.0e+00,\\;\\;\\;\\;\\bar{K}_{xx}=-6.7e-01$"
      ],
      "text/plain": [
       "<IPython.core.display.Math object>"
      ]
     },
     "metadata": {},
     "output_type": "display_data"
    },
    {
     "data": {
      "text/latex": [
       "$\\displaystyle {}^{(3)}R^{(1)}=1.3e-01$"
      ],
      "text/plain": [
       "<IPython.core.display.Math object>"
      ]
     },
     "metadata": {},
     "output_type": "display_data"
    }
   ],
   "source": [
    "# Collapsing Bentivegna case\n",
    "get_all(Apert=1e-2, lambdapert=6, t=1, a=geta(getz(1), 1), Bent=True)"
   ]
  },
  {
   "cell_type": "code",
   "execution_count": 4,
   "metadata": {},
   "outputs": [
    {
     "data": {
      "text/latex": [
       "$\\displaystyle \\delta^{(1)}=1.0e-02,\\;\\;\\;\\;\\bar{\\rho}=5.3e-02$"
      ],
      "text/plain": [
       "<IPython.core.display.Math object>"
      ]
     },
     "metadata": {},
     "output_type": "display_data"
    },
    {
     "data": {
      "text/latex": [
       "$\\displaystyle \\delta\\gamma^{(1)}=-8.4e-02,\\;\\;\\;\\;\\bar{\\gamma}=1.0e+00,\\;\\;\\;\\;\\bar{\\gamma}_{xx}=1.0e+00$"
      ],
      "text/plain": [
       "<IPython.core.display.Math object>"
      ]
     },
     "metadata": {},
     "output_type": "display_data"
    },
    {
     "data": {
      "text/latex": [
       "$\\displaystyle \\delta K^{(1)}=-3.4e-03,\\;\\;\\;\\;\\bar{K}=-2.0e+00,\\;\\;\\;\\;\\bar{K}_{xx}=-6.7e-01$"
      ],
      "text/plain": [
       "<IPython.core.display.Math object>"
      ]
     },
     "metadata": {},
     "output_type": "display_data"
    },
    {
     "data": {
      "text/latex": [
       "$\\displaystyle {}^{(3)}R^{(1)}=4.6e-02$"
      ],
      "text/plain": [
       "<IPython.core.display.Math object>"
      ]
     },
     "metadata": {},
     "output_type": "display_data"
    },
    {
     "name": "stdout",
     "output_type": "stream",
     "text": [
      "--------------------------------\n"
     ]
    },
    {
     "data": {
      "text/latex": [
       "$\\displaystyle \\delta^{(1)}=1.0e-02,\\;\\;\\;\\;\\bar{\\rho}=5.3e-02$"
      ],
      "text/plain": [
       "<IPython.core.display.Math object>"
      ]
     },
     "metadata": {},
     "output_type": "display_data"
    },
    {
     "data": {
      "text/latex": [
       "$\\displaystyle \\delta\\gamma^{(1)}=-8.1e-02,\\;\\;\\;\\;\\bar{\\gamma}=1.0e+00,\\;\\;\\;\\;\\bar{\\gamma}_{xx}=1.0e+00$"
      ],
      "text/plain": [
       "<IPython.core.display.Math object>"
      ]
     },
     "metadata": {},
     "output_type": "display_data"
    },
    {
     "data": {
      "text/latex": [
       "$\\displaystyle \\delta K^{(1)}=-3.3e-03,\\;\\;\\;\\;\\bar{K}=-2.0e+00,\\;\\;\\;\\;\\bar{K}_{xx}=-6.7e-01$"
      ],
      "text/plain": [
       "<IPython.core.display.Math object>"
      ]
     },
     "metadata": {},
     "output_type": "display_data"
    },
    {
     "data": {
      "text/latex": [
       "$\\displaystyle {}^{(3)}R^{(1)}=4.4e-02$"
      ],
      "text/plain": [
       "<IPython.core.display.Math object>"
      ]
     },
     "metadata": {},
     "output_type": "display_data"
    }
   ],
   "source": [
    "# Collapsing ai=1 case\n",
    "get_all(Apert=0.003502171664311488, lambdapert=6, t=1, a=geta(getz(1), 1), Bent=False) #full\n",
    "print('--------------------------------')\n",
    "get_all(Apert=0.003377372788077911, lambdapert=6, t=1, a=geta(getz(1), 1), Bent=False) #linear"
   ]
  },
  {
   "cell_type": "code",
   "execution_count": 5,
   "metadata": {},
   "outputs": [
    {
     "data": {
      "text/latex": [
       "$\\displaystyle \\delta^{(1)}=1.0e-02,\\;\\;\\;\\;\\bar{\\rho}=5.3e-02$"
      ],
      "text/plain": [
       "<IPython.core.display.Math object>"
      ]
     },
     "metadata": {},
     "output_type": "display_data"
    },
    {
     "data": {
      "text/latex": [
       "$\\displaystyle \\delta\\gamma^{(1)}=-8.4e-02,\\;\\;\\;\\;\\bar{\\gamma}=1.5e-14,\\;\\;\\;\\;\\bar{\\gamma}_{xx}=2.5e-05$"
      ],
      "text/plain": [
       "<IPython.core.display.Math object>"
      ]
     },
     "metadata": {},
     "output_type": "display_data"
    },
    {
     "data": {
      "text/latex": [
       "$\\displaystyle \\delta K^{(1)}=-3.5e-03,\\;\\;\\;\\;\\bar{K}=-4.9e-05,\\;\\;\\;\\;\\bar{K}_{xx}=-1.6e-05$"
      ],
      "text/plain": [
       "<IPython.core.display.Math object>"
      ]
     },
     "metadata": {},
     "output_type": "display_data"
    },
    {
     "data": {
      "text/latex": [
       "$\\displaystyle {}^{(3)}R^{(1)}=4.6e-02$"
      ],
      "text/plain": [
       "<IPython.core.display.Math object>"
      ]
     },
     "metadata": {},
     "output_type": "display_data"
    },
    {
     "name": "stdout",
     "output_type": "stream",
     "text": [
      "--------------------------------\n"
     ]
    },
    {
     "data": {
      "text/latex": [
       "$\\displaystyle \\delta^{(1)}=1.0e-02,\\;\\;\\;\\;\\bar{\\rho}=5.3e-02$"
      ],
      "text/plain": [
       "<IPython.core.display.Math object>"
      ]
     },
     "metadata": {},
     "output_type": "display_data"
    },
    {
     "data": {
      "text/latex": [
       "$\\displaystyle \\delta\\gamma^{(1)}=-8.4e-02,\\;\\;\\;\\;\\bar{\\gamma}=1.5e-14,\\;\\;\\;\\;\\bar{\\gamma}_{xx}=2.5e-05$"
      ],
      "text/plain": [
       "<IPython.core.display.Math object>"
      ]
     },
     "metadata": {},
     "output_type": "display_data"
    },
    {
     "data": {
      "text/latex": [
       "$\\displaystyle \\delta K^{(1)}=-3.5e-03,\\;\\;\\;\\;\\bar{K}=-4.9e-05,\\;\\;\\;\\;\\bar{K}_{xx}=-1.6e-05$"
      ],
      "text/plain": [
       "<IPython.core.display.Math object>"
      ]
     },
     "metadata": {},
     "output_type": "display_data"
    },
    {
     "data": {
      "text/latex": [
       "$\\displaystyle {}^{(3)}R^{(1)}=4.6e-02$"
      ],
      "text/plain": [
       "<IPython.core.display.Math object>"
      ]
     },
     "metadata": {},
     "output_type": "display_data"
    }
   ],
   "source": [
    "# Collapsing a0=1 case\n",
    "get_all(Apert=0.0034927038020549066, lambdapert=1206, t=1, a=geta(0, 1), Bent=False) #Amp for Full\n",
    "print('--------------------------------')\n",
    "get_all(Apert=0.0034927038020549066, lambdapert=1206, t=1, a=geta(0, 1), Bent=False) #Amp for linear"
   ]
  },
  {
   "cell_type": "code",
   "execution_count": 6,
   "metadata": {},
   "outputs": [
    {
     "name": "stdout",
     "output_type": "stream",
     "text": [
      "0.046415888336127795\n",
      "2.468858555334597e-05 -0.0014362897933545894 0.05305164769729844\n"
     ]
    }
   ],
   "source": [
    "a0 = 1\n",
    "ti = 1\n",
    "c = 1\n",
    "h = 0.7\n",
    "Omega_mi = 1\n",
    "G = 1\n",
    "\n",
    "an = 1\n",
    "tn = 100\n",
    "\n",
    "H0 = c*h/2997.9\n",
    "t0 = 2/(3*H0)\n",
    "\n",
    "a = an*(ti/tn)**(2/3)\n",
    "a0 = an*(t0/tn)**(2/3)\n",
    "print(a)\n",
    "H = 2/(3*ti)\n",
    "\n",
    "gxx = (a/a0)**2\n",
    "kxx = -(a**2)*H\n",
    "rho = 3*(H**2)*Omega_mi/(8*np.pi*G)\n",
    "\n",
    "print(gxx, kxx, rho)"
   ]
  },
  {
   "cell_type": "code",
   "execution_count": 7,
   "metadata": {},
   "outputs": [
    {
     "name": "stdout",
     "output_type": "stream",
     "text": [
      "0.01740595812604792\n"
     ]
    }
   ],
   "source": [
    "dt = a*(0.375)\n",
    "print(dt)"
   ]
  },
  {
   "cell_type": "code",
   "execution_count": 8,
   "metadata": {},
   "outputs": [
    {
     "name": "stdout",
     "output_type": "stream",
     "text": [
      "1.2267168024321723e-07\n",
      "0.004968760967620194\n"
     ]
    }
   ],
   "source": [
    "aIN = 1\n",
    "tIN = 1\n",
    "\n",
    "ac = aIN\n",
    "tc = tIN\n",
    "\n",
    "a0 = ac * (t0/tc)**(2/3)\n",
    "print(aIN*(ac**2)/(a0**3))\n",
    "\n",
    "\n",
    "a0 = 1\n",
    "ac = a0\n",
    "tc = t0\n",
    "\n",
    "aIN = ac * (tIN/tc)**(2/3)\n",
    "print(aIN*(ac**2)/(a0**3))"
   ]
  },
  {
   "cell_type": "code",
   "execution_count": null,
   "metadata": {},
   "outputs": [],
   "source": []
  }
 ],
 "metadata": {
  "kernelspec": {
   "display_name": "Python 3",
   "language": "python",
   "name": "python3"
  },
  "language_info": {
   "codemirror_mode": {
    "name": "ipython",
    "version": 3
   },
   "file_extension": ".py",
   "mimetype": "text/x-python",
   "name": "python",
   "nbconvert_exporter": "python",
   "pygments_lexer": "ipython3",
   "version": "3.7.3"
  }
 },
 "nbformat": 4,
 "nbformat_minor": 2
}
