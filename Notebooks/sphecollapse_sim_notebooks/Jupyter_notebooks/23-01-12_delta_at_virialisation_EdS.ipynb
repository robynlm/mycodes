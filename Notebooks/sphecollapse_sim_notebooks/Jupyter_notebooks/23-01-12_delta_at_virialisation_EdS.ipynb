{
 "cells": [
  {
   "cell_type": "code",
   "execution_count": 1,
   "id": "9c7fe2ad",
   "metadata": {},
   "outputs": [],
   "source": [
    "import h5py\n",
    "import numpy as np\n",
    "import pandas as pd\n",
    "import matplotlib.pyplot as plt\n",
    "from data_analysis_codes.tools import LinData\n",
    "from data_analysis_codes.tools import ReadingTools as RRead\n",
    "from data_analysis_codes.tools import Cstyle\n",
    "plt.style.use(Cstyle.style1)"
   ]
  },
  {
   "cell_type": "code",
   "execution_count": 2,
   "id": "08a61c5e",
   "metadata": {},
   "outputs": [
    {
     "name": "stdout",
     "output_type": "stream",
     "text": [
      " read time file\n",
      " read time file\n",
      " read time file\n"
     ]
    }
   ],
   "source": [
    "param = RRead.read_parameters('pflrw_d3e2_L1206_t1_N128_EdS')\n",
    "Lin = LinData.LinData_Class(param)\n",
    "f = pd.read_table(param['HorSpath']+param['simname']+'/h5_data.csv', delimiter=',')\n",
    "param64 = RRead.read_parameters('pflrw_d3e2_L1206_t1_N64_EdS')\n",
    "Lin64 = LinData.LinData_Class(param64)\n",
    "f64 = pd.read_table(param64['HorSpath']+param64['simname']+'/h5_data.csv', delimiter=',')\n",
    "param32 = RRead.read_parameters('pflrw_d3e2_L1206_t1_N32_EdS')\n",
    "Lin32 = LinData.LinData_Class(param32)\n",
    "f32 = pd.read_table(param32['HorSpath']+param32['simname']+'/h5_data.csv', delimiter=',')"
   ]
  },
  {
   "cell_type": "code",
   "execution_count": 3,
   "id": "a8e85521",
   "metadata": {},
   "outputs": [],
   "source": [
    "def interpolate(f):\n",
    "    f_save = [f[0]]\n",
    "    for i in range(len(f)-1):\n",
    "        f_save += [np.average([f[i], f[i+1]]), f[i+1]]\n",
    "    return np.array(f_save)\n",
    "\n",
    "def extrapolate(f):\n",
    "    return np.append(f, f[-1]+f[-1]-f[-2])\n",
    "\n",
    "def get_error(f32, f64, f128):\n",
    "    f32 = interpolate(interpolate(f32))\n",
    "    f64 = interpolate(f64)\n",
    "    while len(f32)<len(f128):\n",
    "        f32 = extrapolate(f32)\n",
    "    while len(f64)<len(f128):\n",
    "        f64 = extrapolate(f64)\n",
    "    c = abs(f32-f64)/abs(f64-f128)\n",
    "    err = abs((f64-f128)/(c-1))\n",
    "    for ic in range(len(c)):\n",
    "        if err[ic]>abs(f32[ic]-f64[ic]) or err[ic]>abs(f64[ic]-f128[ic]):\n",
    "            err[ic] = np.max([abs(f32[ic]-f64[ic]), abs(f64[ic]-f128[ic])])\n",
    "    return err\n",
    "\n",
    "def lin_fit(x, y, i, x_final):\n",
    "    a = (y[i]-y[i+1])/(x[i]-x[i+1])\n",
    "    b = y[i]-x[i]*a\n",
    "    return a*x_final+b\n",
    "\n",
    "def rev_lin_fit(x, y, i, y_final):\n",
    "    a = (y[i]-y[i+1])/(x[i]-x[i+1])\n",
    "    b = y[i]-x[i]*a\n",
    "    return (y_final-b)/a"
   ]
  },
  {
   "cell_type": "code",
   "execution_count": 4,
   "id": "c01a8492",
   "metadata": {},
   "outputs": [
    {
     "name": "stdout",
     "output_type": "stream",
     "text": [
      "2321469.468762651 2310503.097327352\n"
     ]
    }
   ],
   "source": [
    "# At crash\n",
    "d128 = np.array(f['drho_OD'])[-1]\n",
    "d64 = np.array(f64['drho_OD'])[-1]\n",
    "d32 = np.array(f32['drho_OD'])[-1]\n",
    "c = abs(d32-d64)/abs(d64-d128)\n",
    "err = abs((d64-d128)/(c-1))\n",
    "print(d128, err) #2e6 $\\pm$ 2e6"
   ]
  },
  {
   "cell_type": "code",
   "execution_count": 5,
   "id": "60cba5e8",
   "metadata": {},
   "outputs": [
    {
     "data": {
      "text/plain": [
       "176.65287921960845"
      ]
     },
     "execution_count": 5,
     "metadata": {},
     "output_type": "execute_result"
    }
   ],
   "source": [
    "# At virialisation\n",
    "((6*np.pi)**2)/2 - 1"
   ]
  },
  {
   "cell_type": "code",
   "execution_count": 19,
   "id": "f5669509",
   "metadata": {},
   "outputs": [
    {
     "data": {
      "image/png": "[encoded data removed]",
      "text/plain": [
       "<Figure size 432x288 with 1 Axes>"
      ]
     },
     "metadata": {
      "needs_background": "light"
     },
     "output_type": "display_data"
    }
   ],
   "source": [
    "imin = 677\n",
    "imax = 679\n",
    "plt.plot(Lin.an_initial(f['t'])[imin:imax], f['drho_OD'][imin:imax])\n",
    "plt.scatter(Lin.an_initial(f['t'])[imin:imax], f['drho_OD'][imin:imax])\n",
    "plt.axhline(y=176.65)\n",
    "plt.grid()"
   ]
  },
  {
   "cell_type": "code",
   "execution_count": 20,
   "id": "aa85b9d0",
   "metadata": {},
   "outputs": [
    {
     "name": "stdout",
     "output_type": "stream",
     "text": [
      "52.83625331394341 6.796298225794842e-05\n"
     ]
    }
   ],
   "source": [
    "d128 = rev_lin_fit(Lin.an_initial(f['t']), f['drho_OD'], 677, 176.65)\n",
    "d64 = rev_lin_fit(Lin.an_initial(f64['t']), f64['drho_OD'], 338, 176.65)\n",
    "d32 = rev_lin_fit(Lin.an_initial(f32['t']), f32['drho_OD'], 169, 176.65)\n",
    "c = abs(d32-d64)/abs(d64-d128)\n",
    "err = abs((d64-d128)/(c-1))\n",
    "print(d128, err) #52.83625 $\\pm$ 7e-5"
   ]
  },
  {
   "cell_type": "code",
   "execution_count": 50,
   "id": "b5350876",
   "metadata": {},
   "outputs": [
    {
     "data": {
      "text/plain": [
       "145.841245384492"
      ]
     },
     "execution_count": 50,
     "metadata": {},
     "output_type": "execute_result"
    }
   ],
   "source": [
    "# At virialisation\n",
    "((9*np.pi + 6)**2)/8 - 1"
   ]
  },
  {
   "cell_type": "code",
   "execution_count": 36,
   "id": "46977786",
   "metadata": {},
   "outputs": [
    {
     "data": {
      "image/png": "[encoded data removed]",
      "text/plain": [
       "<Figure size 432x288 with 1 Axes>"
      ]
     },
     "metadata": {
      "needs_background": "light"
     },
     "output_type": "display_data"
    }
   ],
   "source": [
    "imin = 167\n",
    "imax = 170\n",
    "plt.plot(Lin.an_initial(f32['t'])[imin:imax], f32['drho_OD'][imin:imax])\n",
    "plt.scatter(Lin.an_initial(f32['t'])[imin:imax], f32['drho_OD'][imin:imax])\n",
    "plt.axhline(y=145.84)\n",
    "plt.grid()"
   ]
  },
  {
   "cell_type": "code",
   "execution_count": 38,
   "id": "d460c643",
   "metadata": {},
   "outputs": [
    {
     "name": "stdout",
     "output_type": "stream",
     "text": [
      "52.50545124480901 0.0008566862273747404\n"
     ]
    }
   ],
   "source": [
    "d128 = rev_lin_fit(Lin.an_initial(f['t']), f['drho_OD'], 671, 145.84)\n",
    "d64 = rev_lin_fit(Lin.an_initial(f64['t']), f64['drho_OD'], 335, 145.84)\n",
    "d32 = rev_lin_fit(Lin.an_initial(f32['t']), f32['drho_OD'], 167, 145.84)\n",
    "c = abs(d32-d64)/abs(d64-d128)\n",
    "err = abs((d64-d128)/(c-1))\n",
    "print(d128, err) #52.5055 $\\pm$ 9e-4"
   ]
  },
  {
   "cell_type": "code",
   "execution_count": null,
   "id": "9cd174c4",
   "metadata": {},
   "outputs": [],
   "source": []
  }
 ],
 "metadata": {
  "kernelspec": {
   "display_name": "Python 3",
   "language": "python",
   "name": "python3"
  },
  "language_info": {
   "codemirror_mode": {
    "name": "ipython",
    "version": 3
   },
   "file_extension": ".py",
   "mimetype": "text/x-python",
   "name": "python",
   "nbconvert_exporter": "python",
   "pygments_lexer": "ipython3",
   "version": "3.6.8"
  }
 },
 "nbformat": 4,
 "nbformat_minor": 5
}
