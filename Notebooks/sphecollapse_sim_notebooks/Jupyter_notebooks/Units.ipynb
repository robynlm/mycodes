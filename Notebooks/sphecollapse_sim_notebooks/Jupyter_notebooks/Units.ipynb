{
 "cells": [
  {
   "cell_type": "code",
   "execution_count": 1,
   "metadata": {},
   "outputs": [],
   "source": [
    "import numpy as np\n",
    "\n",
    "AUtoMpc = 4.84814e-12  # AU to Mpc\n",
    "yrtos = 31556952.0     # yr to s\n",
    "stoyr = 1/yrtos        # s to yr\n",
    "lytom = 9.461e+15      # ly to m\n",
    "\n",
    "mtoMpc = 3.2408e-23     # m to Mpc\n",
    "mtokm = 1e-3\n",
    "kmtom = 1e3\n",
    "kmtoMpc = mtoMpc*kmtom  # km to Mpc\n",
    "Mpctom = 3.086e22       # Mpc to m"
   ]
  },
  {
   "cell_type": "code",
   "execution_count": 2,
   "metadata": {},
   "outputs": [
    {
     "name": "stdout",
     "output_type": "stream",
     "text": [
      "c\n",
      "2.9979e+08 m.s^{-1}\n",
      "3.0660e-07 Mpc.yr^{-1}\n"
     ]
    }
   ],
   "source": [
    "print('c')\n",
    "c_code = 1  # Mpc = yr\n",
    "\n",
    "c_ms  = 299792458      # m.s^{-1}\n",
    "print('{:.4e}'.format(c_ms)+' m.s^{-1}')\n",
    "c_kms = c_ms*mtokm     # km.s^{-1}\n",
    "c_Mpcs = c_ms*mtoMpc   # Mpc.s^{-1}\n",
    "c_Mpcyr = c_Mpcs*yrtos # Mpc.yr^{-1}\n",
    "print('{:.4e}'.format(c_Mpcyr)+' Mpc.yr^{-1}')"
   ]
  },
  {
   "cell_type": "code",
   "execution_count": 3,
   "metadata": {},
   "outputs": [],
   "source": [
    "h = 0.7"
   ]
  },
  {
   "cell_type": "code",
   "execution_count": 4,
   "metadata": {},
   "outputs": [
    {
     "name": "stdout",
     "output_type": "stream",
     "text": [
      "G\n",
      "6.6741e-11 m^3.kg^{-1}.s^{-2}\n",
      "2.2622e-63 Mpc^{3}.kg^{-1}.yr^{-2}\n"
     ]
    }
   ],
   "source": [
    "print('G')\n",
    "G_code = 1  # Mpc = kg\n",
    "\n",
    "G_mkgs    = 6.67408e-11                   # m^3.kg^{-1}.s^{-2}\n",
    "print('{:.4e}'.format(G_mkgs)+' m^3.kg^{-1}.s^{-2}')\n",
    "G_Mpckgyr = G_mkgs*(mtoMpc**3)*(yrtos**2) # Mpc^{3}.kg^{-1}.yr^{-2}\n",
    "print('{:.4e}'.format(G_Mpckgyr)+' Mpc^{3}.kg^{-1}.yr^{-2}')"
   ]
  },
  {
   "cell_type": "code",
   "execution_count": 5,
   "metadata": {},
   "outputs": [
    {
     "name": "stdout",
     "output_type": "stream",
     "text": [
      "H_0\n",
      "3.2408e-18 h s^{-1}\n",
      "1.0227e-10 h yr^{-1}\n",
      "1.0227e-10 h yr^{-1}\n",
      "3.3356e-04 h Mpc^{-1}\n",
      "2.3349e-04 Mpc^{-1}\n"
     ]
    }
   ],
   "source": [
    "print('H_0')\n",
    "\n",
    "# H0     = 100 h              [km.s^{-1}.Mpc^{-1}]\n",
    "# H0 / c = 100 h / c_kms      [Mpc^{-1}]\n",
    "# H0 / c = 100 h / c_kms      [Mpc^{-1}]\n",
    "# H0     = 100 c_LT h / c_kms [L.T^{-1}.Mpc^{-1}]\n",
    "\n",
    "H0_hs = 100*kmtoMpc # h.s^{-1}\n",
    "print('{:.4e}'.format(H0_hs)+' h s^{-1}')\n",
    "\n",
    "H0_hyr = H0_hs/stoyr\n",
    "print('{:.4e}'.format(H0_hyr)+' h yr^{-1}')   # h.yr^{-1}\n",
    "\n",
    "H0_hyr = 100*c_Mpcyr/c_kms  # h.yr^{-1}\n",
    "print('{:.4e}'.format(H0_hyr)+' h yr^{-1}')\n",
    "\n",
    "H0_hcode = 100*c_code/c_kms # h.Mpc^{-1}\n",
    "print('{:.4e}'.format(H0_hcode)+' h Mpc^{-1}')\n",
    "\n",
    "H0_code = H0_hcode*h\n",
    "print('{:.4e}'.format(H0_code)+' Mpc^{-1}')"
   ]
  },
  {
   "cell_type": "code",
   "execution_count": 6,
   "metadata": {},
   "outputs": [
    {
     "name": "stdout",
     "output_type": "stream",
     "text": [
      "t_today\n",
      "2.8552e+03 Mpc\n",
      "9.3124e+09 yr\n"
     ]
    }
   ],
   "source": [
    "print('t_today')\n",
    "\n",
    "t_code = 2/(3*H0_code)\n",
    "print('{:.4e}'.format(t_code)+' Mpc')\n",
    "\n",
    "t_hyr = 2/(3*H0_hyr)\n",
    "t_yr = t_hyr/h\n",
    "print('{:.4e}'.format(t_yr)+' yr')"
   ]
  },
  {
   "cell_type": "code",
   "execution_count": 7,
   "metadata": {},
   "outputs": [
    {
     "name": "stdout",
     "output_type": "stream",
     "text": [
      "rho_crit\n",
      "1.8784e-26 h^2 kg.m^{-3}\n",
      "5.5187e+41 h^2 kg.Mpc^{-3}\n",
      "1.3281e-08 h^2 Mpc^{-2}\n",
      "6.5078e-09 Mpc^{-2}\n",
      "5.5187e+41 h^2 kg.Mpc^{-3}\n"
     ]
    }
   ],
   "source": [
    "print('rho_crit')\n",
    "\n",
    "rhoc_hkgm = (3*(H0_hs**2))/(8*np.pi*G_mkgs)\n",
    "print('{:.4e}'.format(rhoc_hkgm)+' h^2 kg.m^{-3}')\n",
    "\n",
    "rhoc_hkgMpc = (3*(H0_hyr**2))/(8*np.pi*G_Mpckgyr)\n",
    "print('{:.4e}'.format(rhoc_hkgMpc)+' h^2 kg.Mpc^{-3}')\n",
    "\n",
    "rhoc_hcode = (3*(H0_hcode**2))/(8*np.pi*G_code)\n",
    "\n",
    "print('{:.4e}'.format(rhoc_hcode)+' h^2 Mpc^{-2}')\n",
    "print('{:.4e}'.format(rhoc_hcode*(h**2))+' Mpc^{-2}')\n",
    "print('{:.4e}'.format(rhoc_hcode*(c_Mpcyr**2)/G_Mpckgyr)+' h^2 kg.Mpc^{-3}')"
   ]
  },
  {
   "cell_type": "code",
   "execution_count": 8,
   "metadata": {},
   "outputs": [
    {
     "name": "stdout",
     "output_type": "stream",
     "text": [
      "M_sun\n",
      "1.9886e+30 kg\n",
      "4.4987e-33 Mpc\n",
      "1.9886e+30 kg\n"
     ]
    }
   ],
   "source": [
    "print('M_sun')\n",
    "\n",
    "M = (4*(np.pi**2)*(AUtoMpc**3))/(G_Mpckgyr*(1**2))\n",
    "print('{:.4e}'.format(M)+' kg')\n",
    "\n",
    "G=1\n",
    "M = (4*(np.pi**2)*(AUtoMpc**3))/(G*(1**2))\n",
    "print('{:.4e}'.format(M)+' Mpc')\n",
    "print('{:.4e}'.format(M/G_Mpckgyr)+' kg')"
   ]
  },
  {
   "cell_type": "code",
   "execution_count": null,
   "metadata": {},
   "outputs": [],
   "source": []
  }
 ],
 "metadata": {
  "kernelspec": {
   "display_name": "Python 3",
   "language": "python",
   "name": "python3"
  },
  "language_info": {
   "codemirror_mode": {
    "name": "ipython",
    "version": 3
   },
   "file_extension": ".py",
   "mimetype": "text/x-python",
   "name": "python",
   "nbconvert_exporter": "python",
   "pygments_lexer": "ipython3",
   "version": "3.7.3"
  }
 },
 "nbformat": 4,
 "nbformat_minor": 2
}
