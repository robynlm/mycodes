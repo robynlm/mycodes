{
 "cells": [
  {
   "cell_type": "code",
   "execution_count": 1,
   "id": "f18a388e",
   "metadata": {},
   "outputs": [],
   "source": [
    "import h5py \n",
    "import numpy as np\n",
    "import matplotlib.pyplot as plt\n",
    "import data_analysis_codes.tools.GetVars_Plot2d as gvar\n",
    "import data_analysis_codes.tools.ReadingTools as RRead\n",
    "import data_analysis_codes.tools.LinData as LinData\n",
    "from data_analysis_codes.tools import TAradius"
   ]
  },
  {
   "cell_type": "code",
   "execution_count": 2,
   "id": "14e768e4",
   "metadata": {},
   "outputs": [
    {
     "name": "stdout",
     "output_type": "stream",
     "text": [
      " read time file\n"
     ]
    }
   ],
   "source": [
    "param = RRead.read_parameters('pflrw_d3e2_L1821_t1_N128_LCDM')\n",
    "Lin = LinData.LinData_Class(param)\n",
    "ODid = int(param['Nx']/4)\n",
    "TAr = TAradius.TA_Class(param, Lin, ([ODid], [ODid], [ODid]))\n",
    "gv = gvar.Get_var(param, Lin)\n",
    "path = (param['HorSpath'] + param['simname']\n",
    "        + '/output-0000/' + param['simname'] \n",
    "        + '/all_iterations/' + param['simname'])"
   ]
  },
  {
   "cell_type": "code",
   "execution_count": 3,
   "id": "67f82515",
   "metadata": {},
   "outputs": [],
   "source": [
    "def get_r_var(it):\n",
    "    \n",
    "    filename = '{}_it_{:06d}.hdf5'.format(path, it)\n",
    "    f = h5py.File(filename, 'r')\n",
    "    Kdict = gv.get_the_curv(f, it)\n",
    "    gdet = Kdict['metric_dic']['gdet']\n",
    "    A2 = Kdict['A2']\n",
    "    r = []\n",
    "    var = []\n",
    "    for theta, phi, dxfac in zip([0, np.pi/4, np.pi/4], \n",
    "                                 [0, 0, np.pi/4], \n",
    "                                 [1.0, np.sqrt(2), np.sqrt(3)]):\n",
    "        right_values = TAr.idx_along_r(theta, phi, dxfac)[1]\n",
    "        coord, radius, indices, radius_from_indices, weighted_dx = right_values\n",
    "\n",
    "        for i in range(len(radius_from_indices)): \n",
    "            #this for loop is to find the correct i\n",
    "            if radius_from_indices[i]>1.05*dxfac*param['Lx']/2:\n",
    "                break\n",
    "\n",
    "        var += [np.array([A2[i] for i in indices[:i]])]\n",
    "\n",
    "        gdet_along_radius_save = np.array([gdet[i] for i in indices[:i]])\n",
    "        weighted_dx_save = weighted_dx[:i]\n",
    "\n",
    "        proper_radius = [0]\n",
    "        for j in range(1, i):\n",
    "            proper_radius += [proper_radius[-1]\n",
    "                              + (gdet_along_radius_save[j]**(1/6))\n",
    "                              * weighted_dx_save[j]]\n",
    "\n",
    "        com_radius = [0]\n",
    "        for j in range(1, i):\n",
    "            com_radius += [com_radius[-1] +  weighted_dx_save[j]]\n",
    "        r += [np.array(com_radius)]\n",
    "    return r, var"
   ]
  },
  {
   "cell_type": "code",
   "execution_count": 8,
   "id": "a1a2d68e",
   "metadata": {},
   "outputs": [],
   "source": [
    "its = Lin.temporal_file['it'][0::param['IOHDF5::out_every']]"
   ]
  },
  {
   "cell_type": "code",
   "execution_count": 9,
   "id": "6bc70a9a",
   "metadata": {},
   "outputs": [
    {
     "data": {
      "image/png": "[encoded data removed]",
      "text/plain": [
       "<Figure size 432x288 with 1 Axes>"
      ]
     },
     "metadata": {
      "needs_background": "light"
     },
     "output_type": "display_data"
    }
   ],
   "source": [
    "for it in [0]:\n",
    "    r, var = get_r_var(int(it))\n",
    "    plt.figure()\n",
    "    plt.plot(r[0]/param['Lx'], var[0], linestyle='-', label='vertice')\n",
    "    plt.plot(r[1]/param['Lx'], var[1], linestyle='-.', label='edge')\n",
    "    plt.plot(r[2]/param['Lx'], var[2], linestyle='--', label='face')\n",
    "    plt.grid()\n",
    "    plt.legend(loc=2)\n",
    "    plt.ylabel(r'$A^2$')\n",
    "    plt.xlabel(r'$R_{com}$'+' ['+r'$\\lambda_{pert}$'+']')\n",
    "    plt.title(r'$a/a_{IN}=$'+'{:.2f}'.format(Lin.temp_from_temp('an', 'it', it)))"
   ]
  },
  {
   "cell_type": "code",
   "execution_count": null,
   "id": "605b69e2",
   "metadata": {},
   "outputs": [],
   "source": []
  }
 ],
 "metadata": {
  "kernelspec": {
   "display_name": "Python 3",
   "language": "python",
   "name": "python3"
  },
  "language_info": {
   "codemirror_mode": {
    "name": "ipython",
    "version": 3
   },
   "file_extension": ".py",
   "mimetype": "text/x-python",
   "name": "python",
   "nbconvert_exporter": "python",
   "pygments_lexer": "ipython3",
   "version": "3.6.8"
  }
 },
 "nbformat": 4,
 "nbformat_minor": 5
}
