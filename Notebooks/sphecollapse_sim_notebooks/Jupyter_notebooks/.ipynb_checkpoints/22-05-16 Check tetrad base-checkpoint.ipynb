{
 "cells": [
  {
   "cell_type": "code",
   "execution_count": 4,
   "id": "f77fa7dc",
   "metadata": {},
   "outputs": [],
   "source": [
    "import h5py\n",
    "from data_analysis_codes import param\n",
    "import matplotlib.pyplot as plt\n",
    "from data_analysis_codes.tools import Cstyle\n",
    "plt.style.use(Cstyle.style1)\n",
    "from data_analysis_codes.tools import LinData\n",
    "import numpy as np\n",
    "import pandas as pd\n",
    "import matplotlib.ticker as mtick\n",
    "from data_analysis_codes.tools import GetVars_Plot2d as GVar\n",
    "from data_analysis_codes.tools import Ricci_CoGrad_Weyl as RCW_file\n",
    "from data_analysis_codes.tools import FD as FD_file"
   ]
  },
  {
   "cell_type": "code",
   "execution_count": 5,
   "id": "f819af50",
   "metadata": {},
   "outputs": [
    {
     "name": "stdout",
     "output_type": "stream",
     "text": [
      " read time file\n"
     ]
    }
   ],
   "source": [
    "N = 64\n",
    "sim = param.pflrw_d3e2_L1821_t1_N64_LCDM()\n",
    "Lin = LinData.LinData_Class(sim, '/home/robynm/simulations/'+sim.sim_name+'/')\n",
    "get_var = GVar.Get_var(Lin, '/home/robynm/simulations/pflrw_d3e2_L1821_t1_N'+str(N)+'_LCDM/output-0000/pflrw_L1821/')"
   ]
  },
  {
   "cell_type": "code",
   "execution_count": 6,
   "id": "3e445833",
   "metadata": {},
   "outputs": [],
   "source": [
    "FD = FD_file.FD_Class(Lin.p.dx)\n",
    "RCW = RCW_file.Ricci_CoGrad_Weyl_Class(FD)"
   ]
  },
  {
   "cell_type": "code",
   "execution_count": 7,
   "id": "bcb42630",
   "metadata": {},
   "outputs": [],
   "source": [
    "it = 2500\n",
    "f = h5py.File('{}_it_{:06d}.hdf5'.format('/home/robynm/simulations/pflrw_d3e2_L1821_t1_N'+str(N)+'_LCDM/output-0000/pflrw_L1821/all_iterations/pflrw_d3e2_L1821_t1_N'+str(N)+'_LCDM', it), 'r')\n",
    "gdown = get_var.get_the_metric(f, it)['gdown']"
   ]
  },
  {
   "cell_type": "code",
   "execution_count": 8,
   "id": "48baa15c",
   "metadata": {},
   "outputs": [],
   "source": [
    "Box_0 = np.zeros(np.shape(gdown[0,0]))\n",
    "Box_1 = np.ones(np.shape(gdown[0,0]))\n",
    "gdown4 = np.array([[-Box_1, Box_0, Box_0, Box_0],\n",
    "                    [Box_0, gdown[0,0], gdown[0,1], gdown[0,2]],\n",
    "                    [Box_0, gdown[1,0], gdown[1,1], gdown[1,2]],\n",
    "                    [Box_0, gdown[2,0], gdown[2,1], gdown[2,2]]])"
   ]
  },
  {
   "cell_type": "code",
   "execution_count": 10,
   "id": "4c3079dd",
   "metadata": {},
   "outputs": [],
   "source": [
    "e0, e1, e2, e3 = RCW.tetradbase(gdown4)"
   ]
  },
  {
   "cell_type": "code",
   "execution_count": 12,
   "id": "30afe5f6",
   "metadata": {},
   "outputs": [
    {
     "data": {
      "text/plain": [
       "-1.0"
      ]
     },
     "execution_count": 12,
     "metadata": {},
     "output_type": "execute_result"
    }
   ],
   "source": [
    "np.average(np.einsum('a...,b...,ab...->...', e0,e0,gdown4))"
   ]
  },
  {
   "cell_type": "code",
   "execution_count": 13,
   "id": "fd84405d",
   "metadata": {},
   "outputs": [
    {
     "data": {
      "text/plain": [
       "1.0"
      ]
     },
     "execution_count": 13,
     "metadata": {},
     "output_type": "execute_result"
    }
   ],
   "source": [
    "np.average(np.einsum('a...,b...,ab...->...', e1,e1,gdown4))"
   ]
  },
  {
   "cell_type": "code",
   "execution_count": 14,
   "id": "476776b7",
   "metadata": {},
   "outputs": [
    {
     "data": {
      "text/plain": [
       "1.0"
      ]
     },
     "execution_count": 14,
     "metadata": {},
     "output_type": "execute_result"
    }
   ],
   "source": [
    "np.average(np.einsum('a...,b...,ab...->...', e2,e2,gdown4))"
   ]
  },
  {
   "cell_type": "code",
   "execution_count": 15,
   "id": "c9b90be6",
   "metadata": {},
   "outputs": [
    {
     "data": {
      "text/plain": [
       "1.0"
      ]
     },
     "execution_count": 15,
     "metadata": {},
     "output_type": "execute_result"
    }
   ],
   "source": [
    "np.average(np.einsum('a...,b...,ab...->...', e3,e3,gdown4))"
   ]
  },
  {
   "cell_type": "code",
   "execution_count": 16,
   "id": "11cbeb55",
   "metadata": {},
   "outputs": [
    {
     "data": {
      "text/plain": [
       "0.0"
      ]
     },
     "execution_count": 16,
     "metadata": {},
     "output_type": "execute_result"
    }
   ],
   "source": [
    "np.average(np.einsum('a...,b...,ab...->...', e0,e1,gdown4))"
   ]
  },
  {
   "cell_type": "code",
   "execution_count": 17,
   "id": "0af44f17",
   "metadata": {},
   "outputs": [
    {
     "data": {
      "text/plain": [
       "0.0"
      ]
     },
     "execution_count": 17,
     "metadata": {},
     "output_type": "execute_result"
    }
   ],
   "source": [
    "np.average(np.einsum('a...,b...,ab...->...', e0,e2,gdown4))"
   ]
  },
  {
   "cell_type": "code",
   "execution_count": 18,
   "id": "c278a630",
   "metadata": {},
   "outputs": [
    {
     "data": {
      "text/plain": [
       "0.0"
      ]
     },
     "execution_count": 18,
     "metadata": {},
     "output_type": "execute_result"
    }
   ],
   "source": [
    "np.average(np.einsum('a...,b...,ab...->...', e0,e3,gdown4))"
   ]
  },
  {
   "cell_type": "code",
   "execution_count": 19,
   "id": "2461863a",
   "metadata": {},
   "outputs": [
    {
     "data": {
      "text/plain": [
       "3.2214504526871756e-23"
      ]
     },
     "execution_count": 19,
     "metadata": {},
     "output_type": "execute_result"
    }
   ],
   "source": [
    "np.average(np.einsum('a...,b...,ab...->...', e1,e2,gdown4))"
   ]
  },
  {
   "cell_type": "code",
   "execution_count": 20,
   "id": "da6fa8ad",
   "metadata": {},
   "outputs": [
    {
     "data": {
      "text/plain": [
       "4.482173872730757e-23"
      ]
     },
     "execution_count": 20,
     "metadata": {},
     "output_type": "execute_result"
    }
   ],
   "source": [
    "np.average(np.einsum('a...,b...,ab...->...', e1,e3,gdown4))"
   ]
  },
  {
   "cell_type": "code",
   "execution_count": 21,
   "id": "66cbc9b9",
   "metadata": {},
   "outputs": [
    {
     "data": {
      "text/plain": [
       "1.469972246025262e-23"
      ]
     },
     "execution_count": 21,
     "metadata": {},
     "output_type": "execute_result"
    }
   ],
   "source": [
    "np.average(np.einsum('a...,b...,ab...->...', e2,e3,gdown4))"
   ]
  },
  {
   "cell_type": "code",
   "execution_count": 22,
   "id": "3dbe5bdc",
   "metadata": {},
   "outputs": [],
   "source": [
    "lup, kup, mup, mbup = RCW.nullvectors(gdown4)"
   ]
  },
  {
   "cell_type": "code",
   "execution_count": 23,
   "id": "3e485ffa",
   "metadata": {},
   "outputs": [
    {
     "data": {
      "text/plain": [
       "9.230435663585331e-17"
      ]
     },
     "execution_count": 23,
     "metadata": {},
     "output_type": "execute_result"
    }
   ],
   "source": [
    "np.average(np.einsum('a...,b...,ab...->...', lup,lup,gdown4))"
   ]
  },
  {
   "cell_type": "code",
   "execution_count": 24,
   "id": "16a24e72",
   "metadata": {},
   "outputs": [
    {
     "data": {
      "text/plain": [
       "9.230435663585331e-17"
      ]
     },
     "execution_count": 24,
     "metadata": {},
     "output_type": "execute_result"
    }
   ],
   "source": [
    "np.average(np.einsum('a...,b...,ab...->...', kup,kup,gdown4))"
   ]
  },
  {
   "cell_type": "code",
   "execution_count": 25,
   "id": "849e2247",
   "metadata": {},
   "outputs": [
    {
     "data": {
      "text/plain": [
       "(4.019594851195282e-18+1.2793935485358835e-24j)"
      ]
     },
     "execution_count": 25,
     "metadata": {},
     "output_type": "execute_result"
    }
   ],
   "source": [
    "np.average(np.einsum('a...,b...,ab...->...', mup,mup,gdown4))"
   ]
  },
  {
   "cell_type": "code",
   "execution_count": 26,
   "id": "6202ae8f",
   "metadata": {},
   "outputs": [
    {
     "data": {
      "text/plain": [
       "(4.019594851195282e-18-1.2793935485358835e-24j)"
      ]
     },
     "execution_count": 26,
     "metadata": {},
     "output_type": "execute_result"
    }
   ],
   "source": [
    "np.average(np.einsum('a...,b...,ab...->...', mbup,mbup,gdown4))"
   ]
  },
  {
   "cell_type": "code",
   "execution_count": 27,
   "id": "778fa9a0",
   "metadata": {},
   "outputs": [
    {
     "data": {
      "text/plain": [
       "(4.6551123779265995e-24-1.72792092710163e-24j)"
      ]
     },
     "execution_count": 27,
     "metadata": {},
     "output_type": "execute_result"
    }
   ],
   "source": [
    "np.average(np.einsum('a...,b...,ab...->...', lup,mup,gdown4))"
   ]
  },
  {
   "cell_type": "code",
   "execution_count": 28,
   "id": "9ab8dba7",
   "metadata": {},
   "outputs": [
    {
     "data": {
      "text/plain": [
       "(4.6551123779265995e-24+1.72792092710163e-24j)"
      ]
     },
     "execution_count": 28,
     "metadata": {},
     "output_type": "execute_result"
    }
   ],
   "source": [
    "np.average(np.einsum('a...,b...,ab...->...', lup,mbup,gdown4))"
   ]
  },
  {
   "cell_type": "code",
   "execution_count": 29,
   "id": "bdbb5906",
   "metadata": {},
   "outputs": [
    {
     "data": {
      "text/plain": [
       "(-4.6551123779265995e-24+1.72792092710163e-24j)"
      ]
     },
     "execution_count": 29,
     "metadata": {},
     "output_type": "execute_result"
    }
   ],
   "source": [
    "np.average(np.einsum('a...,b...,ab...->...', kup,mup,gdown4))"
   ]
  },
  {
   "cell_type": "code",
   "execution_count": 30,
   "id": "3a3b4f00",
   "metadata": {},
   "outputs": [
    {
     "data": {
      "text/plain": [
       "(-4.6551123779265995e-24-1.72792092710163e-24j)"
      ]
     },
     "execution_count": 30,
     "metadata": {},
     "output_type": "execute_result"
    }
   ],
   "source": [
    "np.average(np.einsum('a...,b...,ab...->...', kup,mbup,gdown4))"
   ]
  },
  {
   "cell_type": "code",
   "execution_count": 31,
   "id": "e2d9d1d7",
   "metadata": {},
   "outputs": [
    {
     "data": {
      "text/plain": [
       "-1.0"
      ]
     },
     "execution_count": 31,
     "metadata": {},
     "output_type": "execute_result"
    }
   ],
   "source": [
    "np.average(np.einsum('a...,b...,ab...->...', lup,kup,gdown4))"
   ]
  },
  {
   "cell_type": "code",
   "execution_count": 32,
   "id": "eaee09aa",
   "metadata": {},
   "outputs": [
    {
     "data": {
      "text/plain": [
       "(-1+1.6155871338922648e-26j)"
      ]
     },
     "execution_count": 32,
     "metadata": {},
     "output_type": "execute_result"
    }
   ],
   "source": [
    "-np.average(np.einsum('a...,b...,ab...->...', mup,mbup,gdown4))"
   ]
  },
  {
   "cell_type": "code",
   "execution_count": null,
   "id": "e30e7357",
   "metadata": {},
   "outputs": [],
   "source": []
  }
 ],
 "metadata": {
  "kernelspec": {
   "display_name": "Python 3",
   "language": "python",
   "name": "python3"
  },
  "language_info": {
   "codemirror_mode": {
    "name": "ipython",
    "version": 3
   },
   "file_extension": ".py",
   "mimetype": "text/x-python",
   "name": "python",
   "nbconvert_exporter": "python",
   "pygments_lexer": "ipython3",
   "version": "3.8.8"
  }
 },
 "nbformat": 4,
 "nbformat_minor": 5
}
