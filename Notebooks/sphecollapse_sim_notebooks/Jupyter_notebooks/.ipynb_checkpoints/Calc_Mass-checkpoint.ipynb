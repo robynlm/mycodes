{
 "cells": [
  {
   "cell_type": "code",
   "execution_count": 1,
   "metadata": {},
   "outputs": [],
   "source": [
    "import numpy as np"
   ]
  },
  {
   "cell_type": "code",
   "execution_count": 4,
   "metadata": {},
   "outputs": [
    {
     "name": "stdout",
     "output_type": "stream",
     "text": [
      "\n",
      "rho_IN  : 7.948908e+08 kg.m^{-3}\n",
      "rho_0   : 2.682993e-27 kg.m^{-3}\n",
      "\n",
      "M_IN  : 4.955319e+12 MS\n",
      "M_0   : 4.955319e+12 MS\n",
      "\n",
      "MDIN  : 4.955319e+12 MS\n",
      "MD0   : 4.955319e+12 MS\n",
      "\n",
      "MDIN  : 4.955319e+12 MS\n",
      "MD0   : 4.955319e+12 MS\n"
     ]
    }
   ],
   "source": [
    "c   = 299792458   # m.s^{-1}\n",
    "G   = 6.67408e-11 # m^3.kg^{-1}.s^{-2}\n",
    "pc  = 3.0857e16   # m\n",
    "Mpc = pc*1e6      # m\n",
    "MS  = 1.98847e30  # kg\n",
    "\n",
    "h   = 0.6737\n",
    "Om0 = 0.3147\n",
    "Ol0 = 1-Om0\n",
    "H0 = h*c/(2997.9*Mpc) # s^{-1}\n",
    "\n",
    "tIN = 1\n",
    "zR = 0\n",
    "\n",
    "a0 = 1+zR\n",
    "aIN = a0 * ( Om0 / Ol0 )**(1/3) * np.sinh( 3 * H0 * np.sqrt(Ol0) * tIN / 2 )**(2/3)\n",
    "HIN = H0 * np.sqrt( Om0 * ( aIN / a0 )**(-3) + Ol0 )\n",
    "OmIN = Om0 / ( Om0 + Ol0 * ( aIN / a0 )**3 )\n",
    "\n",
    "Lambda0 = 5*Mpc\n",
    "LambdacomIN = Lambda0\n",
    "LambdaphyIN = Lambda0/(a0/aIN)\n",
    "\n",
    "print()\n",
    "rhoIN = 3*OmIN*(HIN**2)/(8*np.pi*G) # kg.m^{-3}\n",
    "rho0 = 3*Om0*(H0**2)/(8*np.pi*G) # kg.m^{-3}\n",
    "print('rho_IN  : {:e}'.format(rhoIN), 'kg.m^{-3}')\n",
    "print('rho_0   : {:e}'.format(rho0), 'kg.m^{-3}')\n",
    "\n",
    "print()\n",
    "Volumephy0 = Lambda0**(3)\n",
    "VolumephyIN = LambdaphyIN**(3)\n",
    "MIN = rhoIN*VolumephyIN/MS # MS\n",
    "M0 = rho0*Volumephy0/MS # MS\n",
    "print('M_IN  : {:e}'.format(MIN), 'MS')\n",
    "print('M_0   : {:e}'.format(M0), 'MS')\n",
    "\n",
    "print()\n",
    "N = 128\n",
    "VolumecomIN = np.sum(np.ones([N, N, N]))*((LambdacomIN/N)**3)\n",
    "Volumecom0 = np.sum(np.ones([N, N, N]))*((Lambda0/N)**3)\n",
    "MDIN = rhoIN*(aIN**3)*VolumecomIN/MS\n",
    "MD0 = rho0*(a0**3)*Volumecom0/MS\n",
    "\n",
    "\n",
    "print('MDIN  : {:e}'.format(MDIN), 'MS')\n",
    "print('MD0   : {:e}'.format(MD0), 'MS')\n",
    "print()\n",
    "\n",
    "MDIN *= 1/(a0**3)\n",
    "MD0 *= 1/(a0**3)\n",
    "\"\"\"\n",
    "c   = 299792458   # m.s^{-1}\n",
    "G   = 6.67408e-11 # m^3.kg^{-1}.s^{-2}\n",
    "pc  = 3.0857e16   # m\n",
    "Mpc = pc*1e6      # m\n",
    "MS  = 1.98847e30  # kg\n",
    "\n",
    "MDIN *= (Mpc*c**2)/(G*MS)\n",
    "MD0 *= (Mpc*c**2)/(G*MS)\n",
    "MDmid *= (Mpc*c**2)/(G*MS)\n",
    "\"\"\"\n",
    "print('MDIN  : {:e}'.format(MDIN), 'MS')\n",
    "print('MD0   : {:e}'.format(MD0), 'MS')\n"
   ]
  },
  {
   "cell_type": "code",
   "execution_count": 3,
   "metadata": {},
   "outputs": [
    {
     "ename": "SyntaxError",
     "evalue": "invalid syntax (<ipython-input-3-c34cdbdd9bf1>, line 6)",
     "output_type": "error",
     "traceback": [
      "\u001b[0;36m  File \u001b[0;32m\"<ipython-input-3-c34cdbdd9bf1>\"\u001b[0;36m, line \u001b[0;32m6\u001b[0m\n\u001b[0;31m    rho_IN  : 7.503113e-20 kg.m^{-3}\u001b[0m\n\u001b[0m                            ^\u001b[0m\n\u001b[0;31mSyntaxError\u001b[0m\u001b[0;31m:\u001b[0m invalid syntax\n"
     ]
    }
   ],
   "source": [
    "a_0 = 1\n",
    "tIN :  102927872855293.81\n",
    "tmid :  1.4698835442827776e+17\n",
    "t0  :  2.938737809837002e+17\n",
    "\n",
    "rho_IN  : 7.503113e-20 kg.m^{-3}\n",
    "rho_mid : 3.679100e-26 kg.m^{-3}\n",
    "rho_0   : 9.204195e-27 kg.m^{-3}\n",
    "\n",
    "M_IN  : 2.937525e+13 MS\n",
    "M_mid : 2.937525e+13 MS\n",
    "M_0   : 2.937525e+13 MS\n",
    "\n",
    "MDIN  : 2.937525e+13 MS\n",
    "MDmid : 2.937525e+13 MS\n",
    "MD0   : 2.937525e+13 MS\n",
    "\n",
    "MDIN  : 2.937525e+13 MS\n",
    "MDmid : 2.937525e+13 MS\n",
    "MD0   : 2.937525e+13 MS"
   ]
  },
  {
   "cell_type": "code",
   "execution_count": null,
   "metadata": {},
   "outputs": [],
   "source": [
    "# Real units\n",
    "#         |               Mass [M_\\odot]               | Density [kg.m^{-3}]\n",
    "#         |      M       | M_D a_{IN}=1 | M_D a_{0}=1  |     bar{rho} \n",
    "#---------------------------------------------------------------------------\n",
    "# Initial | 2.937525e+13 | 2.394624e+20 | 2.937525e+13 | 7.503113e-20\n",
    "# Today   | 2.937525e+13 | 2.394624e+20 | 2.937525e+13 | 9.204195e-27\n",
    "#\n",
    "#\n",
    "# c=G=1 Mpc=1\n",
    "#         |                   Mass                     |   Density \n",
    "#         |      M       | M_D a_{IN}=1 | M_D a_{0}=1  |   bar{rho} \n",
    "#---------------------------------------------------------------------------\n",
    "# Initial | 1.405714e-06 | 1.145916e+01 | 1.405714e-06 | 5.305165e-02\n",
    "# Today   | 1.405714e-06 | 1.145916e+01 | 1.405714e-06 | 6.507935e-09"
   ]
  },
  {
   "cell_type": "code",
   "execution_count": null,
   "metadata": {},
   "outputs": [],
   "source": []
  },
  {
   "cell_type": "code",
   "execution_count": null,
   "metadata": {},
   "outputs": [],
   "source": [
    "import numpy as np\n",
    "a = np.array([1, 0.3, 5 -2, inf])\n",
    "np.where(a<0)"
   ]
  },
  {
   "cell_type": "code",
   "execution_count": null,
   "metadata": {},
   "outputs": [],
   "source": []
  }
 ],
 "metadata": {
  "kernelspec": {
   "display_name": "Python 3",
   "language": "python",
   "name": "python3"
  },
  "language_info": {
   "codemirror_mode": {
    "name": "ipython",
    "version": 3
   },
   "file_extension": ".py",
   "mimetype": "text/x-python",
   "name": "python",
   "nbconvert_exporter": "python",
   "pygments_lexer": "ipython3",
   "version": "3.8.8"
  }
 },
 "nbformat": 4,
 "nbformat_minor": 2
}
