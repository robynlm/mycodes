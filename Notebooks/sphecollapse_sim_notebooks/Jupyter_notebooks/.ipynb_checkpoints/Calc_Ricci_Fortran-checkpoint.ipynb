{
 "cells": [
  {
   "cell_type": "code",
   "execution_count": 1,
   "metadata": {},
   "outputs": [],
   "source": [
    "v = ['x', 'y', 'z']\n",
    "BIG_STR = ''\n",
    "for i in v:\n",
    "    for nbrj, j in enumerate(v):\n",
    "        for nbrk, k in enumerate(v):\n",
    "            if nbrk>=nbrj:\n",
    "                BIG_STR += 'G'+i+j+k+'=('\n",
    "                for l in v:\n",
    "                    BIG_STR += ' g'+i+l+'u *(d'+j+' g'+k+l+' +d'+k+' g'+j+l+' -d'+l+' g'+j+k+' )'\n",
    "                    if l=='z':\n",
    "                        BIG_STR += ')/2._dp & '\n",
    "                    else:\n",
    "                        BIG_STR += '+'"
   ]
  },
  {
   "cell_type": "code",
   "execution_count": 2,
   "metadata": {},
   "outputs": [
    {
     "data": {
      "text/plain": [
       "'Gxxx=( gxxu *(dx gxx +dx gxx -dx gxx )+ gxyu *(dx gxy +dx gxy -dy gxx )+ gxzu *(dx gxz +dx gxz -dz gxx ))/2._dp & Gxxy=( gxxu *(dx gyx +dy gxx -dx gxy )+ gxyu *(dx gyy +dy gxy -dy gxy )+ gxzu *(dx gyz +dy gxz -dz gxy ))/2._dp & Gxxz=( gxxu *(dx gzx +dz gxx -dx gxz )+ gxyu *(dx gzy +dz gxy -dy gxz )+ gxzu *(dx gzz +dz gxz -dz gxz ))/2._dp & Gxyy=( gxxu *(dy gyx +dy gyx -dx gyy )+ gxyu *(dy gyy +dy gyy -dy gyy )+ gxzu *(dy gyz +dy gyz -dz gyy ))/2._dp & Gxyz=( gxxu *(dy gzx +dz gyx -dx gyz )+ gxyu *(dy gzy +dz gyy -dy gyz )+ gxzu *(dy gzz +dz gyz -dz gyz ))/2._dp & Gxzz=( gxxu *(dz gzx +dz gzx -dx gzz )+ gxyu *(dz gzy +dz gzy -dy gzz )+ gxzu *(dz gzz +dz gzz -dz gzz ))/2._dp & Gyxx=( gyxu *(dx gxx +dx gxx -dx gxx )+ gyyu *(dx gxy +dx gxy -dy gxx )+ gyzu *(dx gxz +dx gxz -dz gxx ))/2._dp & Gyxy=( gyxu *(dx gyx +dy gxx -dx gxy )+ gyyu *(dx gyy +dy gxy -dy gxy )+ gyzu *(dx gyz +dy gxz -dz gxy ))/2._dp & Gyxz=( gyxu *(dx gzx +dz gxx -dx gxz )+ gyyu *(dx gzy +dz gxy -dy gxz )+ gyzu *(dx gzz +dz gxz -dz gxz ))/2._dp & Gyyy=( gyxu *(dy gyx +dy gyx -dx gyy )+ gyyu *(dy gyy +dy gyy -dy gyy )+ gyzu *(dy gyz +dy gyz -dz gyy ))/2._dp & Gyyz=( gyxu *(dy gzx +dz gyx -dx gyz )+ gyyu *(dy gzy +dz gyy -dy gyz )+ gyzu *(dy gzz +dz gyz -dz gyz ))/2._dp & Gyzz=( gyxu *(dz gzx +dz gzx -dx gzz )+ gyyu *(dz gzy +dz gzy -dy gzz )+ gyzu *(dz gzz +dz gzz -dz gzz ))/2._dp & Gzxx=( gzxu *(dx gxx +dx gxx -dx gxx )+ gzyu *(dx gxy +dx gxy -dy gxx )+ gzzu *(dx gxz +dx gxz -dz gxx ))/2._dp & Gzxy=( gzxu *(dx gyx +dy gxx -dx gxy )+ gzyu *(dx gyy +dy gxy -dy gxy )+ gzzu *(dx gyz +dy gxz -dz gxy ))/2._dp & Gzxz=( gzxu *(dx gzx +dz gxx -dx gxz )+ gzyu *(dx gzy +dz gxy -dy gxz )+ gzzu *(dx gzz +dz gxz -dz gxz ))/2._dp & Gzyy=( gzxu *(dy gyx +dy gyx -dx gyy )+ gzyu *(dy gyy +dy gyy -dy gyy )+ gzzu *(dy gyz +dy gyz -dz gyy ))/2._dp & Gzyz=( gzxu *(dy gzx +dz gyx -dx gyz )+ gzyu *(dy gzy +dz gyy -dy gyz )+ gzzu *(dy gzz +dz gyz -dz gyz ))/2._dp & Gzzz=( gzxu *(dz gzx +dz gzx -dx gzz )+ gzyu *(dz gzy +dz gzy -dy gzz )+ gzzu *(dz gzz +dz gzz -dz gzz ))/2._dp & '"
      ]
     },
     "execution_count": 2,
     "metadata": {},
     "output_type": "execute_result"
    }
   ],
   "source": [
    "BIG_STR"
   ]
  },
  {
   "cell_type": "code",
   "execution_count": 3,
   "metadata": {},
   "outputs": [
    {
     "name": "stdout",
     "output_type": "stream",
     "text": [
      "Gxxx=(gxxu*(dxgxx+dxgxx-dxgxx)+gxyu*(dxgxy+dxgxy-dygxx)+gxzu*(dxgxz+dxgxz-dzgxx))/2._dp&Gxxy=(gxxu*(dxgxy+dygxx-dxgxy)+gxyu*(dxgyy+dygxy-dygxy)+gxzu*(dxgyz+dygxz-dzgxy))/2._dp&Gxxz=(gxxu*(dxgxz+dzgxx-dxgxz)+gxyu*(dxgyz+dzgxy-dygxz)+gxzu*(dxgzz+dzgxz-dzgxz))/2._dp&Gxyy=(gxxu*(dygxy+dygxy-dxgyy)+gxyu*(dygyy+dygyy-dygyy)+gxzu*(dygyz+dygyz-dzgyy))/2._dp&Gxyz=(gxxu*(dygxz+dzgxy-dxgyz)+gxyu*(dygyz+dzgyy-dygyz)+gxzu*(dygzz+dzgyz-dzgyz))/2._dp&Gxzz=(gxxu*(dzgxz+dzgxz-dxgzz)+gxyu*(dzgyz+dzgyz-dygzz)+gxzu*(dzgzz+dzgzz-dzgzz))/2._dp&Gyxx=(gxyu*(dxgxx+dxgxx-dxgxx)+gyyu*(dxgxy+dxgxy-dygxx)+gyzu*(dxgxz+dxgxz-dzgxx))/2._dp&Gyxy=(gxyu*(dxgxy+dygxx-dxgxy)+gyyu*(dxgyy+dygxy-dygxy)+gyzu*(dxgyz+dygxz-dzgxy))/2._dp&Gyxz=(gxyu*(dxgxz+dzgxx-dxgxz)+gyyu*(dxgyz+dzgxy-dygxz)+gyzu*(dxgzz+dzgxz-dzgxz))/2._dp&Gyyy=(gxyu*(dygxy+dygxy-dxgyy)+gyyu*(dygyy+dygyy-dygyy)+gyzu*(dygyz+dygyz-dzgyy))/2._dp&Gyyz=(gxyu*(dygxz+dzgxy-dxgyz)+gyyu*(dygyz+dzgyy-dygyz)+gyzu*(dygzz+dzgyz-dzgyz))/2._dp&Gyzz=(gxyu*(dzgxz+dzgxz-dxgzz)+gyyu*(dzgyz+dzgyz-dygzz)+gyzu*(dzgzz+dzgzz-dzgzz))/2._dp&Gzxx=(gxzu*(dxgxx+dxgxx-dxgxx)+gyzu*(dxgxy+dxgxy-dygxx)+gzzu*(dxgxz+dxgxz-dzgxx))/2._dp&Gzxy=(gxzu*(dxgxy+dygxx-dxgxy)+gyzu*(dxgyy+dygxy-dygxy)+gzzu*(dxgyz+dygxz-dzgxy))/2._dp&Gzxz=(gxzu*(dxgxz+dzgxx-dxgxz)+gyzu*(dxgyz+dzgxy-dygxz)+gzzu*(dxgzz+dzgxz-dzgxz))/2._dp&Gzyy=(gxzu*(dygxy+dygxy-dxgyy)+gyzu*(dygyy+dygyy-dygyy)+gzzu*(dygyz+dygyz-dzgyy))/2._dp&Gzyz=(gxzu*(dygxz+dzgxy-dxgyz)+gyzu*(dygyz+dzgyy-dygyz)+gzzu*(dygzz+dzgyz-dzgyz))/2._dp&Gzzz=(gxzu*(dzgxz+dzgxz-dxgzz)+gyzu*(dzgyz+dzgyz-dygzz)+gzzu*(dzgzz+dzgzz-dzgzz))/2._dp&\n"
     ]
    }
   ],
   "source": [
    "FINAL_BIG_STR = ''\n",
    "dum = BIG_STR.split(' ')\n",
    "for i in dum:\n",
    "    if i in ['gyxu', 'gzxu', 'gzyu', 'gyx', 'gzx', 'gzy']:\n",
    "        if i=='gyxu':\n",
    "            FINAL_BIG_STR += 'gxyu'\n",
    "        elif i=='gzxu':\n",
    "            FINAL_BIG_STR += 'gxzu'\n",
    "        elif i=='gzyu':\n",
    "            FINAL_BIG_STR += 'gyzu'\n",
    "        elif i=='gyx':\n",
    "            FINAL_BIG_STR += 'gxy'\n",
    "        elif i=='gzx':\n",
    "            FINAL_BIG_STR += 'gxz'\n",
    "        else:\n",
    "            FINAL_BIG_STR += 'gyz'\n",
    "    else:\n",
    "        FINAL_BIG_STR += i\n",
    "print(FINAL_BIG_STR)"
   ]
  },
  {
   "cell_type": "code",
   "execution_count": 8,
   "metadata": {},
   "outputs": [
    {
     "name": "stdout",
     "output_type": "stream",
     "text": [
      " gxxu * Gxxx * Gxxx +  gxxu * Gxxy * Gyxx +  gxxu * Gxxz * Gzxx +  gxxu * Gyxx * Gxyx +  gxxu * Gyxy * Gyyx +  gxxu * Gyxz * Gzyx +  gxxu * Gzxx * Gxzx +  gxxu * Gzxy * Gyzx +  gxxu * Gzxz * Gzzx +  gxyu * Gxxx * Gxxy +  gxyu * Gxxy * Gyxy +  gxyu * Gxxz * Gzxy +  gxyu * Gyxx * Gxyy +  gxyu * Gyxy * Gyyy +  gxyu * Gyxz * Gzyy +  gxyu * Gzxx * Gxzy +  gxyu * Gzxy * Gyzy +  gxyu * Gzxz * Gzzy +  gxzu * Gxxx * Gxxz +  gxzu * Gxxy * Gyxz +  gxzu * Gxxz * Gzxz +  gxzu * Gyxx * Gxyz +  gxzu * Gyxy * Gyyz +  gxzu * Gyxz * Gzyz +  gxzu * Gzxx * Gxzz +  gxzu * Gzxy * Gyzz +  gxzu * Gzxz * Gzzz +  gyxu * Gxyx * Gxxx +  gyxu * Gxyy * Gyxx +  gyxu * Gxyz * Gzxx +  gyxu * Gyyx * Gxyx +  gyxu * Gyyy * Gyyx +  gyxu * Gyyz * Gzyx +  gyxu * Gzyx * Gxzx +  gyxu * Gzyy * Gyzx +  gyxu * Gzyz * Gzzx +  gyyu * Gxyx * Gxxy +  gyyu * Gxyy * Gyxy +  gyyu * Gxyz * Gzxy +  gyyu * Gyyx * Gxyy +  gyyu * Gyyy * Gyyy +  gyyu * Gyyz * Gzyy +  gyyu * Gzyx * Gxzy +  gyyu * Gzyy * Gyzy +  gyyu * Gzyz * Gzzy +  gyzu * Gxyx * Gxxz +  gyzu * Gxyy * Gyxz +  gyzu * Gxyz * Gzxz +  gyzu * Gyyx * Gxyz +  gyzu * Gyyy * Gyyz +  gyzu * Gyyz * Gzyz +  gyzu * Gzyx * Gxzz +  gyzu * Gzyy * Gyzz +  gyzu * Gzyz * Gzzz +  gzxu * Gxzx * Gxxx +  gzxu * Gxzy * Gyxx +  gzxu * Gxzz * Gzxx +  gzxu * Gyzx * Gxyx +  gzxu * Gyzy * Gyyx +  gzxu * Gyzz * Gzyx +  gzxu * Gzzx * Gxzx +  gzxu * Gzzy * Gyzx +  gzxu * Gzzz * Gzzx +  gzyu * Gxzx * Gxxy +  gzyu * Gxzy * Gyxy +  gzyu * Gxzz * Gzxy +  gzyu * Gyzx * Gxyy +  gzyu * Gyzy * Gyyy +  gzyu * Gyzz * Gzyy +  gzyu * Gzzx * Gxzy +  gzyu * Gzzy * Gyzy +  gzyu * Gzzz * Gzzy +  gzzu * Gxzx * Gxxz +  gzzu * Gxzy * Gyxz +  gzzu * Gxzz * Gzxz +  gzzu * Gyzx * Gxyz +  gzzu * Gyzy * Gyyz +  gzzu * Gyzz * Gzyz +  gzzu * Gzzx * Gxzz +  gzzu * Gzzy * Gyzz +  gzzu * Gzzz * Gzzz + \n"
     ]
    }
   ],
   "source": [
    "v = ['x', 'y', 'z']\n",
    "RicciTerm4_str = '' #gjku*Gijp*Gpik\n",
    "for j in v:\n",
    "    for k in v:\n",
    "        for i in v:\n",
    "            for p in v:\n",
    "                RicciTerm4_str += ' g'+j+k+'u * G'+i+j+p+' * G'+p+i+k+' + '\n",
    "dum = RicciTerm4_str.split(' ')\n",
    "prblm = ['gyx', 'gzx', 'gzy', 'gyxu', 'gzxu', 'gzyu', 'Gxyx', 'Gxzx', 'Gxzy', 'Gyyx', 'Gyzx', 'Gyzy', 'Gzyx', 'Gzzx', 'Gzzy']\n",
    "fix = ['gxy', 'gxz', 'gyz', 'gxyu', 'gxzu', 'gyzu', 'Gxxy', 'Gxxz', 'Gxyz', 'Gyxy', 'Gyxz', 'Gyyz', 'Gzxy', 'Gzxz', 'Gzyz']\n",
    "RicciTerm4_str = ''\n",
    "for i in dum:\n",
    "    if i in prblm:\n",
    "        for ip, p in enumerate(prblm):\n",
    "            if i==p:\n",
    "            RicciTerm4_str += fix = \n",
    "        \n",
    "    else:\n",
    "        FINAL_BIG_STR += i\n",
    "print(FINAL_BIG_STR)"
   ]
  },
  {
   "cell_type": "code",
   "execution_count": 4,
   "metadata": {},
   "outputs": [
    {
     "name": "stdout",
     "output_type": "stream",
     "text": [
      "dxGxxx = (dxgxxu*(dxgxx+dxgxx-dxgxx) + gxxu*(dxdxgxx+dxdxgxx-dxdxgxx) + dxgxyu*(dxgxy+dxgxy-dygxx) + gxyu*(dxdxgxy+dxdxgxy-dxdygxx) + dxgxzu*(dxgxz+dxgxz-dzgxx) + gxzu*(dxdxgxz+dxdxgxz-dxdzgxx))/2._dpdxGxxy = (dxgxxu*(dxgyx+dygxx-dxgxy) + gxxu*(dxdxgyx+dxdygxx-dxdxgxy) + dxgxyu*(dxgyy+dygxy-dygxy) + gxyu*(dxdxgyy+dxdygxy-dxdygxy) + dxgxzu*(dxgyz+dygxz-dzgxy) + gxzu*(dxdxgyz+dxdygxz-dxdzgxy))/2._dpdxGxxz = (dxgxxu*(dxgzx+dzgxx-dxgxz) + gxxu*(dxdxgzx+dxdzgxx-dxdxgxz) + dxgxyu*(dxgzy+dzgxy-dygxz) + gxyu*(dxdxgzy+dxdzgxy-dxdygxz) + dxgxzu*(dxgzz+dzgxz-dzgxz) + gxzu*(dxdxgzz+dxdzgxz-dxdzgxz))/2._dpdxGxyy = (dxgxxu*(dygyx+dygyx-dxgyy) + gxxu*(dxdygyx+dxdygyx-dxdxgyy) + dxgxyu*(dygyy+dygyy-dygyy) + gxyu*(dxdygyy+dxdygyy-dxdygyy) + dxgxzu*(dygyz+dygyz-dzgyy) + gxzu*(dxdygyz+dxdygyz-dxdzgyy))/2._dpdxGxyz = (dxgxxu*(dygzx+dzgyx-dxgyz) + gxxu*(dxdygzx+dxdzgyx-dxdxgyz) + dxgxyu*(dygzy+dzgyy-dygyz) + gxyu*(dxdygzy+dxdzgyy-dxdygyz) + dxgxzu*(dygzz+dzgyz-dzgyz) + gxzu*(dxdygzz+dxdzgyz-dxdzgyz))/2._dpdxGxzz = (dxgxxu*(dzgzx+dzgzx-dxgzz) + gxxu*(dxdzgzx+dxdzgzx-dxdxgzz) + dxgxyu*(dzgzy+dzgzy-dygzz) + gxyu*(dxdzgzy+dxdzgzy-dxdygzz) + dxgxzu*(dzgzz+dzgzz-dzgzz) + gxzu*(dxdzgzz+dxdzgzz-dxdzgzz))/2._dpdxGyxx = (dxgyxu*(dxgxx+dxgxx-dxgxx) + gyxu*(dxdxgxx+dxdxgxx-dxdxgxx) + dxgyyu*(dxgxy+dxgxy-dygxx) + gyyu*(dxdxgxy+dxdxgxy-dxdygxx) + dxgyzu*(dxgxz+dxgxz-dzgxx) + gyzu*(dxdxgxz+dxdxgxz-dxdzgxx))/2._dpdxGyxy = (dxgyxu*(dxgyx+dygxx-dxgxy) + gyxu*(dxdxgyx+dxdygxx-dxdxgxy) + dxgyyu*(dxgyy+dygxy-dygxy) + gyyu*(dxdxgyy+dxdygxy-dxdygxy) + dxgyzu*(dxgyz+dygxz-dzgxy) + gyzu*(dxdxgyz+dxdygxz-dxdzgxy))/2._dpdxGyxz = (dxgyxu*(dxgzx+dzgxx-dxgxz) + gyxu*(dxdxgzx+dxdzgxx-dxdxgxz) + dxgyyu*(dxgzy+dzgxy-dygxz) + gyyu*(dxdxgzy+dxdzgxy-dxdygxz) + dxgyzu*(dxgzz+dzgxz-dzgxz) + gyzu*(dxdxgzz+dxdzgxz-dxdzgxz))/2._dpdxGyyy = (dxgyxu*(dygyx+dygyx-dxgyy) + gyxu*(dxdygyx+dxdygyx-dxdxgyy) + dxgyyu*(dygyy+dygyy-dygyy) + gyyu*(dxdygyy+dxdygyy-dxdygyy) + dxgyzu*(dygyz+dygyz-dzgyy) + gyzu*(dxdygyz+dxdygyz-dxdzgyy))/2._dpdxGyyz = (dxgyxu*(dygzx+dzgyx-dxgyz) + gyxu*(dxdygzx+dxdzgyx-dxdxgyz) + dxgyyu*(dygzy+dzgyy-dygyz) + gyyu*(dxdygzy+dxdzgyy-dxdygyz) + dxgyzu*(dygzz+dzgyz-dzgyz) + gyzu*(dxdygzz+dxdzgyz-dxdzgyz))/2._dpdxGyzz = (dxgyxu*(dzgzx+dzgzx-dxgzz) + gyxu*(dxdzgzx+dxdzgzx-dxdxgzz) + dxgyyu*(dzgzy+dzgzy-dygzz) + gyyu*(dxdzgzy+dxdzgzy-dxdygzz) + dxgyzu*(dzgzz+dzgzz-dzgzz) + gyzu*(dxdzgzz+dxdzgzz-dxdzgzz))/2._dpdxGzxx = (dxgzxu*(dxgxx+dxgxx-dxgxx) + gzxu*(dxdxgxx+dxdxgxx-dxdxgxx) + dxgzyu*(dxgxy+dxgxy-dygxx) + gzyu*(dxdxgxy+dxdxgxy-dxdygxx) + dxgzzu*(dxgxz+dxgxz-dzgxx) + gzzu*(dxdxgxz+dxdxgxz-dxdzgxx))/2._dpdxGzxy = (dxgzxu*(dxgyx+dygxx-dxgxy) + gzxu*(dxdxgyx+dxdygxx-dxdxgxy) + dxgzyu*(dxgyy+dygxy-dygxy) + gzyu*(dxdxgyy+dxdygxy-dxdygxy) + dxgzzu*(dxgyz+dygxz-dzgxy) + gzzu*(dxdxgyz+dxdygxz-dxdzgxy))/2._dpdxGzxz = (dxgzxu*(dxgzx+dzgxx-dxgxz) + gzxu*(dxdxgzx+dxdzgxx-dxdxgxz) + dxgzyu*(dxgzy+dzgxy-dygxz) + gzyu*(dxdxgzy+dxdzgxy-dxdygxz) + dxgzzu*(dxgzz+dzgxz-dzgxz) + gzzu*(dxdxgzz+dxdzgxz-dxdzgxz))/2._dpdxGzyy = (dxgzxu*(dygyx+dygyx-dxgyy) + gzxu*(dxdygyx+dxdygyx-dxdxgyy) + dxgzyu*(dygyy+dygyy-dygyy) + gzyu*(dxdygyy+dxdygyy-dxdygyy) + dxgzzu*(dygyz+dygyz-dzgyy) + gzzu*(dxdygyz+dxdygyz-dxdzgyy))/2._dpdxGzyz = (dxgzxu*(dygzx+dzgyx-dxgyz) + gzxu*(dxdygzx+dxdzgyx-dxdxgyz) + dxgzyu*(dygzy+dzgyy-dygyz) + gzyu*(dxdygzy+dxdzgyy-dxdygyz) + dxgzzu*(dygzz+dzgyz-dzgyz) + gzzu*(dxdygzz+dxdzgyz-dxdzgyz))/2._dpdxGzzz = (dxgzxu*(dzgzx+dzgzx-dxgzz) + gzxu*(dxdzgzx+dxdzgzx-dxdxgzz) + dxgzyu*(dzgzy+dzgzy-dygzz) + gzyu*(dxdzgzy+dxdzgzy-dxdygzz) + dxgzzu*(dzgzz+dzgzz-dzgzz) + gzzu*(dxdzgzz+dxdzgzz-dxdzgzz))/2._dpdyGxxx = (dygxxu*(dxgxx+dxgxx-dxgxx) + gxxu*(dydxgxx+dydxgxx-dydxgxx) + dygxyu*(dxgxy+dxgxy-dygxx) + gxyu*(dydxgxy+dydxgxy-dydygxx) + dygxzu*(dxgxz+dxgxz-dzgxx) + gxzu*(dydxgxz+dydxgxz-dydzgxx))/2._dpdyGxxy = (dygxxu*(dxgyx+dygxx-dxgxy) + gxxu*(dydxgyx+dydygxx-dydxgxy) + dygxyu*(dxgyy+dygxy-dygxy) + gxyu*(dydxgyy+dydygxy-dydygxy) + dygxzu*(dxgyz+dygxz-dzgxy) + gxzu*(dydxgyz+dydygxz-dydzgxy))/2._dpdyGxxz = (dygxxu*(dxgzx+dzgxx-dxgxz) + gxxu*(dydxgzx+dydzgxx-dydxgxz) + dygxyu*(dxgzy+dzgxy-dygxz) + gxyu*(dydxgzy+dydzgxy-dydygxz) + dygxzu*(dxgzz+dzgxz-dzgxz) + gxzu*(dydxgzz+dydzgxz-dydzgxz))/2._dpdyGxyy = (dygxxu*(dygyx+dygyx-dxgyy) + gxxu*(dydygyx+dydygyx-dydxgyy) + dygxyu*(dygyy+dygyy-dygyy) + gxyu*(dydygyy+dydygyy-dydygyy) + dygxzu*(dygyz+dygyz-dzgyy) + gxzu*(dydygyz+dydygyz-dydzgyy))/2._dpdyGxyz = (dygxxu*(dygzx+dzgyx-dxgyz) + gxxu*(dydygzx+dydzgyx-dydxgyz) + dygxyu*(dygzy+dzgyy-dygyz) + gxyu*(dydygzy+dydzgyy-dydygyz) + dygxzu*(dygzz+dzgyz-dzgyz) + gxzu*(dydygzz+dydzgyz-dydzgyz))/2._dpdyGxzz = (dygxxu*(dzgzx+dzgzx-dxgzz) + gxxu*(dydzgzx+dydzgzx-dydxgzz) + dygxyu*(dzgzy+dzgzy-dygzz) + gxyu*(dydzgzy+dydzgzy-dydygzz) + dygxzu*(dzgzz+dzgzz-dzgzz) + gxzu*(dydzgzz+dydzgzz-dydzgzz))/2._dpdyGyxx = (dygyxu*(dxgxx+dxgxx-dxgxx) + gyxu*(dydxgxx+dydxgxx-dydxgxx) + dygyyu*(dxgxy+dxgxy-dygxx) + gyyu*(dydxgxy+dydxgxy-dydygxx) + dygyzu*(dxgxz+dxgxz-dzgxx) + gyzu*(dydxgxz+dydxgxz-dydzgxx))/2._dpdyGyxy = (dygyxu*(dxgyx+dygxx-dxgxy) + gyxu*(dydxgyx+dydygxx-dydxgxy) + dygyyu*(dxgyy+dygxy-dygxy) + gyyu*(dydxgyy+dydygxy-dydygxy) + dygyzu*(dxgyz+dygxz-dzgxy) + gyzu*(dydxgyz+dydygxz-dydzgxy))/2._dpdyGyxz = (dygyxu*(dxgzx+dzgxx-dxgxz) + gyxu*(dydxgzx+dydzgxx-dydxgxz) + dygyyu*(dxgzy+dzgxy-dygxz) + gyyu*(dydxgzy+dydzgxy-dydygxz) + dygyzu*(dxgzz+dzgxz-dzgxz) + gyzu*(dydxgzz+dydzgxz-dydzgxz))/2._dpdyGyyy = (dygyxu*(dygyx+dygyx-dxgyy) + gyxu*(dydygyx+dydygyx-dydxgyy) + dygyyu*(dygyy+dygyy-dygyy) + gyyu*(dydygyy+dydygyy-dydygyy) + dygyzu*(dygyz+dygyz-dzgyy) + gyzu*(dydygyz+dydygyz-dydzgyy))/2._dpdyGyyz = (dygyxu*(dygzx+dzgyx-dxgyz) + gyxu*(dydygzx+dydzgyx-dydxgyz) + dygyyu*(dygzy+dzgyy-dygyz) + gyyu*(dydygzy+dydzgyy-dydygyz) + dygyzu*(dygzz+dzgyz-dzgyz) + gyzu*(dydygzz+dydzgyz-dydzgyz))/2._dpdyGyzz = (dygyxu*(dzgzx+dzgzx-dxgzz) + gyxu*(dydzgzx+dydzgzx-dydxgzz) + dygyyu*(dzgzy+dzgzy-dygzz) + gyyu*(dydzgzy+dydzgzy-dydygzz) + dygyzu*(dzgzz+dzgzz-dzgzz) + gyzu*(dydzgzz+dydzgzz-dydzgzz))/2._dpdyGzxx = (dygzxu*(dxgxx+dxgxx-dxgxx) + gzxu*(dydxgxx+dydxgxx-dydxgxx) + dygzyu*(dxgxy+dxgxy-dygxx) + gzyu*(dydxgxy+dydxgxy-dydygxx) + dygzzu*(dxgxz+dxgxz-dzgxx) + gzzu*(dydxgxz+dydxgxz-dydzgxx))/2._dpdyGzxy = (dygzxu*(dxgyx+dygxx-dxgxy) + gzxu*(dydxgyx+dydygxx-dydxgxy) + dygzyu*(dxgyy+dygxy-dygxy) + gzyu*(dydxgyy+dydygxy-dydygxy) + dygzzu*(dxgyz+dygxz-dzgxy) + gzzu*(dydxgyz+dydygxz-dydzgxy))/2._dpdyGzxz = (dygzxu*(dxgzx+dzgxx-dxgxz) + gzxu*(dydxgzx+dydzgxx-dydxgxz) + dygzyu*(dxgzy+dzgxy-dygxz) + gzyu*(dydxgzy+dydzgxy-dydygxz) + dygzzu*(dxgzz+dzgxz-dzgxz) + gzzu*(dydxgzz+dydzgxz-dydzgxz))/2._dpdyGzyy = (dygzxu*(dygyx+dygyx-dxgyy) + gzxu*(dydygyx+dydygyx-dydxgyy) + dygzyu*(dygyy+dygyy-dygyy) + gzyu*(dydygyy+dydygyy-dydygyy) + dygzzu*(dygyz+dygyz-dzgyy) + gzzu*(dydygyz+dydygyz-dydzgyy))/2._dpdyGzyz = (dygzxu*(dygzx+dzgyx-dxgyz) + gzxu*(dydygzx+dydzgyx-dydxgyz) + dygzyu*(dygzy+dzgyy-dygyz) + gzyu*(dydygzy+dydzgyy-dydygyz) + dygzzu*(dygzz+dzgyz-dzgyz) + gzzu*(dydygzz+dydzgyz-dydzgyz))/2._dpdyGzzz = (dygzxu*(dzgzx+dzgzx-dxgzz) + gzxu*(dydzgzx+dydzgzx-dydxgzz) + dygzyu*(dzgzy+dzgzy-dygzz) + gzyu*(dydzgzy+dydzgzy-dydygzz) + dygzzu*(dzgzz+dzgzz-dzgzz) + gzzu*(dydzgzz+dydzgzz-dydzgzz))/2._dpdzGxxx = (dzgxxu*(dxgxx+dxgxx-dxgxx) + gxxu*(dzdxgxx+dzdxgxx-dzdxgxx) + dzgxyu*(dxgxy+dxgxy-dygxx) + gxyu*(dzdxgxy+dzdxgxy-dzdygxx) + dzgxzu*(dxgxz+dxgxz-dzgxx) + gxzu*(dzdxgxz+dzdxgxz-dzdzgxx))/2._dpdzGxxy = (dzgxxu*(dxgyx+dygxx-dxgxy) + gxxu*(dzdxgyx+dzdygxx-dzdxgxy) + dzgxyu*(dxgyy+dygxy-dygxy) + gxyu*(dzdxgyy+dzdygxy-dzdygxy) + dzgxzu*(dxgyz+dygxz-dzgxy) + gxzu*(dzdxgyz+dzdygxz-dzdzgxy))/2._dpdzGxxz = (dzgxxu*(dxgzx+dzgxx-dxgxz) + gxxu*(dzdxgzx+dzdzgxx-dzdxgxz) + dzgxyu*(dxgzy+dzgxy-dygxz) + gxyu*(dzdxgzy+dzdzgxy-dzdygxz) + dzgxzu*(dxgzz+dzgxz-dzgxz) + gxzu*(dzdxgzz+dzdzgxz-dzdzgxz))/2._dpdzGxyy = (dzgxxu*(dygyx+dygyx-dxgyy) + gxxu*(dzdygyx+dzdygyx-dzdxgyy) + dzgxyu*(dygyy+dygyy-dygyy) + gxyu*(dzdygyy+dzdygyy-dzdygyy) + dzgxzu*(dygyz+dygyz-dzgyy) + gxzu*(dzdygyz+dzdygyz-dzdzgyy))/2._dpdzGxyz = (dzgxxu*(dygzx+dzgyx-dxgyz) + gxxu*(dzdygzx+dzdzgyx-dzdxgyz) + dzgxyu*(dygzy+dzgyy-dygyz) + gxyu*(dzdygzy+dzdzgyy-dzdygyz) + dzgxzu*(dygzz+dzgyz-dzgyz) + gxzu*(dzdygzz+dzdzgyz-dzdzgyz))/2._dpdzGxzz = (dzgxxu*(dzgzx+dzgzx-dxgzz) + gxxu*(dzdzgzx+dzdzgzx-dzdxgzz) + dzgxyu*(dzgzy+dzgzy-dygzz) + gxyu*(dzdzgzy+dzdzgzy-dzdygzz) + dzgxzu*(dzgzz+dzgzz-dzgzz) + gxzu*(dzdzgzz+dzdzgzz-dzdzgzz))/2._dpdzGyxx = (dzgyxu*(dxgxx+dxgxx-dxgxx) + gyxu*(dzdxgxx+dzdxgxx-dzdxgxx) + dzgyyu*(dxgxy+dxgxy-dygxx) + gyyu*(dzdxgxy+dzdxgxy-dzdygxx) + dzgyzu*(dxgxz+dxgxz-dzgxx) + gyzu*(dzdxgxz+dzdxgxz-dzdzgxx))/2._dpdzGyxy = (dzgyxu*(dxgyx+dygxx-dxgxy) + gyxu*(dzdxgyx+dzdygxx-dzdxgxy) + dzgyyu*(dxgyy+dygxy-dygxy) + gyyu*(dzdxgyy+dzdygxy-dzdygxy) + dzgyzu*(dxgyz+dygxz-dzgxy) + gyzu*(dzdxgyz+dzdygxz-dzdzgxy))/2._dpdzGyxz = (dzgyxu*(dxgzx+dzgxx-dxgxz) + gyxu*(dzdxgzx+dzdzgxx-dzdxgxz) + dzgyyu*(dxgzy+dzgxy-dygxz) + gyyu*(dzdxgzy+dzdzgxy-dzdygxz) + dzgyzu*(dxgzz+dzgxz-dzgxz) + gyzu*(dzdxgzz+dzdzgxz-dzdzgxz))/2._dpdzGyyy = (dzgyxu*(dygyx+dygyx-dxgyy) + gyxu*(dzdygyx+dzdygyx-dzdxgyy) + dzgyyu*(dygyy+dygyy-dygyy) + gyyu*(dzdygyy+dzdygyy-dzdygyy) + dzgyzu*(dygyz+dygyz-dzgyy) + gyzu*(dzdygyz+dzdygyz-dzdzgyy))/2._dpdzGyyz = (dzgyxu*(dygzx+dzgyx-dxgyz) + gyxu*(dzdygzx+dzdzgyx-dzdxgyz) + dzgyyu*(dygzy+dzgyy-dygyz) + gyyu*(dzdygzy+dzdzgyy-dzdygyz) + dzgyzu*(dygzz+dzgyz-dzgyz) + gyzu*(dzdygzz+dzdzgyz-dzdzgyz))/2._dpdzGyzz = (dzgyxu*(dzgzx+dzgzx-dxgzz) + gyxu*(dzdzgzx+dzdzgzx-dzdxgzz) + dzgyyu*(dzgzy+dzgzy-dygzz) + gyyu*(dzdzgzy+dzdzgzy-dzdygzz) + dzgyzu*(dzgzz+dzgzz-dzgzz) + gyzu*(dzdzgzz+dzdzgzz-dzdzgzz))/2._dpdzGzxx = (dzgzxu*(dxgxx+dxgxx-dxgxx) + gzxu*(dzdxgxx+dzdxgxx-dzdxgxx) + dzgzyu*(dxgxy+dxgxy-dygxx) + gzyu*(dzdxgxy+dzdxgxy-dzdygxx) + dzgzzu*(dxgxz+dxgxz-dzgxx) + gzzu*(dzdxgxz+dzdxgxz-dzdzgxx))/2._dpdzGzxy = (dzgzxu*(dxgyx+dygxx-dxgxy) + gzxu*(dzdxgyx+dzdygxx-dzdxgxy) + dzgzyu*(dxgyy+dygxy-dygxy) + gzyu*(dzdxgyy+dzdygxy-dzdygxy) + dzgzzu*(dxgyz+dygxz-dzgxy) + gzzu*(dzdxgyz+dzdygxz-dzdzgxy))/2._dpdzGzxz = (dzgzxu*(dxgzx+dzgxx-dxgxz) + gzxu*(dzdxgzx+dzdzgxx-dzdxgxz) + dzgzyu*(dxgzy+dzgxy-dygxz) + gzyu*(dzdxgzy+dzdzgxy-dzdygxz) + dzgzzu*(dxgzz+dzgxz-dzgxz) + gzzu*(dzdxgzz+dzdzgxz-dzdzgxz))/2._dpdzGzyy = (dzgzxu*(dygyx+dygyx-dxgyy) + gzxu*(dzdygyx+dzdygyx-dzdxgyy) + dzgzyu*(dygyy+dygyy-dygyy) + gzyu*(dzdygyy+dzdygyy-dzdygyy) + dzgzzu*(dygyz+dygyz-dzgyy) + gzzu*(dzdygyz+dzdygyz-dzdzgyy))/2._dpdzGzyz = (dzgzxu*(dygzx+dzgyx-dxgyz) + gzxu*(dzdygzx+dzdzgyx-dzdxgyz) + dzgzyu*(dygzy+dzgyy-dygyz) + gzyu*(dzdygzy+dzdzgyy-dzdygyz) + dzgzzu*(dygzz+dzgyz-dzgyz) + gzzu*(dzdygzz+dzdzgyz-dzdzgyz))/2._dpdzGzzz = (dzgzxu*(dzgzx+dzgzx-dxgzz) + gzxu*(dzdzgzx+dzdzgzx-dzdxgzz) + dzgzyu*(dzgzy+dzgzy-dygzz) + gzyu*(dzdzgzy+dzdzgzy-dzdygzz) + dzgzzu*(dzgzz+dzgzz-dzgzz) + gzzu*(dzdzgzz+dzdzgzz-dzdzgzz))/2._dp"
     ]
    }
   ],
   "source": [
    "v = ['x', 'y', 'z']\n",
    "for m in v:\n",
    "    for i in v:\n",
    "        for nbrj, j in enumerate(v):\n",
    "            for nbrk, k in enumerate(v):\n",
    "                if nbrk>=nbrj:\n",
    "                    print('d'+m+'G'+i+j+k+' = (', end='')\n",
    "                    for l in v:\n",
    "                        print('d'+m+'g'+i+l+'u*(d'+j+'g'+k+l+'+d'+k+'g'+j+l+'-d'+l+'g'+j+k+') + ', end='')\n",
    "                        print('g'+i+l+'u*(d'+m+'d'+j+'g'+k+l+'+d'+m+'d'+k+'g'+j+l+'-d'+m+'d'+l+'g'+j+k+')', end='')\n",
    "                        if l=='z':\n",
    "                            print(')/2._dp', end='')\n",
    "                        else:\n",
    "                            print(' + ', end='')"
   ]
  },
  {
   "cell_type": "code",
   "execution_count": 19,
   "metadata": {},
   "outputs": [
    {
     "name": "stdout",
     "output_type": "stream",
     "text": [
      "Rxx =  + dxGxxx + dyGyxx + dzGzxx - dxGxxx - dxGyyx - dxGzzx + Gxxx*Gxxx + Gxxy*Gyxx + Gxxz*Gzxx + Gyyx*Gxxx + Gyyy*Gyxx + Gyyz*Gzxx + Gzzx*Gxxx + Gzzy*Gyxx + Gzzz*Gzxx - Gxxx*Gxxx - Gxxy*Gyxx - Gxxz*Gzxx - Gyxx*Gxyx - Gyxy*Gyyx - Gyxz*Gzyx - Gzxx*Gxzx - Gzxy*Gyzx - Gzxz*Gzzx\n",
      "Ryx =  + dxGxxy + dyGyxy + dzGzxy - dxGxxy - dxGyyy - dxGzzy + Gxxx*Gxxy + Gxxy*Gyxy + Gxxz*Gzxy + Gyyx*Gxxy + Gyyy*Gyxy + Gyyz*Gzxy + Gzzx*Gxxy + Gzzy*Gyxy + Gzzz*Gzxy - Gxxx*Gxxy - Gxxy*Gyxy - Gxxz*Gzxy - Gyxx*Gxyy - Gyxy*Gyyy - Gyxz*Gzyy - Gzxx*Gxzy - Gzxy*Gyzy - Gzxz*Gzzy\n",
      "Rzx =  + dxGxxz + dyGyxz + dzGzxz - dxGxxz - dxGyyz - dxGzzz + Gxxx*Gxxz + Gxxy*Gyxz + Gxxz*Gzxz + Gyyx*Gxxz + Gyyy*Gyxz + Gyyz*Gzxz + Gzzx*Gxxz + Gzzy*Gyxz + Gzzz*Gzxz - Gxxx*Gxxz - Gxxy*Gyxz - Gxxz*Gzxz - Gyxx*Gxyz - Gyxy*Gyyz - Gyxz*Gzyz - Gzxx*Gxzz - Gzxy*Gyzz - Gzxz*Gzzz\n",
      "\n",
      "Ryy =  + dxGxyy + dyGyyy + dzGzyy - dyGxxy - dyGyyy - dyGzzy + Gxxx*Gxyy + Gxxy*Gyyy + Gxxz*Gzyy + Gyyx*Gxyy + Gyyy*Gyyy + Gyyz*Gzyy + Gzzx*Gxyy + Gzzy*Gyyy + Gzzz*Gzyy - Gxyx*Gxxy - Gxyy*Gyxy - Gxyz*Gzxy - Gyyx*Gxyy - Gyyy*Gyyy - Gyyz*Gzyy - Gzyx*Gxzy - Gzyy*Gyzy - Gzyz*Gzzy\n",
      "Rzy =  + dxGxyz + dyGyyz + dzGzyz - dyGxxz - dyGyyz - dyGzzz + Gxxx*Gxyz + Gxxy*Gyyz + Gxxz*Gzyz + Gyyx*Gxyz + Gyyy*Gyyz + Gyyz*Gzyz + Gzzx*Gxyz + Gzzy*Gyyz + Gzzz*Gzyz - Gxyx*Gxxz - Gxyy*Gyxz - Gxyz*Gzxz - Gyyx*Gxyz - Gyyy*Gyyz - Gyyz*Gzyz - Gzyx*Gxzz - Gzyy*Gyzz - Gzyz*Gzzz\n",
      "\n",
      "\n",
      "Rzz =  + dxGxzz + dyGyzz + dzGzzz - dzGxxz - dzGyyz - dzGzzz + Gxxx*Gxzz + Gxxy*Gyzz + Gxxz*Gzzz + Gyyx*Gxzz + Gyyy*Gyzz + Gyyz*Gzzz + Gzzx*Gxzz + Gzzy*Gyzz + Gzzz*Gzzz - Gxzx*Gxxz - Gxzy*Gyxz - Gxzz*Gzxz - Gyzx*Gxyz - Gyzy*Gyyz - Gyzz*Gzyz - Gzzx*Gxzz - Gzzy*Gyzz - Gzzz*Gzzz\n"
     ]
    }
   ],
   "source": [
    "for nbrn, n in enumerate(v):\n",
    "    for nbrs, s in enumerate(v):\n",
    "        if nbrs>=nbrn:\n",
    "            #R1sn = drGrns\n",
    "            print('R'+s+n+' = ', end='')\n",
    "            for r in v:\n",
    "                print(' + d'+r+'G'+r+n+s, end='')\n",
    "                    \n",
    "            # R2sn = dnGrrs\n",
    "            #print('\\nR2'+s+n+' = ', end='')\n",
    "            for r in v:\n",
    "                print(' - d'+n+'G'+r+r+s, end='')\n",
    "                    \n",
    "            # R3sn = Grrl*Glns\n",
    "            #print('\\nR3'+s+n+' = ', end='')\n",
    "            for r in v:\n",
    "                for l in v:\n",
    "                    print(' + G'+r+r+l+'*G'+l+n+s, end='')\n",
    "                \n",
    "            # R4sn = Grnl*Glrs\n",
    "            #print('\\nR4'+s+n+' = ', end='')\n",
    "            for r in v:\n",
    "                for l in v:\n",
    "                    print(' - G'+r+n+l+'*G'+l+r+s, end='')\n",
    "        print()"
   ]
  },
  {
   "cell_type": "code",
   "execution_count": 20,
   "metadata": {},
   "outputs": [
    {
     "name": "stdout",
     "output_type": "stream",
     "text": [
      "RicciScalarFull = gxx*Rxx + gxy*Rxy + gxz*Rxz + gyx*Ryx + gyy*Ryy + gyz*Ryz + gzx*Rzx + gzy*Rzy + gzz*Rzz + "
     ]
    }
   ],
   "source": [
    "print('RicciScalarFull = ', end='')\n",
    "for nbrn, n in enumerate(v):\n",
    "    for nbrs, s in enumerate(v):\n",
    "        print('g'+n+s+'*R'+n+s+' + ', end='')"
   ]
  },
  {
   "cell_type": "code",
   "execution_count": null,
   "metadata": {},
   "outputs": [],
   "source": []
  }
 ],
 "metadata": {
  "kernelspec": {
   "display_name": "Python 3",
   "language": "python",
   "name": "python3"
  },
  "language_info": {
   "codemirror_mode": {
    "name": "ipython",
    "version": 3
   },
   "file_extension": ".py",
   "mimetype": "text/x-python",
   "name": "python",
   "nbconvert_exporter": "python",
   "pygments_lexer": "ipython3",
   "version": "3.7.3"
  }
 },
 "nbformat": 4,
 "nbformat_minor": 2
}
