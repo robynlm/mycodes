{
 "cells": [
  {
   "cell_type": "code",
   "execution_count": 1,
   "metadata": {},
   "outputs": [],
   "source": [
    "import numpy as np\n",
    "speed_of_light = 299792458   # m.s^{-1}\n",
    "Grav_const     = 6.67408e-11 # m^3.kg^{-1}.s^{-2}\n",
    "parsec         = 3.0857e16   # m\n",
    "Megaparsec    = parsec*1e6  # m\n",
    "MassSun        = 1.98847e30\n",
    "\n",
    "\n",
    "G = 1#Grav_const#1           # Mpc / kg\n",
    "kappa = 8*np.pi*G\n",
    "c = 1#speed_of_light#1           # Mpc.yr\n",
    "h = 0.6737\n",
    "Mpc = 1#Megaparsec # 1\n",
    "H0 = h*c/(2997.9*Mpc) # 1/Mpc\n",
    "Om0 = 0.3147\n",
    "Ol0 = 1-Om0\n",
    "zc = 0\n",
    "a0 = 1+zc\n",
    "t0_EdS = 2 / ( 3 * H0 ) # Mpc"
   ]
  },
  {
   "cell_type": "code",
   "execution_count": 2,
   "metadata": {},
   "outputs": [],
   "source": [
    "L = 50*Mpc\n",
    "t = 1 # Mpc\n",
    "aa = a0 * ( Om0 / Ol0 )**(1/3) * np.sinh( np.sqrt(Ol0) * t / t0_EdS )**(2/3)\n",
    "Hprop = H0 * np.sqrt( Om0 * ( aa / a0 )**(-3) + Ol0 ) # 1/Mpc\n",
    "Om = Om0 / ( Om0 + Ol0 * ( aa / a0 )**3 )"
   ]
  },
  {
   "cell_type": "code",
   "execution_count": 3,
   "metadata": {},
   "outputs": [
    {
     "name": "stdout",
     "output_type": "stream",
     "text": [
      "rho_IN  : 5.305165e-02 kg.m^{-3}\n",
      "MDIN  : 2.371303e-04\n",
      "MDIN  : 4.955319e+15 MS\n"
     ]
    }
   ],
   "source": [
    "rhoflrw = 3 * Hprop**2 * Om / kappa # c^2 / Mpc^2 * G\n",
    "print('rho_IN  : {:e}'.format(rhoflrw), 'kg.m^{-3}')\n",
    "V0 = L**3  # Mpc^3\n",
    "Lini = L/(a0/aa)\n",
    "Vini = Lini**3\n",
    "MassINI = rhoflrw*Vini\n",
    "print('MDIN  : {:e}'.format(MassINI))\n",
    "Massfac = (Megaparsec*speed_of_light**2)/(Grav_const*MassSun*a0**3)\n",
    "print('MDIN  : {:e}'.format(MassINI*Massfac), 'MS')"
   ]
  },
  {
   "cell_type": "code",
   "execution_count": 15,
   "metadata": {},
   "outputs": [
    {
     "name": "stdout",
     "output_type": "stream",
     "text": [
      "Cell Mass: 1.512243e+11\n",
      "OD Mass: 1.587856e+11\n"
     ]
    }
   ],
   "source": [
    "delta = 0.05 # Amp_pert = 0.00001166757236077637\n",
    "rhoOD = rhoflrw*(1+delta)\n",
    "N = 128\n",
    "dx = L/N\n",
    "dxini = dx/(a0/aa)\n",
    "MassOD = rhoOD*dxini**3\n",
    "print('Cell Mass: {:e}'.format((rhoflrw*dxini**3)*Massfac))\n",
    "print('OD Mass: {:e}'.format((rhoOD*dxini**3)*Massfac))"
   ]
  },
  {
   "cell_type": "code",
   "execution_count": 10,
   "metadata": {},
   "outputs": [
    {
     "name": "stdout",
     "output_type": "stream",
     "text": [
      "0.05 33.599999999999994 194.764103468786\n"
     ]
    }
   ],
   "source": [
    "an = (1.68/delta)#**(3/2)\n",
    "tmax = t*an**(3/2)\n",
    "print(delta, an, tmax)"
   ]
  },
  {
   "cell_type": "code",
   "execution_count": 11,
   "metadata": {},
   "outputs": [
    {
     "name": "stdout",
     "output_type": "stream",
     "text": [
      "dx 0.390625\n",
      "dt 0.0012869234926071883 0.000625\n"
     ]
    }
   ],
   "source": [
    "dtfac = 0.0016\n",
    "dt = dtfac*dx\n",
    "print('dx', dx)\n",
    "print('dt', aa*dx, dt)"
   ]
  },
  {
   "cell_type": "code",
   "execution_count": 12,
   "metadata": {},
   "outputs": [
    {
     "data": {
      "text/plain": [
       "623.2451311001153"
      ]
     },
     "execution_count": 12,
     "metadata": {},
     "output_type": "execute_result"
    }
   ],
   "source": [
    "tmax/(500*dt)"
   ]
  },
  {
   "cell_type": "code",
   "execution_count": 13,
   "metadata": {},
   "outputs": [
    {
     "data": {
      "text/plain": [
       "(3.125, 1.5625, 0.78125, 0.390625)"
      ]
     },
     "execution_count": 13,
     "metadata": {},
     "output_type": "execute_result"
    }
   ],
   "source": [
    "L/16, L/32, L/64, L/128"
   ]
  },
  {
   "cell_type": "code",
   "execution_count": null,
   "metadata": {},
   "outputs": [],
   "source": []
  }
 ],
 "metadata": {
  "kernelspec": {
   "display_name": "Python 3",
   "language": "python",
   "name": "python3"
  },
  "language_info": {
   "codemirror_mode": {
    "name": "ipython",
    "version": 3
   },
   "file_extension": ".py",
   "mimetype": "text/x-python",
   "name": "python",
   "nbconvert_exporter": "python",
   "pygments_lexer": "ipython3",
   "version": "3.7.3"
  }
 },
 "nbformat": 4,
 "nbformat_minor": 2
}
