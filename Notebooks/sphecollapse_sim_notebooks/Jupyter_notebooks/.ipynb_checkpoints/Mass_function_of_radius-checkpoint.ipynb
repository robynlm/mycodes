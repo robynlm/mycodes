{
 "cells": [
  {
   "cell_type": "code",
   "execution_count": 1,
   "metadata": {},
   "outputs": [],
   "source": [
    "import numpy as np\n",
    "import matplotlib.pyplot as plt\n",
    "from IPython.display import display, Math\n",
    "from data_analysis_codes.tools import Cstyle\n",
    "from data_analysis_codes.tools import Amplitudes as A\n",
    "plt.style.use(Cstyle.style1)\n",
    "import math"
   ]
  },
  {
   "cell_type": "code",
   "execution_count": 2,
   "metadata": {},
   "outputs": [],
   "source": [
    "h = 0.6737  #1\n",
    "exp='LCDM'\n",
    "c = 1\n",
    "H0 = c*h/2997.9\n",
    "Omega_m0 = 0.3147\n",
    "Omega_l0 = 1 - Omega_m0\n",
    "\n",
    "zR = 0#200.25741739574033\n",
    "a0 = 1+zR\n",
    "\n",
    "#L = 6     #for zc=200\n",
    "L = 1821.0 #1206  #for zc=0"
   ]
  },
  {
   "cell_type": "code",
   "execution_count": 3,
   "metadata": {},
   "outputs": [],
   "source": [
    "ti = 1\n",
    "amp = 0.01138486133517004756\n",
    "dx = 2.825\n",
    "rho, gdet, r = A.f_Amp(h, ti, L, amp, zR, expansion=exp, want_mass=True, dx=dx)"
   ]
  },
  {
   "cell_type": "code",
   "execution_count": 4,
   "metadata": {},
   "outputs": [],
   "source": [
    "speed_of_light = 299792458   # m.s^{-1}\n",
    "Grav_const     = 6.67408e-11 # m^3.kg^{-1}.s^{-2}\n",
    "parsec         = 3.0857e16   # m\n",
    "Megaparsecc    = parsec*1e6  # m\n",
    "MassSun        = 1.98847e30  # kg\n",
    "a_today        = 1 + 0\n",
    "Massfac = (Megaparsecc*speed_of_light**2)/(Grav_const*MassSun*a_today**3)"
   ]
  },
  {
   "cell_type": "code",
   "execution_count": 9,
   "metadata": {},
   "outputs": [],
   "source": [
    "dx128 = 14.2265625"
   ]
  },
  {
   "cell_type": "code",
   "execution_count": 22,
   "metadata": {},
   "outputs": [
    {
     "name": "stdout",
     "output_type": "stream",
     "text": [
      "Radius, Mass\n",
      "10.0,   1.812e+14\n",
      "25.0,   2.854e+15\n",
      "21.3,   1.787e+15\n",
      "50.0,   2.286e+16\n",
      "448.1,   1.613e+19\n"
     ]
    }
   ],
   "source": [
    "print('Radius, Mass')\n",
    "for wanted_r in [10, 25, dx128/2+dx128*1, 50, dx128/2+dx128*31]:\n",
    "    region = np.where(r<wanted_r)\n",
    "    Mass = Massfac*np.sum(rho[region]*np.sqrt(gdet[region]))*(dx**3)\n",
    "    print('{:.1f},   {:.3e}'.format(wanted_r, Mass))"
   ]
  },
  {
   "cell_type": "code",
   "execution_count": 23,
   "metadata": {},
   "outputs": [
    {
     "ename": "SyntaxError",
     "evalue": "invalid syntax (<ipython-input-23-489d88931960>, line 3)",
     "output_type": "error",
     "traceback": [
      "\u001b[0;36m  File \u001b[0;32m\"<ipython-input-23-489d88931960>\"\u001b[0;36m, line \u001b[0;32m3\u001b[0m\n\u001b[0;31m    21.3,   1.787e+15   --\u001b[0m\n\u001b[0m                          ^\u001b[0m\n\u001b[0;31mSyntaxError\u001b[0m\u001b[0;31m:\u001b[0m invalid syntax\n"
     ]
    }
   ],
   "source": [
    "Radius, Mass\n",
    "10.0,   1.812e+14\n",
    "21.3,   1.787e+15   --\n",
    "25.0,   2.854e+15\n",
    "50.0,   2.286e+16\n",
    "448.1,   1.613e+19  --"
   ]
  },
  {
   "cell_type": "code",
   "execution_count": null,
   "metadata": {},
   "outputs": [],
   "source": []
  }
 ],
 "metadata": {
  "kernelspec": {
   "display_name": "Python 3",
   "language": "python",
   "name": "python3"
  },
  "language_info": {
   "codemirror_mode": {
    "name": "ipython",
    "version": 3
   },
   "file_extension": ".py",
   "mimetype": "text/x-python",
   "name": "python",
   "nbconvert_exporter": "python",
   "pygments_lexer": "ipython3",
   "version": "3.8.8"
  }
 },
 "nbformat": 4,
 "nbformat_minor": 2
}
