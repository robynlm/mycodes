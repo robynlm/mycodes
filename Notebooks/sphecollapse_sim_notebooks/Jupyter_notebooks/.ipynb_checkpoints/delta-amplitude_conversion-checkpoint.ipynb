{
 "cells": [
  {
   "cell_type": "code",
   "execution_count": 1,
   "id": "314786cd",
   "metadata": {},
   "outputs": [],
   "source": [
    "from data_analysis_codes.tools import Amplitudes as A\n",
    "import numpy as np"
   ]
  },
  {
   "cell_type": "code",
   "execution_count": 2,
   "id": "78e0160c",
   "metadata": {},
   "outputs": [],
   "source": [
    "h = 0.6737  #1\n",
    "exp='LCDM'\n",
    "c = 1\n",
    "H0 = c*h/2997.9\n",
    "Omega_m0 = 0.3147\n",
    "Omega_l0 = 1 - Omega_m0\n",
    "zR = 0\n",
    "a0 = 1+zR\n",
    "\n",
    "Amp = 1e-5\n",
    "ti = 1\n",
    "L = 1821"
   ]
  },
  {
   "cell_type": "code",
   "execution_count": 3,
   "id": "6f5ba301",
   "metadata": {},
   "outputs": [
    {
     "name": "stdout",
     "output_type": "stream",
     "text": [
      "2.9612360916475566e-05\n"
     ]
    }
   ],
   "source": [
    "Rc, delta, delta1, dK, dK1, dgdet, dgdet1, R, R1 = A.f_Amp(h, ti, L, Amp, zR, expansion=exp)\n",
    "print(delta)"
   ]
  },
  {
   "cell_type": "code",
   "execution_count": 4,
   "id": "4fa078ee",
   "metadata": {},
   "outputs": [],
   "source": [
    "def findA(wanted_delta, tolerance):\n",
    "    Amin = 1e-5\n",
    "    Rc, deltamin, delta1, dK, dK1, dgdet, dgdet1, R, R1 = A.f_Amp(h, ti, L, Amin, zR, expansion=exp)\n",
    "    Amax = 1e-1\n",
    "    Rc, deltamax, delta1, dK, dK1, dgdet, dgdet1, R, R1 = A.f_Amp(h, ti, L, Amax, zR, expansion=exp)\n",
    "    Amid = np.average([Amin, Amax])\n",
    "    Rc, deltamid, delta1, dK, dK1, dgdet, dgdet1, R, R1 = A.f_Amp(h, ti, L, Amid, zR, expansion=exp)\n",
    "    while abs(deltamid-wanted_delta)>tolerance:\n",
    "        if deltamid<=wanted_delta:\n",
    "            Amin = Amid\n",
    "        else:\n",
    "            Amax = Amid\n",
    "        Amid = np.average([Amin, Amax])\n",
    "        Rc, deltamin, delta1, dK, dK1, dgdet, dgdet1, R, R1 = A.f_Amp(h, ti, L, Amin, zR, expansion=exp)\n",
    "        Rc, deltamax, delta1, dK, dK1, dgdet, dgdet1, R, R1 = A.f_Amp(h, ti, L, Amax, zR, expansion=exp)\n",
    "        Rc, deltamid, delta1, dK, dK1, dgdet, dgdet1, R, R1 = A.f_Amp(h, ti, L, Amid, zR, expansion=exp)\n",
    "    return Amid"
   ]
  },
  {
   "cell_type": "code",
   "execution_count": 14,
   "id": "2db70242",
   "metadata": {},
   "outputs": [
    {
     "name": "stdout",
     "output_type": "stream",
     "text": [
      "0.002601727352469025 0.00750000000000739\n"
     ]
    }
   ],
   "source": [
    "Amp = findA(7.5e-3, 1e-12)\n",
    "Rc, delta, delta1, dK, dK1, dgdet, dgdet1, R, R1 = A.f_Amp(h, ti, L, Amp, zR, expansion=exp)\n",
    "print(Amp, delta)"
   ]
  },
  {
   "cell_type": "code",
   "execution_count": null,
   "id": "4f1fdaee",
   "metadata": {},
   "outputs": [],
   "source": []
  }
 ],
 "metadata": {
  "kernelspec": {
   "display_name": "Python 3",
   "language": "python",
   "name": "python3"
  },
  "language_info": {
   "codemirror_mode": {
    "name": "ipython",
    "version": 3
   },
   "file_extension": ".py",
   "mimetype": "text/x-python",
   "name": "python",
   "nbconvert_exporter": "python",
   "pygments_lexer": "ipython3",
   "version": "3.8.8"
  }
 },
 "nbformat": 4,
 "nbformat_minor": 5
}
