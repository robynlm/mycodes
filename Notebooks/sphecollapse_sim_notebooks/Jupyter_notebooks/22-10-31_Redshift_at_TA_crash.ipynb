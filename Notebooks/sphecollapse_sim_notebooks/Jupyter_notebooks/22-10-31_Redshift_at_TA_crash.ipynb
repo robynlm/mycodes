{
 "cells": [
  {
   "cell_type": "code",
   "execution_count": 2,
   "metadata": {},
   "outputs": [],
   "source": [
    "import numpy as np"
   ]
  },
  {
   "cell_type": "code",
   "execution_count": 2,
   "metadata": {},
   "outputs": [
    {
     "name": "stdout",
     "output_type": "stream",
     "text": [
      "Here EdS\n",
      "4.856204640304478 $\\pm$ 1.1631124337441179e-05\n",
      "2.6923076923076925 $\\pm$ 0.006617038875103454\n"
     ]
    }
   ],
   "source": [
    "# Here EdS\n",
    "print('Here EdS')\n",
    "zIN = 205.4\n",
    "\n",
    "aaIN = 35.24467\n",
    "aaINpm = 7e-5\n",
    "\n",
    "zs = (1+zIN)/(aaIN + aaINpm) - 1\n",
    "z = (1+zIN)/(aaIN) - 1\n",
    "zb = (1+zIN)/(aaIN - aaINpm) - 1\n",
    "print(z, '$\\pm$', np.max([z-zs, zb-z]))\n",
    "\n",
    "aaIN = 55.9\n",
    "aaINpm = 1e-1\n",
    "\n",
    "zs = (1+zIN)/(aaIN + aaINpm) - 1\n",
    "z = (1+zIN)/(aaIN) - 1\n",
    "zb = (1+zIN)/(aaIN - aaINpm) - 1\n",
    "print(z, '$\\pm$', np.max([z-zs, zb-z]))"
   ]
  },
  {
   "cell_type": "code",
   "execution_count": 3,
   "metadata": {},
   "outputs": [
    {
     "name": "stdout",
     "output_type": "stream",
     "text": [
      "Here LCDM\n",
      "7.624349268038884 $\\pm$ 0.0007351968573576784\n",
      "4.432861508656319 $\\pm$ 0.007790444895007909\n"
     ]
    }
   ],
   "source": [
    "# Here LCDM\n",
    "print('Here LCDM')\n",
    "zIN = 302.53397248862854\n",
    "\n",
    "aaIN = 35.195\n",
    "aaINpm = 3e-3\n",
    "\n",
    "zs = (1+zIN)/(aaIN + aaINpm) - 1\n",
    "z = (1+zIN)/(aaIN) - 1\n",
    "zb = (1+zIN)/(aaIN - aaINpm) - 1\n",
    "print(z, '$\\pm$', np.max([z-zs, zb-z]))\n",
    "\n",
    "aaIN = 55.87\n",
    "aaINpm = 8e-2\n",
    "\n",
    "zs = (1+zIN)/(aaIN + aaINpm) - 1\n",
    "z = (1+zIN)/(aaIN) - 1\n",
    "zb = (1+zIN)/(aaIN - aaINpm) - 1\n",
    "print(z, '$\\pm$', np.max([z-zs, zb-z]))"
   ]
  },
  {
   "cell_type": "code",
   "execution_count": 4,
   "metadata": {},
   "outputs": [
    {
     "name": "stdout",
     "output_type": "stream",
     "text": [
      "EB & MB\n",
      "2.44\n",
      "1.15\n"
     ]
    }
   ],
   "source": [
    "# EB & MB\n",
    "print('EB & MB')\n",
    "zIN = 205.4\n",
    "\n",
    "aaIN = 60\n",
    "z = (1+zIN)/(aaIN) - 1\n",
    "print(z)\n",
    "\n",
    "aaIN = 96\n",
    "z = (1+zIN)/(aaIN) - 1\n",
    "print(z)"
   ]
  },
  {
   "cell_type": "markdown",
   "metadata": {},
   "source": [
    "Here EdS\n",
    "4.85620 $\\pm$ 1e-5\n",
    "2.692 $\\pm$ 7e-3\n",
    "\n",
    "Here LCDM\n",
    "7.6234 $\\pm$ 7e-4\n",
    "4.432 $\\pm$ 8e-3\n",
    "\n",
    "EB & MB\n",
    "2.44\n",
    "1.15"
   ]
  },
  {
   "cell_type": "code",
   "execution_count": null,
   "metadata": {},
   "outputs": [],
   "source": []
  }
 ],
 "metadata": {
  "kernelspec": {
   "display_name": "Python 3",
   "language": "python",
   "name": "python3"
  },
  "language_info": {
   "codemirror_mode": {
    "name": "ipython",
    "version": 3
   },
   "file_extension": ".py",
   "mimetype": "text/x-python",
   "name": "python",
   "nbconvert_exporter": "python",
   "pygments_lexer": "ipython3",
   "version": "3.8.8"
  }
 },
 "nbformat": 4,
 "nbformat_minor": 2
}
