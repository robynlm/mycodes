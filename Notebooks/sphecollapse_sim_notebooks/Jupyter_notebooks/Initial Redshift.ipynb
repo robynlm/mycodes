{
 "cells": [
  {
   "cell_type": "code",
   "execution_count": 1,
   "metadata": {},
   "outputs": [
    {
     "name": "stdout",
     "output_type": "stream",
     "text": [
      "h =  1\n",
      "EdS,  zin = 157.67 ,  ain = 6.30e-03 ,  tin = 1.00e+00 , Lp0  = 951.99610702\n",
      "LCDM, zin = 232.27 ,  ain = 4.29e-03 ,  tin = 1.00e+00 , Lp0  = 1399.59666821\n",
      "\n",
      "h =  0.7\n",
      "EdS,  zin = 200.26 ,  ain = 4.97e-03 ,  tin = 1.00e+00 , Lp0  = 1207.54450437 << (1)\n",
      "LCDM, zin = 294.88 ,  ain = 3.38e-03 ,  tin = 1.00e+00 , Lp0  = 1775.29645539\n",
      "\n",
      "h =  0.6737\n",
      "EdS,  zin = 205.46 ,  ain = 4.84e-03 ,  tin = 1.00e+00 , Lp0  = 1238.77036589\n",
      "LCDM, zin = 302.53 ,  ain = 3.29e-03 ,  tin = 1.00e+00 , Lp0  = 1821.20380342 << (2)\n",
      "\n"
     ]
    }
   ],
   "source": [
    "import numpy as np\n",
    "for h in [1, 0.7, 0.6737]:\n",
    "    print('h = ', h)\n",
    "    c = 1\n",
    "    H0 = c*h/2997.9\n",
    "    t0 = 2/(3*H0)\n",
    "    zc = 0\n",
    "    a0 = 1+zc\n",
    "    Omm0 = 0.3147\n",
    "    Oml0 = 1-Omm0\n",
    "\n",
    "    lpin = 6\n",
    "    Hin  = 4/lpin\n",
    "\n",
    "    #EdS\n",
    "    tin = 2/(3*Hin)\n",
    "    ain = a0*(tin/t0)**(2/3)\n",
    "    zin = -1+(a0/ain)\n",
    "    lp0 = a0*lpin/ain\n",
    "    if h==0.7:\n",
    "        print('EdS,  zin = {:.2f}'.format(zin), ',  ain = {:.2e}'.format(ain), ',  tin = {:.2e}'.format(tin), ', Lp0  = {:.8f}'.format(lp0), '<< (1)')\n",
    "    else:\n",
    "        print('EdS,  zin = {:.2f}'.format(zin), ',  ain = {:.2e}'.format(ain), ',  tin = {:.2e}'.format(tin), ', Lp0  = {:.8f}'.format(lp0))\n",
    "\n",
    "    #LCDM\n",
    "    ain = a0*((-Oml0 + (Hin/H0)**2)/Omm0)**(-1/3)\n",
    "    zin = -1+(a0/ain)\n",
    "    \n",
    "    A = 2/(3 *H0*np.sqrt(Oml0))\n",
    "    B = np.sqrt((Omm0/Oml0)*(ain/a0)**(-3)+1)\n",
    "    tin = A*np.arctanh(1/B)\n",
    "    \n",
    "    lp0 = a0*lpin/ain\n",
    "    if h==0.6737:\n",
    "        print('LCDM, zin = {:.2f}'.format(zin), ',  ain = {:.2e}'.format(ain), ',  tin = {:.2e}'.format(tin), ', Lp0  = {:.8f}'.format(lp0), '<< (2)')\n",
    "    else:\n",
    "        print('LCDM, zin = {:.2f}'.format(zin), ',  ain = {:.2e}'.format(ain), ',  tin = {:.2e}'.format(tin), ', Lp0  = {:.8f}'.format(lp0))\n",
    "    print()"
   ]
  },
  {
   "cell_type": "code",
   "execution_count": 26,
   "metadata": {},
   "outputs": [
    {
     "name": "stdout",
     "output_type": "stream",
     "text": [
      "0.0006580000000000001\n"
     ]
    }
   ],
   "source": [
    "L = 1821\n",
    "N = 16\n",
    "ld2 = L/2\n",
    "dx  = L/N\n",
    "s = 0.2\n",
    "a = 3.29e-03\n",
    "dtfacmax = s*a\n",
    "print(dtfacmax)"
   ]
  },
  {
   "cell_type": "code",
   "execution_count": 2,
   "metadata": {},
   "outputs": [
    {
     "name": "stdout",
     "output_type": "stream",
     "text": [
      "113.8125\n",
      "56.90625\n",
      "28.453125\n",
      "14.2265625\n"
     ]
    }
   ],
   "source": [
    "L = 1821\n",
    "for N in [16, 32, 64, 128]:\n",
    "    print(L/N)"
   ]
  },
  {
   "cell_type": "code",
   "execution_count": null,
   "metadata": {},
   "outputs": [],
   "source": []
  }
 ],
 "metadata": {
  "kernelspec": {
   "display_name": "Python 3",
   "language": "python",
   "name": "python3"
  },
  "language_info": {
   "codemirror_mode": {
    "name": "ipython",
    "version": 3
   },
   "file_extension": ".py",
   "mimetype": "text/x-python",
   "name": "python",
   "nbconvert_exporter": "python",
   "pygments_lexer": "ipython3",
   "version": "3.8.8"
  }
 },
 "nbformat": 4,
 "nbformat_minor": 2
}
