{
 "cells": [
  {
   "cell_type": "code",
   "execution_count": 1,
   "id": "4081872b-0efe-44c9-bc80-58a5f17fdf78",
   "metadata": {},
   "outputs": [],
   "source": [
    "import h5py\n",
    "import sys\n",
    "import time\n",
    "sys.path.append(\"/users/munozr/mycodes\")\n",
    "import numpy as np\n",
    "from pylab import *\n",
    "import matplotlib as mpl\n",
    "import matplotlib.pyplot as plt\n",
    "from data_analysis_codes.tools import ReadingTools as RRead\n",
    "from data_analysis_codes.tools import GetVars_Plot2d as GVar\n",
    "from data_analysis_codes.tools import LinData\n",
    "from matplotlib.collections import LineCollection\n",
    "from data_analysis_codes.tools import Cstyle\n",
    "plt.style.use(Cstyle.style1)"
   ]
  },
  {
   "cell_type": "code",
   "execution_count": 2,
   "id": "38ef18b9-2597-4115-a6c7-e92cb313bb49",
   "metadata": {},
   "outputs": [
    {
     "name": "stdout",
     "output_type": "stream",
     "text": [
      " read time file\n"
     ]
    }
   ],
   "source": [
    "param32 = RRead.read_parameters('pflrw_d3e2_L1206_t1_N32_EdS_GRH_spin_CPunc_MR')\n",
    "Lin32 = LinData.LinData_Class(param32)\n",
    "all_h5it32 = RRead.collect_h5iteration(Lin32.param)\n",
    "all_h5it32 = all_h5it32[0::2]"
   ]
  },
  {
   "cell_type": "code",
   "execution_count": 3,
   "id": "1e875d3d-d431-4dee-b5e8-8b2aebb2ba4f",
   "metadata": {},
   "outputs": [],
   "source": [
    "mpl.rcParams['font.size'] = 30"
   ]
  },
  {
   "cell_type": "code",
   "execution_count": 4,
   "id": "24554aaa-a3c1-4247-9b7f-416d84794dc1",
   "metadata": {},
   "outputs": [
    {
     "name": "stdout",
     "output_type": "stream",
     "text": [
      "[██████████████████████████████] 100.00% Est wait 00d 00h 00m 0.0s\n",
      "\n",
      "total time used: 00d 00h 09m 60.0s\n",
      "\n",
      "\n"
     ]
    }
   ],
   "source": [
    "L = 1206\n",
    "s = 185\n",
    "cent = 0.0\n",
    "\n",
    "allit = np.append(np.arange(0, 73600, 200), \n",
    "                  np.arange(73800, 120000, 200))\n",
    "\n",
    "for it in RRead.progressbar(allit):#[0, 50000, 100000]:#allit:\n",
    "    f = h5py.File(param32['h5datapath']+param32['simname']+'_it_{:06d}.hdf5'.format(it),'r')\n",
    "    d0 = np.array(f['COFLUID::theta it={:06d} rl=0'.format(it)])\n",
    "    d1 = np.array(f['COFLUID::theta it={:06d} rl=1'.format(it)])\n",
    "    d2 = np.array(f['COFLUID::theta it={:06d} rl=2'.format(it)])[3:-3, 3:-3, 3:-3]\n",
    "    d3 = np.array(f['COFLUID::theta it={:06d} rl=3'.format(it)])[3:-3, 3:-3, 3:-3]\n",
    "    data = [d0, d1, d2, d3]\n",
    "    tauOD = np.array(f['COSMOLAPSE::tau it={} tl=0 rl=0'.format(it)])[16,16,16]\n",
    "    f.close()\n",
    "\n",
    "    N = [np.shape(d)[0] for d in data]\n",
    "    dx = L/N[0]\n",
    "\n",
    "    xbig = np.arange(-L/2, L/2, dx/(2**(len(data)-1))) / L\n",
    "    Nbig = len(xbig)\n",
    "    big_data = np.zeros((Nbig, Nbig, Nbig))\n",
    "\n",
    "    for rl in range(len(data)):\n",
    "        dxg = dx/(2**rl)\n",
    "        Lg = N[rl]*dxg\n",
    "        xmin = (-Lg/2 + (dxg/2)*(N[rl]%2))/L\n",
    "        imin = np.argmin(abs(xbig - xmin))\n",
    "        nrepeat = 2**(3-rl)\n",
    "        imax = imin + N[rl]*nrepeat\n",
    "        big_data[imin:imax, imin: imax, imin:imax] = np.repeat(np.repeat(np.repeat(\n",
    "            data[rl], nrepeat, axis=0), nrepeat, axis=1), nrepeat, axis=2)\n",
    "    #big_data = np.log(abs(big_data))\n",
    "    \n",
    "    #vmin = np.max([np.min(big_data), -9.99])\n",
    "    vmin = np.min(big_data)\n",
    "    vmax = np.max(big_data)\n",
    "\n",
    "    plt.figure(figsize=(10,10))\n",
    "    \n",
    "    plt.pcolormesh(xbig, xbig, big_data[:,:,int(Nbig/2)], \n",
    "                   vmin=vmin, vmax=vmax, shading='gouraud')\n",
    "    \n",
    "    plt.colorbar(format='%.2f', extend='both')\n",
    "    plt.xlabel(r'$x/L$')\n",
    "    plt.ylabel(r'$y/L$')\n",
    "    #plt.title(r'$\\log(|\\Theta|)$,$\\;$ it = {},$\\;$ '.format(it)\n",
    "    #          + '\\n' + r'$a/a_{IN \\; at \\; OD}$ = ' + '{:.2f}'.format(Lin32.an_initial(tauOD)))\n",
    "    plt.title(r'$\\Theta$,$\\;$ it = {},$\\;$ '.format(it)\n",
    "              + '\\n' + r'$a/a_{IN \\; at \\; OD}$ = ' + '{:.2f}'.format(Lin32.an_initial(tauOD)))\n",
    "              \n",
    "    plt.gca().set_aspect(\"equal\")\n",
    "    plt.tight_layout()\n",
    "    \n",
    "    plt.savefig('/users/munozr/simulations/' + param32['simname'] + '/Theta_it={:06d}'.format(it))\n",
    "    plt.close(plt.gcf())\n",
    "    #print('{:0.2f}'.format(100*it/allit[-1]), end=\", \", flush=True)"
   ]
  },
  {
   "cell_type": "code",
   "execution_count": 13,
   "id": "7b4eae7a-a19d-459e-a942-fe175bb617a0",
   "metadata": {},
   "outputs": [
    {
     "data": {
      "text/plain": [
       "\"ERROR: RRead.BASH('ffmpeg -framerate 5 -pattern_type glob -i '/users/munozr/simulations/pflrw_d3e2_L1206_t1_N32_EdS_GRH_spin_CPunc_MR/*.png'   -c:v libx264 -r 30 /users/munozr/simulations/pflrw_d3e2_L1206_t1_N32_EdS_GRH_spin_CPunc_MR/Theta.mp4') did not work\""
      ]
     },
     "execution_count": 13,
     "metadata": {},
     "output_type": "execute_result"
    }
   ],
   "source": [
    "ffmpeg -framerate 5 -pattern_type glob -i '*.png'   -c:v libx264 -r 30 Theta.mp4\n",
    "ffmpeg -framerate 5 -pattern_type glob -i '*.png'   -c:v libx264 -r 30 log_abs_Theta.mp4"
   ]
  },
  {
   "cell_type": "code",
   "execution_count": 22,
   "id": "d772b759-a5fb-45bc-9330-494f5f73d70d",
   "metadata": {},
   "outputs": [
    {
     "data": {
      "text/plain": [
       "[32, 64, 45, 29]"
      ]
     },
     "execution_count": 22,
     "metadata": {},
     "output_type": "execute_result"
    }
   ],
   "source": [
    "N"
   ]
  },
  {
   "cell_type": "code",
   "execution_count": null,
   "id": "ed066949-f3a1-43d9-8bf1-4286ab309c1f",
   "metadata": {},
   "outputs": [],
   "source": []
  }
 ],
 "metadata": {
  "kernelspec": {
   "display_name": "Python 3",
   "language": "python",
   "name": "python3"
  },
  "language_info": {
   "codemirror_mode": {
    "name": "ipython",
    "version": 3
   },
   "file_extension": ".py",
   "mimetype": "text/x-python",
   "name": "python",
   "nbconvert_exporter": "python",
   "pygments_lexer": "ipython3",
   "version": "3.6.8"
  }
 },
 "nbformat": 4,
 "nbformat_minor": 5
}
