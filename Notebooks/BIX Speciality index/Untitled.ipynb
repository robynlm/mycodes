{
 "cells": [
  {
   "cell_type": "code",
   "execution_count": 2,
   "id": "718e1a61",
   "metadata": {},
   "outputs": [],
   "source": [
    "import numpy as np\n",
    "import matplotlib.pyplot as plt\n",
    "import pandas as pd\n",
    "from data_analysis_codes.tools import FD as FD_file"
   ]
  },
  {
   "cell_type": "code",
   "execution_count": 2,
   "id": "1f96c2f1",
   "metadata": {},
   "outputs": [],
   "source": [
    "betam     = pd.read_csv(\"Data/betamdata.csv\", header=None).to_numpy().T\n",
    "betap     = pd.read_csv(\"Data/betapdata.csv\", header=None).to_numpy().T\n",
    "fracaniso = pd.read_csv(\"Data/fracanisodata.csv\", header=None).to_numpy().T \n",
    "fracden   = pd.read_csv(\"Data/fracdendata.csv\", header=None).to_numpy().T\n",
    "H         = pd.read_csv(\"Data/Hdata.csv\", header=None).to_numpy().T\n",
    "sig2      = pd.read_csv(\"Data/sig2data.csv\", header=None).to_numpy().T\n",
    "U         = pd.read_csv(\"Data/Udata.csv\", header=None).to_numpy().T\n",
    "rho       = pd.read_csv(\"Data/rhodata.csv\", header=None).to_numpy().T\n",
    "\n",
    "dtbetam\n",
    "dtbetap"
   ]
  },
  {
   "cell_type": "code",
   "execution_count": null,
   "id": "191f3ea1",
   "metadata": {},
   "outputs": [],
   "source": [
    "a0 = 9.1e39\n",
    "lambda_inter_strength = 1e-3\n",
    "T0 = 1e-16 # To be checked\n",
    "G = \n",
    "kappa = 8*np.pi*G\n",
    "Nfold = np.arange(0, 12.97, 0.01)\n",
    "a = a0*np.exp(-Nfold)"
   ]
  },
  {
   "cell_type": "code",
   "execution_count": 4,
   "id": "7650983b",
   "metadata": {},
   "outputs": [],
   "source": [
    "dx = np.pi/32\n",
    "FD = FD_file.FD_Class(dx, periodic_boundary=True, order6=True)\n",
    "thetar = np.arange(0, np.pi, dx)\n",
    "phir = np.arange(0, 2*np.pi, dx)\n",
    "psir = np.arange(0, 4*np.pi, dx)\n",
    "theta, phi, psi = np.meshgrid(thetar, phir, psir, indexing='ij')\n",
    "Box_0 = np.zeros([len(thetar), len(phir), len(psir)])\n",
    "Box_1 = np.ones([len(thetar), len(phir), len(psir)])\n",
    "deltadown4 = np.array([[Box_1, Box_0, Box_0, Box_0], \n",
    "                       [Box_0, Box_1, Box_0, Box_0], \n",
    "                       [Box_0, Box_0, Box_1, Box_0], \n",
    "                       [Box_0, Box_0, Box_0, Box_1]])\n",
    "deltadown3 = np.array([[Box_1, Box_0, Box_0], \n",
    "                       [Box_0, Box_1, Box_0], \n",
    "                       [Box_0, Box_0, Box_1]])"
   ]
  },
  {
   "cell_type": "code",
   "execution_count": 5,
   "id": "2aa9dbf2",
   "metadata": {},
   "outputs": [
    {
     "data": {
      "text/plain": [
       "(32, 64, 128)"
      ]
     },
     "execution_count": 5,
     "metadata": {},
     "output_type": "execute_result"
    }
   ],
   "source": [
    "np.shape(Box_0)"
   ]
  },
  {
   "cell_type": "code",
   "execution_count": 3,
   "id": "ac2f1241",
   "metadata": {},
   "outputs": [],
   "source": [
    "s1 = -np.sin(psi)*dtheta + np.cos(psi)*np.sin(theta)*dphi\n",
    "s2 = np.cos(psi)*dtheta + np.sin(psi)*np.sin(theta)*dphi\n",
    "s3 = np.cos(theta)*dphi + dpsi\n",
    "\n",
    "gdown4 = np.array([[-Box_1, Box_0, Box_0, Box_0],\n",
    "                   [Box_0, ],\n",
    "                   [Box_0, ],\n",
    "                   [Box_0, ]])\n",
    "dtgdown4 = np.array([[Box_0, Box_0, Box_0, Box_0],\n",
    "                     [Box_0, ],\n",
    "                     [Box_0, ],\n",
    "                     [Box_0, ]])\n",
    "Kdown4 = - dtgdown4 / 2"
   ]
  },
  {
   "cell_type": "code",
   "execution_count": null,
   "id": "8f6b84a8",
   "metadata": {},
   "outputs": [],
   "source": [
    "udown4    = np.array([-Box_1, Box_0, Box_0, Box_0])\n",
    "p         = rho/3\n",
    "sigmadown = (a**2)*( np.exp(2*betam)*dtbetam + np.exp(2*betap)*dtbetap )*deltadown # To be checkedM2PI\n",
    "T         = T0*a0/a\n",
    "eta       = (T**3)/(lambda_inter_strength**2)\n",
    "pidown4   = -2*eta*sigmadown4\n",
    "hdown4 = gdown4 + np.einsum('a...,b...->ab...', udown4, udown4)\n",
    "Tdown4 = rho*np.einsum('a...,b...->ab...', udown4, udown4) + p*hdown4 + pidown4"
   ]
  }
 ],
 "metadata": {
  "kernelspec": {
   "display_name": "Python 3",
   "language": "python",
   "name": "python3"
  },
  "language_info": {
   "codemirror_mode": {
    "name": "ipython",
    "version": 3
   },
   "file_extension": ".py",
   "mimetype": "text/x-python",
   "name": "python",
   "nbconvert_exporter": "python",
   "pygments_lexer": "ipython3",
   "version": "3.8.8"
  }
 },
 "nbformat": 4,
 "nbformat_minor": 5
}
