{
 "cells": [
  {
   "cell_type": "code",
   "execution_count": 1,
   "id": "cbe13dd2-10b3-47e4-b872-a35ca381fa05",
   "metadata": {},
   "outputs": [],
   "source": [
    "import sys\n",
    "import h5py\n",
    "sys.path.append(\"/users/munozr/mycodes\")\n",
    "import numpy as np\n",
    "import matplotlib.pyplot as plt\n",
    "from data_analysis_codes.tools import ReadingTools as RRead\n",
    "import pandas as pd"
   ]
  },
  {
   "cell_type": "code",
   "execution_count": 2,
   "id": "176ac4cb-b945-4174-b8b6-02f0c1a167c1",
   "metadata": {},
   "outputs": [],
   "source": [
    "param = RRead.read_parameters('flrw_theta')"
   ]
  },
  {
   "cell_type": "code",
   "execution_count": 3,
   "id": "f8306cb3-bed7-41b7-bdca-17b7c388a23c",
   "metadata": {},
   "outputs": [],
   "source": [
    "files = RRead.BASH('ls '+param['datapath']+'*.h5').split('\\n')\n",
    "files_kept = [fl for fl in files if 'checkpoint' not in fl]\n",
    "files_kept = [fl for fl in files if 'NaN' not in fl]"
   ]
  },
  {
   "cell_type": "code",
   "execution_count": 4,
   "id": "654e9df7-7c80-4df2-9c8b-af562fa95f5d",
   "metadata": {},
   "outputs": [],
   "source": [
    "i = 104\n",
    "f08 = [h5py.File(files_kept[i],'r'), h5py.File(files_kept[i+1],'r'), \n",
    "       h5py.File(files_kept[i+2],'r'), h5py.File(files_kept[i+3],'r'), \n",
    "       h5py.File(files_kept[i+4],'r'), h5py.File(files_kept[i+5],'r'), \n",
    "       h5py.File(files_kept[i+6],'r'), h5py.File(files_kept[i+7],'r')]"
   ]
  },
  {
   "cell_type": "code",
   "execution_count": 5,
   "id": "9478d71e-65a9-49b2-b86c-225db1a5590e",
   "metadata": {},
   "outputs": [],
   "source": [
    "def mpi_merge(sectioned_data):\n",
    "    sectioned_data_2a = np.append(sectioned_data[0], \n",
    "                                  sectioned_data[1],\n",
    "                                  axis=2)\n",
    "    sectioned_data_2b = np.append(sectioned_data[2], \n",
    "                                  sectioned_data[3], \n",
    "                                  axis=2)\n",
    "    sectioned_data_2c = np.append(sectioned_data[4], \n",
    "                                  sectioned_data[5], \n",
    "                                  axis=2)\n",
    "    sectioned_data_2d = np.append(sectioned_data[6], \n",
    "                                  sectioned_data[7], \n",
    "                                  axis=2)\n",
    "    sectioned_data_1a = np.append(sectioned_data_2a,\n",
    "                                  sectioned_data_2b, \n",
    "                                  axis=1)\n",
    "    sectioned_data_1b = np.append(sectioned_data_2c,\n",
    "                                  sectioned_data_2d, \n",
    "                                  axis=1)\n",
    "    unsectioned_data = np.append(sectioned_data_1a,\n",
    "                                 sectioned_data_1b,\n",
    "                                 axis=0)\n",
    "    return unsectioned_data"
   ]
  },
  {
   "cell_type": "code",
   "execution_count": 8,
   "id": "50f0bdc3-ac9c-4d34-a0ae-e2c7ca895877",
   "metadata": {},
   "outputs": [],
   "source": [
    "iG = 3\n",
    "sectioned_data = []\n",
    "for f in f08:\n",
    "    filekeysall = list(f.keys())\n",
    "    filekeys = [key for key in filekeysall if 'CT_DUST::Theta it=0 tl=0 rl=0' in key]\n",
    "    sectioned_data += [np.array(f[filekeys[0]])[iG:-iG,iG:-iG,iG:-iG]]\n",
    "data = mpi_merge(sectioned_data)"
   ]
  },
  {
   "cell_type": "code",
   "execution_count": 9,
   "id": "baceedd5-2de4-4129-a7e4-91bfef66a6df",
   "metadata": {},
   "outputs": [
    {
     "data": {
      "text/plain": [
       "array([[[nan, nan, nan, ..., nan, nan, nan],\n",
       "        [nan, nan, nan, ..., nan, nan, nan],\n",
       "        [nan, nan, nan, ..., nan, nan, nan],\n",
       "        ...,\n",
       "        [nan, nan, nan, ..., nan, nan, nan],\n",
       "        [nan, nan, nan, ..., nan, nan, nan],\n",
       "        [nan, nan, nan, ..., nan, nan, nan]],\n",
       "\n",
       "       [[nan, nan, nan, ..., nan, nan, nan],\n",
       "        [nan, nan, nan, ..., nan, nan, nan],\n",
       "        [nan, nan, nan, ..., nan, nan, nan],\n",
       "        ...,\n",
       "        [nan, nan, nan, ..., nan, nan, nan],\n",
       "        [nan, nan, nan, ..., nan, nan, nan],\n",
       "        [nan, nan, nan, ..., nan, nan, nan]],\n",
       "\n",
       "       [[nan, nan, nan, ..., nan, nan, nan],\n",
       "        [nan, nan, nan, ..., nan, nan, nan],\n",
       "        [nan, nan, nan, ..., nan, nan, nan],\n",
       "        ...,\n",
       "        [nan, nan, nan, ..., nan, nan, nan],\n",
       "        [nan, nan, nan, ..., nan, nan, nan],\n",
       "        [nan, nan, nan, ..., nan, nan, nan]],\n",
       "\n",
       "       ...,\n",
       "\n",
       "       [[nan, nan, nan, ..., nan, nan, nan],\n",
       "        [nan, nan, nan, ..., nan, nan, nan],\n",
       "        [nan, nan, nan, ..., nan, nan, nan],\n",
       "        ...,\n",
       "        [nan, nan, nan, ..., nan, nan, nan],\n",
       "        [nan, nan, nan, ..., nan, nan, nan],\n",
       "        [nan, nan, nan, ..., nan, nan, nan]],\n",
       "\n",
       "       [[nan, nan, nan, ..., nan, nan, nan],\n",
       "        [nan, nan, nan, ..., nan, nan, nan],\n",
       "        [nan, nan, nan, ..., nan, nan, nan],\n",
       "        ...,\n",
       "        [nan, nan, nan, ..., nan, nan, nan],\n",
       "        [nan, nan, nan, ..., nan, nan, nan],\n",
       "        [nan, nan, nan, ..., nan, nan, nan]],\n",
       "\n",
       "       [[nan, nan, nan, ..., nan, nan, nan],\n",
       "        [nan, nan, nan, ..., nan, nan, nan],\n",
       "        [nan, nan, nan, ..., nan, nan, nan],\n",
       "        ...,\n",
       "        [nan, nan, nan, ..., nan, nan, nan],\n",
       "        [nan, nan, nan, ..., nan, nan, nan],\n",
       "        [nan, nan, nan, ..., nan, nan, nan]]])"
      ]
     },
     "execution_count": 9,
     "metadata": {},
     "output_type": "execute_result"
    }
   ],
   "source": [
    "data"
   ]
  },
  {
   "cell_type": "code",
   "execution_count": 11,
   "id": "b0133ae4-b45a-4ba8-9630-e8caf2016285",
   "metadata": {},
   "outputs": [
    {
     "ename": "AssertionError",
     "evalue": "blah blah",
     "output_type": "error",
     "traceback": [
      "\u001b[0;31m---------------------------------------------------------------------------\u001b[0m",
      "\u001b[0;31mAssertionError\u001b[0m                            Traceback (most recent call last)",
      "\u001b[0;32m<ipython-input-11-7fbdba5c53ae>\u001b[0m in \u001b[0;36m<module>\u001b[0;34m\u001b[0m\n\u001b[1;32m      1\u001b[0m \u001b[0mi\u001b[0m \u001b[0;34m=\u001b[0m\u001b[0;36m10\u001b[0m\u001b[0;34m\u001b[0m\u001b[0;34m\u001b[0m\u001b[0m\n\u001b[1;32m      2\u001b[0m \u001b[0;32massert\u001b[0m \u001b[0mi\u001b[0m \u001b[0;34m>\u001b[0m\u001b[0;36m5\u001b[0m\u001b[0;34m,\u001b[0m \u001b[0;34m\"blah\"\u001b[0m\u001b[0;34m\u001b[0m\u001b[0;34m\u001b[0m\u001b[0m\n\u001b[0;32m----> 3\u001b[0;31m \u001b[0;32massert\u001b[0m \u001b[0mi\u001b[0m \u001b[0;34m<\u001b[0m \u001b[0;36m5\u001b[0m\u001b[0;34m,\u001b[0m \u001b[0;34m\"blah blah\"\u001b[0m\u001b[0;34m\u001b[0m\u001b[0;34m\u001b[0m\u001b[0m\n\u001b[0m",
      "\u001b[0;31mAssertionError\u001b[0m: blah blah"
     ]
    }
   ],
   "source": [
    "i =10 \n",
    "assert i >5, \"blah\"\n",
    "assert i < 5, \"blah blah\""
   ]
  },
  {
   "cell_type": "code",
   "execution_count": null,
   "id": "9a3bac12-fbc0-4eab-a344-8c25393741ef",
   "metadata": {},
   "outputs": [],
   "source": []
  }
 ],
 "metadata": {
  "kernelspec": {
   "display_name": "Python 3",
   "language": "python",
   "name": "python3"
  },
  "language_info": {
   "codemirror_mode": {
    "name": "ipython",
    "version": 3
   },
   "file_extension": ".py",
   "mimetype": "text/x-python",
   "name": "python",
   "nbconvert_exporter": "python",
   "pygments_lexer": "ipython3",
   "version": "3.6.8"
  }
 },
 "nbformat": 4,
 "nbformat_minor": 5
}
