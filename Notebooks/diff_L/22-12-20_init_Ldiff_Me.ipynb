{
 "cells": [
  {
   "cell_type": "code",
   "execution_count": 1,
   "id": "5fc2ea3e",
   "metadata": {},
   "outputs": [],
   "source": [
    "import sys\n",
    "sys.path.append(\"/users/munozr/mycodes\")\n",
    "import numpy as np\n",
    "import matplotlib.pyplot as plt\n",
    "from IPython.display import display, Math\n",
    "from data_analysis_codes.tools import Cstyle\n",
    "from data_analysis_codes.tools import Amplitudes as A\n",
    "plt.style.use(Cstyle.style1)\n",
    "import math\n",
    "from data_analysis_codes.tools import LCDM\n",
    "LCDM = LCDM.evo()"
   ]
  },
  {
   "cell_type": "markdown",
   "id": "d9714523-7584-44c5-97bb-ed5d75d54019",
   "metadata": {},
   "source": [
    "# Ini sim"
   ]
  },
  {
   "cell_type": "code",
   "execution_count": 2,
   "id": "688c8c5f",
   "metadata": {},
   "outputs": [
    {
     "name": "stdout",
     "output_type": "stream",
     "text": [
      "LCDM\n",
      "3.00000000e-02 3.37e-02 1.10e-01 2.394e+20 4.40e+00\n",
      "1.00596115e+15\n"
     ]
    }
   ],
   "source": [
    "# INI SIM\n",
    "tIN = 1\n",
    "zIN = LCDM.z(tIN)\n",
    "deltaC = 1.686\n",
    "L = [1821]*3\n",
    "Amp_pert = [0.01138486133517004756]*3\n",
    "output = A.f_Amp(tIN, L, Amp_pert)\n",
    "zC = (1+zIN)*output['deltaOD']/deltaC - 1\n",
    "nonlin = abs(output['deltaOD']/output['delta1OD'] - 1)\n",
    "print('{:.8e}'.format(output['deltaOD']), '{:.2e}'.format(output['delta1OD']), '{:.2e}'.format(nonlin), '{:.3e}'.format(output['TotMass']), '{:.2e}'.format(zC))\n",
    "print('{:.8e}'.format(output['MassOD']))"
   ]
  },
  {
   "cell_type": "markdown",
   "id": "faaf7407-085e-4083-a473-301ca412f3a6",
   "metadata": {},
   "source": [
    "# Lx smaller"
   ]
  },
  {
   "cell_type": "code",
   "execution_count": 3,
   "id": "70c03a28",
   "metadata": {},
   "outputs": [
    {
     "name": "stdout",
     "output_type": "stream",
     "text": [
      "LCDM\n",
      "3.25042834e-02 3.64e-02 1.06e-01 2.154e+20 4.85e+00\n",
      "9.05275642e+14\n"
     ]
    }
   ],
   "source": [
    "# L10s\n",
    "tIN = 1\n",
    "zIN = LCDM.z(tIN)\n",
    "deltaC = 1.686\n",
    "Lp = 1821\n",
    "L = [Lp*0.9, Lp, Lp]\n",
    "Ap = 0.01138486133517004756\n",
    "Amp_pert = [Ap, Ap, Ap]\n",
    "output = A.f_Amp(tIN, L, Amp_pert)\n",
    "zC = (1+zIN)*output['deltaOD']/deltaC - 1\n",
    "nonlin = abs(output['deltaOD']/output['delta1OD'] - 1)\n",
    "print('{:.8e}'.format(output['deltaOD']), '{:.2e}'.format(output['delta1OD']), '{:.2e}'.format(nonlin), '{:.3e}'.format(output['TotMass']), '{:.2e}'.format(zC))\n",
    "print('{:.8e}'.format(output['MassOD']))"
   ]
  },
  {
   "cell_type": "markdown",
   "id": "e7907073-8154-42fa-bff9-f4501ffa451d",
   "metadata": {},
   "source": [
    "# Lx smaller Mass equal"
   ]
  },
  {
   "cell_type": "code",
   "execution_count": 4,
   "id": "7abb48c2-9172-4a93-b9f1-73253745fb18",
   "metadata": {},
   "outputs": [
    {
     "name": "stdout",
     "output_type": "stream",
     "text": [
      "LCDM\n",
      "7.01790211e-02 8.85e-02 2.07e-01 2.150e+20 1.16e+01\n",
      "1.00596115e+15\n"
     ]
    }
   ],
   "source": [
    "# L10s Me\n",
    "tIN = 1\n",
    "zIN = LCDM.z(tIN)\n",
    "deltaC = 1.686\n",
    "Lp = 1821\n",
    "L = [Lp*0.9, Lp, Lp]\n",
    "Ap = 0.01138486133517004756\n",
    "Amp_pert = [Ap*4.760979, Ap, Ap]\n",
    "output = A.f_Amp(tIN, L, Amp_pert)\n",
    "zC = (1+zIN)*output['deltaOD']/deltaC - 1\n",
    "nonlin = abs(output['deltaOD']/output['delta1OD'] - 1)\n",
    "print('{:.8e}'.format(output['deltaOD']), '{:.2e}'.format(output['delta1OD']), '{:.2e}'.format(nonlin), '{:.3e}'.format(output['TotMass']), '{:.2e}'.format(zC))\n",
    "print('{:.8e}'.format(output['MassOD']))"
   ]
  },
  {
   "cell_type": "markdown",
   "id": "ec60d602-199c-41b3-bd49-1690ae531e5c",
   "metadata": {},
   "source": [
    "# Lx smaller delta equal"
   ]
  },
  {
   "cell_type": "code",
   "execution_count": 5,
   "id": "4ca90886-052b-4324-a8df-d131c32ff99d",
   "metadata": {},
   "outputs": [
    {
     "name": "stdout",
     "output_type": "stream",
     "text": [
      "LCDM\n",
      "3.00000000e-02 3.35e-02 1.05e-01 2.274e+20 4.40e+00\n",
      "9.52279862e+14\n",
      "1729.9499999999998 864.9749999999999 432.48749999999995 27.030468749999997\n",
      "0.01007835320566991\n"
     ]
    }
   ],
   "source": [
    "# L5s de\n",
    "tIN = 1\n",
    "zIN = LCDM.z(tIN)\n",
    "deltaC = 1.686\n",
    "Lp = 1821\n",
    "L = [Lp*0.95, Lp, Lp]\n",
    "Ap = 0.01138486133517004756\n",
    "Amp_pert = [Ap*0.88524163, Ap, Ap]\n",
    "output = A.f_Amp(tIN, L, Amp_pert)\n",
    "zC = (1+zIN)*output['deltaOD']/deltaC - 1\n",
    "nonlin = abs(output['deltaOD']/output['delta1OD'] - 1)\n",
    "print('{:.8e}'.format(output['deltaOD']), '{:.2e}'.format(output['delta1OD']), '{:.2e}'.format(nonlin), '{:.3e}'.format(output['TotMass']), '{:.2e}'.format(zC))\n",
    "print('{:.8e}'.format(output['MassOD']))\n",
    "\n",
    "print(L[0], L[0]/2, L[0]/4, L[0]/64)\n",
    "print(Amp_pert[0])"
   ]
  },
  {
   "cell_type": "code",
   "execution_count": 6,
   "id": "b7535d1e",
   "metadata": {},
   "outputs": [
    {
     "name": "stdout",
     "output_type": "stream",
     "text": [
      "LCDM\n",
      "3.00000000e-02 3.33e-02 9.93e-02 2.154e+20 4.40e+00\n",
      "8.99234932e+14\n",
      "1638.9 819.45 409.725 25.6078125\n",
      "0.008885054088011662\n"
     ]
    }
   ],
   "source": [
    "# L10s de\n",
    "tIN = 1\n",
    "zIN = LCDM.z(tIN)\n",
    "deltaC = 1.686\n",
    "Lp = 1821\n",
    "L = [Lp*0.9, Lp, Lp]\n",
    "Ap = 0.01138486133517004756\n",
    "Amp_pert = [Ap*0.78042708, Ap, Ap]\n",
    "output = A.f_Amp(tIN, L, Amp_pert)\n",
    "zC = (1+zIN)*output['deltaOD']/deltaC - 1\n",
    "nonlin = abs(output['deltaOD']/output['delta1OD'] - 1)\n",
    "print('{:.8e}'.format(output['deltaOD']), '{:.2e}'.format(output['delta1OD']), '{:.2e}'.format(nonlin), '{:.3e}'.format(output['TotMass']), '{:.2e}'.format(zC))\n",
    "print('{:.8e}'.format(output['MassOD']))\n",
    "\n",
    "print(L[0], L[0]/2, L[0]/4, L[0]/64)\n",
    "print(Amp_pert[0])"
   ]
  },
  {
   "cell_type": "code",
   "execution_count": 7,
   "id": "64cb90b9",
   "metadata": {},
   "outputs": [
    {
     "name": "stdout",
     "output_type": "stream",
     "text": [
      "LCDM\n",
      "3.00000000e-02 3.31e-02 9.44e-02 2.035e+20 4.40e+00\n",
      "8.46756363e+14\n",
      "1547.85 773.925 386.9625 24.18515625\n",
      "0.007795164462801056\n"
     ]
    }
   ],
   "source": [
    "# L15s de\n",
    "tIN = 1\n",
    "zIN = LCDM.z(tIN)\n",
    "deltaC = 1.686\n",
    "Lp = 1821\n",
    "L = [Lp*0.85, Lp, Lp]\n",
    "Ap = 0.01138486133517004756\n",
    "Amp_pert = [Ap*0.6846956, Ap, Ap]\n",
    "output = A.f_Amp(tIN, L, Amp_pert)\n",
    "zC = (1+zIN)*output['deltaOD']/deltaC - 1\n",
    "nonlin = abs(output['deltaOD']/output['delta1OD'] - 1)\n",
    "print('{:.8e}'.format(output['deltaOD']), '{:.2e}'.format(output['delta1OD']), '{:.2e}'.format(nonlin), '{:.3e}'.format(output['TotMass']), '{:.2e}'.format(zC))\n",
    "print('{:.8e}'.format(output['MassOD']))\n",
    "\n",
    "print(L[0], L[0]/2, L[0]/4, L[0]/64)\n",
    "print(Amp_pert[0])"
   ]
  },
  {
   "cell_type": "code",
   "execution_count": 8,
   "id": "c6d0b922",
   "metadata": {},
   "outputs": [
    {
     "name": "stdout",
     "output_type": "stream",
     "text": [
      "LCDM\n",
      "3.00000000e-02 3.30e-02 9.00e-02 1.915e+20 4.40e+00\n",
      "7.94782757e+14\n",
      "1456.8000000000002 728.4000000000001 364.20000000000005 22.762500000000003\n",
      "0.006800268640539137\n"
     ]
    }
   ],
   "source": [
    "# L20s de\n",
    "tIN = 1\n",
    "zIN = LCDM.z(tIN)\n",
    "deltaC = 1.686\n",
    "Lp = 1821\n",
    "L = [Lp*0.8, Lp, Lp]\n",
    "Ap = 0.01138486133517004756\n",
    "Amp_pert = [Ap*0.59730799, Ap, Ap]\n",
    "output = A.f_Amp(tIN, L, Amp_pert)\n",
    "zC = (1+zIN)*output['deltaOD']/deltaC - 1\n",
    "nonlin = abs(output['deltaOD']/output['delta1OD'] - 1)\n",
    "print('{:.8e}'.format(output['deltaOD']), '{:.2e}'.format(output['delta1OD']), '{:.2e}'.format(nonlin), '{:.3e}'.format(output['TotMass']), '{:.2e}'.format(zC))\n",
    "print('{:.8e}'.format(output['MassOD']))\n",
    "\n",
    "print(L[0], L[0]/2, L[0]/4, L[0]/64)\n",
    "print(Amp_pert[0])"
   ]
  },
  {
   "cell_type": "code",
   "execution_count": 10,
   "id": "e5b1c287",
   "metadata": {},
   "outputs": [
    {
     "name": "stdout",
     "output_type": "stream",
     "text": [
      "LCDM\n",
      "3.00000000e-02 3.27e-02 8.22e-02 1.675e+20 4.40e+00\n",
      "6.92139396e+14\n",
      "1274.6999999999998 637.3499999999999 318.67499999999995 19.917187499999997\n",
      "0.005067403146467548\n"
     ]
    }
   ],
   "source": [
    "# L30s de\n",
    "tIN = 1\n",
    "zIN = LCDM.z(tIN)\n",
    "deltaC = 1.686\n",
    "Lp = 1821\n",
    "L = [Lp*0.7, Lp, Lp]\n",
    "Ap = 0.01138486133517004756\n",
    "Amp_pert = [Ap*0.44510012, Ap, Ap]\n",
    "output = A.f_Amp(tIN, L, Amp_pert)\n",
    "zC = (1+zIN)*output['deltaOD']/deltaC - 1\n",
    "nonlin = abs(output['deltaOD']/output['delta1OD'] - 1)\n",
    "print('{:.8e}'.format(output['deltaOD']), '{:.2e}'.format(output['delta1OD']), '{:.2e}'.format(nonlin), '{:.3e}'.format(output['TotMass']), '{:.2e}'.format(zC))\n",
    "print('{:.8e}'.format(output['MassOD']))\n",
    "\n",
    "print(L[0], L[0]/2, L[0]/4, L[0]/64)\n",
    "print(Amp_pert[0])"
   ]
  },
  {
   "cell_type": "code",
   "execution_count": 11,
   "id": "9e42a9c6",
   "metadata": {},
   "outputs": [
    {
     "name": "stdout",
     "output_type": "stream",
     "text": [
      "LCDM\n",
      "3.00000000e-02 3.25e-02 7.57e-02 1.436e+20 4.40e+00\n",
      "5.90936927e+14\n",
      "1092.6 546.3 273.15 17.071875\n",
      "0.003639275860054032\n"
     ]
    }
   ],
   "source": [
    "# L40s de\n",
    "tIN = 1\n",
    "zIN = LCDM.z(tIN)\n",
    "deltaC = 1.686\n",
    "Lp = 1821\n",
    "L = [Lp*0.6, Lp, Lp]\n",
    "Ap = 0.01138486133517004756\n",
    "Amp_pert = [Ap*0.319659217, Ap, Ap]\n",
    "output = A.f_Amp(tIN, L, Amp_pert)\n",
    "zC = (1+zIN)*output['deltaOD']/deltaC - 1\n",
    "nonlin = abs(output['deltaOD']/output['delta1OD'] - 1)\n",
    "print('{:.8e}'.format(output['deltaOD']), '{:.2e}'.format(output['delta1OD']), '{:.2e}'.format(nonlin), '{:.3e}'.format(output['TotMass']), '{:.2e}'.format(zC))\n",
    "print('{:.8e}'.format(output['MassOD']))\n",
    "\n",
    "print(L[0], L[0]/2, L[0]/4, L[0]/64)\n",
    "print(Amp_pert[0])"
   ]
  },
  {
   "cell_type": "code",
   "execution_count": 12,
   "id": "7b82ccc8",
   "metadata": {},
   "outputs": [
    {
     "name": "stdout",
     "output_type": "stream",
     "text": [
      "LCDM\n",
      "3.00000000e-02 3.23e-02 7.04e-02 1.197e+20 4.40e+00\n",
      "4.90876261e+14\n",
      "910.5 455.25 227.625 14.2265625\n",
      "0.002480317901508855\n"
     ]
    }
   ],
   "source": [
    "# L50s de\n",
    "tIN = 1\n",
    "zIN = LCDM.z(tIN)\n",
    "deltaC = 1.686\n",
    "Lp = 1821\n",
    "L = [Lp*0.5, Lp, Lp]\n",
    "Ap = 0.01138486133517004756\n",
    "         \n",
    "Amp_pert = [Ap*0.217861055, Ap, Ap]\n",
    "output = A.f_Amp(tIN, L, Amp_pert)\n",
    "zC = (1+zIN)*output['deltaOD']/deltaC - 1\n",
    "nonlin = abs(output['deltaOD']/output['delta1OD'] - 1)\n",
    "print('{:.8e}'.format(output['deltaOD']), '{:.2e}'.format(output['delta1OD']), '{:.2e}'.format(nonlin), '{:.3e}'.format(output['TotMass']), '{:.2e}'.format(zC))\n",
    "print('{:.8e}'.format(output['MassOD']))\n",
    "\n",
    "print(L[0], L[0]/2, L[0]/4, L[0]/64)\n",
    "print(Amp_pert[0])"
   ]
  },
  {
   "cell_type": "markdown",
   "id": "0a3396bd-6b0b-4d8d-9264-a8766fbc26f4",
   "metadata": {},
   "source": [
    "# Lx bigger delta the same"
   ]
  },
  {
   "cell_type": "code",
   "execution_count": 184,
   "id": "778db602-4c4b-46cb-9fc9-9e7514593262",
   "metadata": {},
   "outputs": [
    {
     "name": "stdout",
     "output_type": "stream",
     "text": [
      "1821 910.5 14.2265625 28.453125 56.90625\n"
     ]
    }
   ],
   "source": [
    "Lp = 1821\n",
    "print(Lp, Lp/2, Lp/128, Lp/64, Lp/32)"
   ]
  },
  {
   "cell_type": "code",
   "execution_count": 183,
   "id": "46a3c2e0",
   "metadata": {},
   "outputs": [
    {
     "name": "stdout",
     "output_type": "stream",
     "text": [
      "LCDM\n",
      "3.00000000e-02 3.42e-02 1.23e-01 2.633e+20 4.40e+00\n",
      "1.11556731e+15\n",
      "2003.1000000000001 1001.5500000000001 15.649218750000001 31.298437500000002 62.596875000000004\n",
      "0.014385423754099746\n"
     ]
    }
   ],
   "source": [
    "# L10b de\n",
    "tIN = 1\n",
    "zIN = LCDM.z(tIN)\n",
    "deltaC = 1.686\n",
    "Lp = 1821\n",
    "L = [Lp*1.1, Lp, Lp]\n",
    "Ap = 0.01138486133517004756\n",
    "Amp_pert = [Ap*1.263557221348, Ap, Ap]\n",
    "output = A.f_Amp(tIN, L, Amp_pert)\n",
    "zC = (1+zIN)*output['deltaOD']/deltaC - 1\n",
    "nonlin = abs(output['deltaOD']/output['delta1OD'] - 1)\n",
    "print('{:.8e}'.format(output['deltaOD']), '{:.2e}'.format(output['delta1OD']), '{:.2e}'.format(nonlin), '{:.3e}'.format(output['TotMass']), '{:.2e}'.format(zC))\n",
    "print('{:.8e}'.format(output['MassOD']))\n",
    "\n",
    "print(L[0], L[0]/2, L[0]/128, L[0]/64, L[0]/32)\n",
    "print(Amp_pert[0])"
   ]
  },
  {
   "cell_type": "code",
   "execution_count": 185,
   "id": "3121de14",
   "metadata": {},
   "outputs": [
    {
     "name": "stdout",
     "output_type": "stream",
     "text": [
      "LCDM\n",
      "3.00000000e-02 3.48e-02 1.38e-01 2.873e+20 4.40e+00\n",
      "1.22886905e+15\n",
      "2185.2 1092.6 17.071875 34.14375 68.2875\n",
      "0.018005987468996495\n"
     ]
    }
   ],
   "source": [
    "# L20b de\n",
    "tIN = 1\n",
    "zIN = LCDM.z(tIN)\n",
    "deltaC = 1.686\n",
    "Lp = 1821\n",
    "L = [Lp*1.2, Lp, Lp]\n",
    "Ap = 0.01138486133517004756\n",
    "Amp_pert = [Ap*1.581572839484, Ap, Ap]\n",
    "output = A.f_Amp(tIN, L, Amp_pert)\n",
    "zC = (1+zIN)*output['deltaOD']/deltaC - 1\n",
    "nonlin = abs(output['deltaOD']/output['delta1OD'] - 1)\n",
    "print('{:.8e}'.format(output['deltaOD']), '{:.2e}'.format(output['delta1OD']), '{:.2e}'.format(nonlin), '{:.3e}'.format(output['TotMass']), '{:.2e}'.format(zC))\n",
    "print('{:.8e}'.format(output['MassOD']))\n",
    "\n",
    "print(L[0], L[0]/2, L[0]/128, L[0]/64, L[0]/32)\n",
    "print(Amp_pert[0])"
   ]
  },
  {
   "cell_type": "code",
   "execution_count": 186,
   "id": "96a12206-c466-4f6b-9db8-fdf29c05ff6b",
   "metadata": {},
   "outputs": [
    {
     "name": "stdout",
     "output_type": "stream",
     "text": [
      "LCDM\n",
      "3.00000000e-02 3.56e-02 1.57e-01 3.112e+20 4.40e+00\n",
      "1.34700819e+15\n",
      "2367.3 1183.65 18.49453125 36.9890625 73.978125\n",
      "0.022417891722589667\n"
     ]
    }
   ],
   "source": [
    "# L30b de\n",
    "tIN = 1\n",
    "zIN = LCDM.z(tIN)\n",
    "deltaC = 1.686\n",
    "Lp = 1821\n",
    "L = [Lp*1.3, Lp, Lp]\n",
    "Ap = 0.01138486133517004756\n",
    "Amp_pert = [Ap*1.969096597895, Ap, Ap]\n",
    "output = A.f_Amp(tIN, L, Amp_pert)\n",
    "zC = (1+zIN)*output['deltaOD']/deltaC - 1\n",
    "nonlin = abs(output['deltaOD']/output['delta1OD'] - 1)\n",
    "print('{:.8e}'.format(output['deltaOD']), '{:.2e}'.format(output['delta1OD']), '{:.2e}'.format(nonlin), '{:.3e}'.format(output['TotMass']), '{:.2e}'.format(zC))\n",
    "print('{:.8e}'.format(output['MassOD']))\n",
    "\n",
    "print(L[0], L[0]/2, L[0]/128, L[0]/64, L[0]/32)\n",
    "print(Amp_pert[0])"
   ]
  },
  {
   "cell_type": "code",
   "execution_count": null,
   "id": "9bb256e8-0cfc-4b8b-a572-1147a4cdf968",
   "metadata": {},
   "outputs": [],
   "source": []
  }
 ],
 "metadata": {
  "kernelspec": {
   "display_name": "Python 3",
   "language": "python",
   "name": "python3"
  },
  "language_info": {
   "codemirror_mode": {
    "name": "ipython",
    "version": 3
   },
   "file_extension": ".py",
   "mimetype": "text/x-python",
   "name": "python",
   "nbconvert_exporter": "python",
   "pygments_lexer": "ipython3",
   "version": "3.6.8"
  }
 },
 "nbformat": 4,
 "nbformat_minor": 5
}
