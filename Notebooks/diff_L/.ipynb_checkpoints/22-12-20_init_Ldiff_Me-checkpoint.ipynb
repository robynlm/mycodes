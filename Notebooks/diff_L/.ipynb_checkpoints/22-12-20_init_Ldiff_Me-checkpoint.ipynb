{
 "cells": [
  {
   "cell_type": "code",
   "execution_count": 1,
   "id": "fea57053",
   "metadata": {},
   "outputs": [],
   "source": [
    "import numpy as np\n",
    "import matplotlib.pyplot as plt\n",
    "from IPython.display import display, Math\n",
    "from data_analysis_codes.tools import Cstyle\n",
    "from data_analysis_codes.tools import Amplitudes as A\n",
    "plt.style.use(Cstyle.style1)\n",
    "import math\n",
    "from data_analysis_codes.tools import LCDM\n",
    "LCDM = LCDM.evo()"
   ]
  },
  {
   "cell_type": "code",
   "execution_count": 2,
   "id": "a94e537d",
   "metadata": {},
   "outputs": [
    {
     "name": "stdout",
     "output_type": "stream",
     "text": [
      "3.00000000e-02 3.37e-02 1.10e-01 3.187e+19 4.40e+00\n",
      "1.00596115e+15\n"
     ]
    }
   ],
   "source": [
    "# INI SIM\n",
    "tIN = 1\n",
    "zIN = LCDM.z(tIN)\n",
    "deltaC = 1.686\n",
    "L = [1821]*3\n",
    "Amp_pert = [0.01138486133517004756]*3\n",
    "delta, delta1, Mass, MassOD, gdetOD, RicciSOD, KOD = A.f_Amp(tIN, L, Amp_pert)\n",
    "zC = (1+zIN)*delta/deltaC - 1\n",
    "nonlin = abs(delta/delta1 - 1)\n",
    "print('{:.8e}'.format(delta), '{:.2e}'.format(delta1), '{:.2e}'.format(nonlin), '{:.3e}'.format(Mass), '{:.2e}'.format(zC))\n",
    "print('{:.8e}'.format(MassOD))"
   ]
  },
  {
   "cell_type": "code",
   "execution_count": 3,
   "id": "ffe0060a",
   "metadata": {},
   "outputs": [
    {
     "name": "stdout",
     "output_type": "stream",
     "text": [
      "3.25042834e-02 3.64e-02 1.06e-01 2.868e+19 4.85e+00\n",
      "9.05275642e+14\n"
     ]
    }
   ],
   "source": [
    "# L10s\n",
    "tIN = 1\n",
    "zIN = LCDM.z(tIN)\n",
    "deltaC = 1.686\n",
    "Lp = 1821\n",
    "L = [Lp*0.9, Lp, Lp]\n",
    "Ap = 0.01138486133517004756\n",
    "Amp_pert = [Ap, Ap, Ap]\n",
    "delta, delta1, Mass, MassOD, gdetOD, RicciSOD, KOD = A.f_Amp(tIN, L, Amp_pert)\n",
    "zC = (1+zIN)*delta/deltaC - 1\n",
    "nonlin = abs(delta/delta1 - 1)\n",
    "print('{:.8e}'.format(delta), '{:.2e}'.format(delta1), '{:.2e}'.format(nonlin), '{:.3e}'.format(Mass), '{:.2e}'.format(zC))\n",
    "print('{:.8e}'.format(MassOD))"
   ]
  },
  {
   "cell_type": "code",
   "execution_count": 5,
   "id": "a811dc99",
   "metadata": {},
   "outputs": [
    {
     "name": "stdout",
     "output_type": "stream",
     "text": [
      "7.02e-02 8.85e-02 2.07e-01 3.082e+19 1.16e+01\n",
      "1.00596115e+15\n"
     ]
    }
   ],
   "source": [
    "# L10s Me\n",
    "tIN = 1\n",
    "zIN = LCDM.z(tIN)\n",
    "deltaC = 1.686\n",
    "Lp = 1821\n",
    "L = [Lp*0.9, Lp, Lp]\n",
    "Ap = 0.01138486133517004756\n",
    "Amp_pert = [Ap*4.760979, Ap, Ap]\n",
    "delta, delta1, Mass, MassOD, gdetOD, RicciSOD, KOD = A.f_Amp(tIN, L, Amp_pert)\n",
    "zC = (1+zIN)*delta/deltaC - 1\n",
    "nonlin = abs(delta/delta1 - 1)\n",
    "print('{:.2e}'.format(delta), '{:.2e}'.format(delta1), '{:.2e}'.format(nonlin), '{:.3e}'.format(Mass), '{:.2e}'.format(zC))\n",
    "print('{:.8e}'.format(MassOD))"
   ]
  },
  {
   "cell_type": "code",
   "execution_count": 6,
   "id": "d8787d65",
   "metadata": {},
   "outputs": [
    {
     "name": "stdout",
     "output_type": "stream",
     "text": [
      "3.00000000e-02 3.35e-02 1.05e-01 3.020e+19 4.40e+00\n",
      "9.52279862e+14\n"
     ]
    }
   ],
   "source": [
    "# L5s de\n",
    "tIN = 1\n",
    "zIN = LCDM.z(tIN)\n",
    "deltaC = 1.686\n",
    "Lp = 1821\n",
    "L = [Lp*0.95, Lp, Lp]\n",
    "Ap = 0.01138486133517004756\n",
    "Amp_pert = [Ap*0.88524163, Ap, Ap]\n",
    "delta, delta1, Mass, MassOD, gdetOD, RicciSOD, KOD = A.f_Amp(tIN, L, Amp_pert)\n",
    "zC = (1+zIN)*delta/deltaC - 1\n",
    "nonlin = abs(delta/delta1 - 1)\n",
    "print('{:.8e}'.format(delta), '{:.2e}'.format(delta1), '{:.2e}'.format(nonlin), '{:.3e}'.format(Mass), '{:.2e}'.format(zC))\n",
    "print('{:.8e}'.format(MassOD))"
   ]
  },
  {
   "cell_type": "code",
   "execution_count": 7,
   "id": "c6c6fbcc",
   "metadata": {},
   "outputs": [
    {
     "name": "stdout",
     "output_type": "stream",
     "text": [
      "1729.9499999999998 864.9749999999999 432.48749999999995 27.030468749999997\n",
      "0.01007835320566991\n"
     ]
    }
   ],
   "source": [
    "Lx = Lp*0.95\n",
    "print(Lx, Lx/2, Lx/4, Lx/64)\n",
    "print(Ap*0.88524163)"
   ]
  },
  {
   "cell_type": "code",
   "execution_count": 9,
   "id": "82194749",
   "metadata": {},
   "outputs": [
    {
     "name": "stdout",
     "output_type": "stream",
     "text": [
      "3.00000000e-02 3.33e-02 9.93e-02 2.855e+19 4.40e+00\n",
      "8.99234932e+14\n"
     ]
    }
   ],
   "source": [
    "# L10s de\n",
    "tIN = 1\n",
    "zIN = LCDM.z(tIN)\n",
    "deltaC = 1.686\n",
    "Lp = 1821\n",
    "L = [Lp*0.9, Lp, Lp]\n",
    "Ap = 0.01138486133517004756\n",
    "Amp_pert = [Ap*0.78042708, Ap, Ap]\n",
    "delta, delta1, Mass, MassOD, gdetOD, RicciSOD, KOD = A.f_Amp(tIN, L, Amp_pert)\n",
    "zC = (1+zIN)*delta/deltaC - 1\n",
    "nonlin = abs(delta/delta1 - 1)\n",
    "print('{:.8e}'.format(delta), '{:.2e}'.format(delta1), '{:.2e}'.format(nonlin), '{:.3e}'.format(Mass), '{:.2e}'.format(zC))\n",
    "print('{:.8e}'.format(MassOD))"
   ]
  },
  {
   "cell_type": "code",
   "execution_count": 10,
   "id": "ab9361a0",
   "metadata": {},
   "outputs": [
    {
     "name": "stdout",
     "output_type": "stream",
     "text": [
      "1638.9 819.45 409.725 25.6078125\n",
      "0.008885054088011662\n"
     ]
    }
   ],
   "source": [
    "Lx = Lp*0.9\n",
    "print(Lx, Lx/2, Lx/4, Lx/64)\n",
    "print(Ap*0.78042708)"
   ]
  },
  {
   "cell_type": "code",
   "execution_count": 12,
   "id": "2d1afedd",
   "metadata": {},
   "outputs": [
    {
     "name": "stdout",
     "output_type": "stream",
     "text": [
      "3.00000000e-02 3.31e-02 9.44e-02 2.691e+19 4.40e+00\n",
      "8.46756363e+14\n"
     ]
    }
   ],
   "source": [
    "# L15s de\n",
    "tIN = 1\n",
    "zIN = LCDM.z(tIN)\n",
    "deltaC = 1.686\n",
    "Lp = 1821\n",
    "L = [Lp*0.85, Lp, Lp]\n",
    "Ap = 0.01138486133517004756\n",
    "Amp_pert = [Ap*0.6846956, Ap, Ap]\n",
    "delta, delta1, Mass, MassOD, gdetOD, RicciSOD, KOD = A.f_Amp(tIN, L, Amp_pert)\n",
    "zC = (1+zIN)*delta/deltaC - 1\n",
    "nonlin = abs(delta/delta1 - 1)\n",
    "print('{:.8e}'.format(delta), '{:.2e}'.format(delta1), '{:.2e}'.format(nonlin), '{:.3e}'.format(Mass), '{:.2e}'.format(zC))\n",
    "print('{:.8e}'.format(MassOD))"
   ]
  },
  {
   "cell_type": "code",
   "execution_count": 13,
   "id": "820074ef",
   "metadata": {},
   "outputs": [
    {
     "name": "stdout",
     "output_type": "stream",
     "text": [
      "1547.85 773.925 386.9625 24.18515625\n",
      "0.007795164462801056\n"
     ]
    }
   ],
   "source": [
    "Lx = Lp*0.85\n",
    "print(Lx, Lx/2, Lx/4, Lx/64)\n",
    "print(Ap*0.6846956)"
   ]
  },
  {
   "cell_type": "code",
   "execution_count": 14,
   "id": "315c8089",
   "metadata": {},
   "outputs": [
    {
     "name": "stdout",
     "output_type": "stream",
     "text": [
      "3.00000000e-02 3.30e-02 9.00e-02 2.528e+19 4.40e+00\n",
      "7.94782757e+14\n"
     ]
    }
   ],
   "source": [
    "# L20s de\n",
    "tIN = 1\n",
    "zIN = LCDM.z(tIN)\n",
    "deltaC = 1.686\n",
    "Lp = 1821\n",
    "L = [Lp*0.8, Lp, Lp]\n",
    "Ap = 0.01138486133517004756\n",
    "Amp_pert = [Ap*0.59730799, Ap, Ap]\n",
    "delta, delta1, Mass, MassOD, gdetOD, RicciSOD, KOD = A.f_Amp(tIN, L, Amp_pert)\n",
    "zC = (1+zIN)*delta/deltaC - 1\n",
    "nonlin = abs(delta/delta1 - 1)\n",
    "print('{:.8e}'.format(delta), '{:.2e}'.format(delta1), '{:.2e}'.format(nonlin), '{:.3e}'.format(Mass), '{:.2e}'.format(zC))\n",
    "print('{:.8e}'.format(MassOD))"
   ]
  },
  {
   "cell_type": "code",
   "execution_count": 15,
   "id": "d6ecc196",
   "metadata": {},
   "outputs": [
    {
     "name": "stdout",
     "output_type": "stream",
     "text": [
      "1456.8000000000002 728.4000000000001 364.20000000000005 22.762500000000003\n",
      "0.006800268640539137\n"
     ]
    }
   ],
   "source": [
    "Lx = Lp*0.8\n",
    "print(Lx, Lx/2, Lx/4, Lx/64)\n",
    "print(Ap*0.59730799)"
   ]
  },
  {
   "cell_type": "code",
   "execution_count": 45,
   "id": "c7073007",
   "metadata": {},
   "outputs": [
    {
     "name": "stdout",
     "output_type": "stream",
     "text": [
      "3.00000000e-02 3.27e-02 8.22e-02 2.205e+19 4.40e+00\n",
      "6.92139396e+14\n",
      "1274.6999999999998 637.3499999999999 318.67499999999995 19.917187499999997\n",
      "0.005067403146467548\n"
     ]
    }
   ],
   "source": [
    "# L30b\n",
    "tIN = 1\n",
    "zIN = LCDM.z(tIN)\n",
    "deltaC = 1.686\n",
    "Lp = 1821\n",
    "L = [Lp*0.7, Lp, Lp]\n",
    "Ap = 0.01138486133517004756\n",
    "Amp_pert = [Ap*0.44510012, Ap, Ap]\n",
    "delta, delta1, Mass, MassOD, gdetOD, RicciSOD, KOD = A.f_Amp(tIN, L, Amp_pert)\n",
    "zC = (1+zIN)*delta/deltaC - 1\n",
    "nonlin = abs(delta/delta1 - 1)\n",
    "print('{:.8e}'.format(delta), '{:.2e}'.format(delta1), '{:.2e}'.format(nonlin), '{:.3e}'.format(Mass), '{:.2e}'.format(zC))\n",
    "print('{:.8e}'.format(MassOD))\n",
    "\n",
    "Lx = Lp*0.7\n",
    "print(Lx, Lx/2, Lx/4, Lx/64)\n",
    "print(Ap*0.44510012)"
   ]
  },
  {
   "cell_type": "code",
   "execution_count": 92,
   "id": "98f2b9a1",
   "metadata": {},
   "outputs": [
    {
     "name": "stdout",
     "output_type": "stream",
     "text": [
      "3.00000000e-02 3.25e-02 7.57e-02 1.885e+19 4.40e+00\n",
      "5.90936927e+14\n",
      "1092.6 546.3 273.15 17.071875\n",
      "0.003639275860054032\n"
     ]
    }
   ],
   "source": [
    "# L40b\n",
    "tIN = 1\n",
    "zIN = LCDM.z(tIN)\n",
    "deltaC = 1.686\n",
    "Lp = 1821\n",
    "L = [Lp*0.6, Lp, Lp]\n",
    "Ap = 0.01138486133517004756\n",
    "Amp_pert = [Ap*0.319659217, Ap, Ap]\n",
    "delta, delta1, Mass, MassOD, gdetOD, RicciSOD, KOD = A.f_Amp(tIN, L, Amp_pert)\n",
    "zC = (1+zIN)*delta/deltaC - 1\n",
    "nonlin = abs(delta/delta1 - 1)\n",
    "print('{:.8e}'.format(delta), '{:.2e}'.format(delta1), '{:.2e}'.format(nonlin), '{:.3e}'.format(Mass), '{:.2e}'.format(zC))\n",
    "print('{:.8e}'.format(MassOD))\n",
    "\n",
    "Lx = L[0]\n",
    "print(Lx, Lx/2, Lx/4, Lx/64)\n",
    "print(Amp_pert[0])"
   ]
  },
  {
   "cell_type": "code",
   "execution_count": 128,
   "id": "6b66fbbe-9f85-40b6-bdc7-b7e35f53b824",
   "metadata": {},
   "outputs": [
    {
     "name": "stdout",
     "output_type": "stream",
     "text": [
      "3.00000000e-02 3.23e-02 7.04e-02 1.568e+19 4.40e+00\n",
      "4.90876261e+14\n",
      "910.5 455.25 227.625 14.2265625\n",
      "0.002480317901508855\n"
     ]
    }
   ],
   "source": [
    "# L50b\n",
    "tIN = 1\n",
    "zIN = LCDM.z(tIN)\n",
    "deltaC = 1.686\n",
    "Lp = 1821\n",
    "L = [Lp*0.5, Lp, Lp]\n",
    "Ap = 0.01138486133517004756\n",
    "Amp_pert = [Ap*0.217861055, Ap, Ap]\n",
    "delta, delta1, Mass, MassOD, gdetOD, RicciSOD, KOD = A.f_Amp(tIN, L, Amp_pert)\n",
    "zC = (1+zIN)*delta/deltaC - 1\n",
    "nonlin = abs(delta/delta1 - 1)\n",
    "print('{:.8e}'.format(delta), '{:.2e}'.format(delta1), '{:.2e}'.format(nonlin), '{:.3e}'.format(Mass), '{:.2e}'.format(zC))\n",
    "print('{:.8e}'.format(MassOD))\n",
    "\n",
    "Lx = L[0]\n",
    "print(Lx, Lx/2, Lx/4, Lx/64)\n",
    "print(Amp_pert[0])"
   ]
  },
  {
   "cell_type": "code",
   "execution_count": 132,
   "id": "54383b1b-4e12-46ae-8e1d-3ef34027ccb4",
   "metadata": {},
   "outputs": [
    {
     "data": {
      "text/plain": [
       "(28.453125, 7.11328125)"
      ]
     },
     "execution_count": 132,
     "metadata": {},
     "output_type": "execute_result"
    }
   ],
   "source": [
    "14.2265625*2, 14.2265625/2"
   ]
  },
  {
   "cell_type": "code",
   "execution_count": null,
   "id": "538317a4-40ab-4ef1-9ff4-6a8becaf8401",
   "metadata": {},
   "outputs": [],
   "source": []
  }
 ],
 "metadata": {
  "kernelspec": {
   "display_name": "Python 3",
   "language": "python",
   "name": "python3"
  },
  "language_info": {
   "codemirror_mode": {
    "name": "ipython",
    "version": 3
   },
   "file_extension": ".py",
   "mimetype": "text/x-python",
   "name": "python",
   "nbconvert_exporter": "python",
   "pygments_lexer": "ipython3",
   "version": "3.6.8"
  }
 },
 "nbformat": 4,
 "nbformat_minor": 5
}
