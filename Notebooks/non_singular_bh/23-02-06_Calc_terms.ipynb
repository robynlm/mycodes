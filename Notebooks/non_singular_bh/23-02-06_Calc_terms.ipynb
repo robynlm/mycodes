{
 "cells": [
  {
   "cell_type": "code",
   "execution_count": 1,
   "id": "b6761a2f",
   "metadata": {},
   "outputs": [],
   "source": [
    "import numpy as np\n",
    "import matplotlib.pyplot as plt"
   ]
  },
  {
   "cell_type": "code",
   "execution_count": 2,
   "id": "04903a8d",
   "metadata": {},
   "outputs": [],
   "source": [
    "L = 1    # Simulation box size\n",
    "N = 32   # Number of data points\n",
    "\n",
    "l = 0.3  # Deviation from Schwarzschild\n",
    "a = 0.5  # Rotation\n",
    "M = 1    # Mass"
   ]
  },
  {
   "cell_type": "code",
   "execution_count": 3,
   "id": "a576c793",
   "metadata": {},
   "outputs": [
    {
     "name": "stderr",
     "output_type": "stream",
     "text": [
      "<ipython-input-3-07e5184f823f>:5: RuntimeWarning: invalid value encountered in true_divide\n",
      "  theta = np.arccos(z / r)\n",
      "<ipython-input-3-07e5184f823f>:11: RuntimeWarning: divide by zero encountered in true_divide\n",
      "  F = 2 * M * r * np.exp(-l * r / Sigma)\n"
     ]
    }
   ],
   "source": [
    "dx = L/N\n",
    "xyz = np.arange(-L/2, L/2, dx)\n",
    "x, y, z = np.meshgrid(xyz, xyz, xyz, indexing='ij')\n",
    "r = np.sqrt(x*x + y*y + z*z)\n",
    "theta = np.arccos(z / r)\n",
    "theta[np.where(r == 0)] = 0\n",
    "\n",
    "a2 = a*a\n",
    "r2 = r*r\n",
    "Sigma = r2 + a2 * np.cos(theta)\n",
    "F = 2 * M * r * np.exp(-l * r / Sigma)\n",
    "Delta = r2 + a2 - F"
   ]
  },
  {
   "cell_type": "code",
   "execution_count": 4,
   "id": "4284bccb",
   "metadata": {},
   "outputs": [
    {
     "name": "stderr",
     "output_type": "stream",
     "text": [
      "<ipython-input-4-a2808265bedb>:2: RuntimeWarning: invalid value encountered in true_divide\n",
      "  S = st2*F/Sigma\n",
      "<ipython-input-4-a2808265bedb>:3: RuntimeWarning: invalid value encountered in true_divide\n",
      "  gdown4 = np.array([[-(1 - F/Sigma), 0, 0, -a*S],\n",
      "<ipython-input-4-a2808265bedb>:3: VisibleDeprecationWarning: Creating an ndarray from ragged nested sequences (which is a list-or-tuple of lists-or-tuples-or ndarrays with different lengths or shapes) is deprecated. If you meant to do this, you must specify 'dtype=object' when creating the ndarray.\n",
      "  gdown4 = np.array([[-(1 - F/Sigma), 0, 0, -a*S],\n"
     ]
    }
   ],
   "source": [
    "st2 = np.sin(theta)**2\n",
    "S = st2*F/Sigma\n",
    "gdown4 = np.array([[-(1 - F/Sigma), 0, 0, -a*S], \n",
    "                   [0, Sigma/Delta, 0, 0], \n",
    "                   [0, 0, Sigma, 0], \n",
    "                   [-a*S, 0, 0, st2*(r2 + a2*(1 + S))]])\n",
    "\n",
    "D = (S - st2)*(r2 + a2) - st2*a2*S\n",
    "gdet = (Sigma**2)*D/Delta"
   ]
  },
  {
   "cell_type": "code",
   "execution_count": null,
   "id": "d0374fa0",
   "metadata": {},
   "outputs": [],
   "source": [
    "alpha = -gdown[3, 3]/D"
   ]
  },
  {
   "cell_type": "code",
   "execution_count": null,
   "id": "7873d2e2",
   "metadata": {},
   "outputs": [],
   "source": []
  }
 ],
 "metadata": {
  "kernelspec": {
   "display_name": "Python 3",
   "language": "python",
   "name": "python3"
  },
  "language_info": {
   "codemirror_mode": {
    "name": "ipython",
    "version": 3
   },
   "file_extension": ".py",
   "mimetype": "text/x-python",
   "name": "python",
   "nbconvert_exporter": "python",
   "pygments_lexer": "ipython3",
   "version": "3.8.8"
  }
 },
 "nbformat": 4,
 "nbformat_minor": 5
}
