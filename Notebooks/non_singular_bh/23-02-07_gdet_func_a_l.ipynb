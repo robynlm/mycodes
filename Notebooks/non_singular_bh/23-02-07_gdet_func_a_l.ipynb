{
 "cells": [
  {
   "cell_type": "code",
   "execution_count": 1,
   "metadata": {},
   "outputs": [],
   "source": [
    "import numpy as np\n",
    "import matplotlib.pyplot as plt"
   ]
  },
  {
   "cell_type": "code",
   "execution_count": 2,
   "metadata": {},
   "outputs": [],
   "source": [
    "L = 1    # Simulation box size\n",
    "N = 32   # Number of data points"
   ]
  },
  {
   "cell_type": "code",
   "execution_count": 3,
   "metadata": {},
   "outputs": [
    {
     "name": "stderr",
     "output_type": "stream",
     "text": [
      "/Users/robynmunoz/anaconda3/lib/python3.7/site-packages/ipykernel_launcher.py:5: RuntimeWarning: invalid value encountered in true_divide\n",
      "  \"\"\"\n"
     ]
    }
   ],
   "source": [
    "dx = L/N\n",
    "xyz = np.arange(-L/2, L/2, dx)\n",
    "x, y, z = np.meshgrid(xyz, xyz, xyz, indexing='ij')\n",
    "r = np.sqrt(x*x + y*y + z*z)\n",
    "theta = np.arccos(z / r)\n",
    "theta[np.where(r == 0)] = 0"
   ]
  },
  {
   "cell_type": "code",
   "execution_count": 5,
   "metadata": {},
   "outputs": [],
   "source": [
    "a = 0.5\n",
    "r = r + 1j * a * np.cos(theta)\n",
    "r1b = r - 1j * a * np.cos(theta)\n",
    "Sigma = r1 * r1b\n",
    "r2 = (1/2) * ((1/r1) + (1/r1b)) / Sigma"
   ]
  },
  {
   "cell_type": "code",
   "execution_count": 4,
   "metadata": {},
   "outputs": [],
   "source": [
    "def calc_gdet(a, l, M):\n",
    "    a2 = a*a\n",
    "    r2 = r*r\n",
    "    Sigma = r2 + a2 * np.cos(theta)\n",
    "    F = 2 * M * r * np.exp(-l * r / Sigma)\n",
    "    Delta = r2 + a2 - F\n",
    "    st2 = np.sin(theta)**2\n",
    "    S = st2 * F / Sigma\n",
    "    D = (S - st2) * (r2 + a2) - st2 * a2 * S\n",
    "    gdet = (Sigma**2) * D / Delta\n",
    "    return gdet"
   ]
  },
  {
   "cell_type": "code",
   "execution_count": 10,
   "metadata": {},
   "outputs": [
    {
     "name": "stderr",
     "output_type": "stream",
     "text": [
      "<ipython-input-4-6456dd6fea17>:5: RuntimeWarning: overflow encountered in exp\n",
      "  F = 2 * M * r * np.exp(-l * r / Sigma)\n",
      "<ipython-input-4-6456dd6fea17>:9: RuntimeWarning: invalid value encountered in subtract\n",
      "  D = (S - st2) * (r2 + a2) - st2 * a2 * S\n",
      "<ipython-input-4-6456dd6fea17>:5: RuntimeWarning: overflow encountered in exp\n",
      "  F = 2 * M * r * np.exp(-l * r / Sigma)\n",
      "<ipython-input-4-6456dd6fea17>:8: RuntimeWarning: overflow encountered in true_divide\n",
      "  S = st2 * F / Sigma\n",
      "<ipython-input-4-6456dd6fea17>:9: RuntimeWarning: invalid value encountered in subtract\n",
      "  D = (S - st2) * (r2 + a2) - st2 * a2 * S\n",
      "<ipython-input-4-6456dd6fea17>:5: RuntimeWarning: overflow encountered in exp\n",
      "  F = 2 * M * r * np.exp(-l * r / Sigma)\n",
      "<ipython-input-4-6456dd6fea17>:8: RuntimeWarning: overflow encountered in true_divide\n",
      "  S = st2 * F / Sigma\n",
      "<ipython-input-4-6456dd6fea17>:9: RuntimeWarning: invalid value encountered in subtract\n",
      "  D = (S - st2) * (r2 + a2) - st2 * a2 * S\n"
     ]
    },
    {
     "data": {
      "text/plain": [
       "Text(0.5, 1.0, '$|g|$')"
      ]
     },
     "execution_count": 10,
     "metadata": {},
     "output_type": "execute_result"
    },
    {
     "data": {
      "image/png": "[encoded data removed]",
      "text/plain": [
       "<Figure size 432x288 with 1 Axes>"
      ]
     },
     "metadata": {
      "needs_background": "light"
     },
     "output_type": "display_data"
    }
   ],
   "source": [
    "plt.semilogy(x[:,16,16], abs(calc_gdet(1, 0, 1)[:,16,16]), label='a=1, l=0, M=1')\n",
    "plt.semilogy(x[:,16,16], abs(calc_gdet(1, 1, 1)[:,16,16]), label='a=1, l=1, M=1')\n",
    "plt.semilogy(x[:,16,16], abs(calc_gdet(1, 10, 1)[:,16,16]), label='a=1, l=10, M=1')\n",
    "plt.semilogy(x[:,16,16], abs(calc_gdet(1, 100, 1)[:,16,16]), label='a=1, l=100, M=1')\n",
    "plt.semilogy(x[:,16,16], abs(r*r + np.cos(theta))[:,16,16], label='a=1, l=100, M=1')\n",
    "plt.grid()\n",
    "plt.title(r'$|g|$')"
   ]
  },
  {
   "cell_type": "code",
   "execution_count": null,
   "metadata": {},
   "outputs": [],
   "source": []
  }
 ],
 "metadata": {
  "kernelspec": {
   "display_name": "Python 3",
   "language": "python",
   "name": "python3"
  },
  "language_info": {
   "codemirror_mode": {
    "name": "ipython",
    "version": 3
   },
   "file_extension": ".py",
   "mimetype": "text/x-python",
   "name": "python",
   "nbconvert_exporter": "python",
   "pygments_lexer": "ipython3",
   "version": "3.7.4"
  }
 },
 "nbformat": 4,
 "nbformat_minor": 5
}
