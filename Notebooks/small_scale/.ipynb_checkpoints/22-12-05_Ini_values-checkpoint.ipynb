{
 "cells": [
  {
   "cell_type": "code",
   "execution_count": 1,
   "id": "d35945be",
   "metadata": {},
   "outputs": [],
   "source": [
    "import numpy as np\n",
    "import matplotlib.pyplot as plt\n",
    "from IPython.display import display, Math\n",
    "from data_analysis_codes.tools import Cstyle\n",
    "from data_analysis_codes.tools import Amplitudes as A\n",
    "plt.style.use(Cstyle.style1)\n",
    "import math\n",
    "from data_analysis_codes.tools import LCDM\n",
    "LCDM = LCDM.evo()"
   ]
  },
  {
   "cell_type": "code",
   "execution_count": 2,
   "id": "cb265948",
   "metadata": {},
   "outputs": [],
   "source": [
    "deltaC = 1.686"
   ]
  },
  {
   "cell_type": "code",
   "execution_count": 3,
   "id": "08fb1354",
   "metadata": {},
   "outputs": [
    {
     "name": "stdout",
     "output_type": "stream",
     "text": [
      "3.00e-02 3.37e-02 1.10e-01 3.184e+19 4.40e+00\n"
     ]
    }
   ],
   "source": [
    "tIN = 1\n",
    "zIN = LCDM.z(tIN)\n",
    "L = 1821\n",
    "Amp_pert = 0.01138486133517004756\n",
    "delta, delta1, Mass, MassOD = A.f_Amp(tIN, L, Amp_pert)\n",
    "zC = (1+zIN)*delta/deltaC - 1\n",
    "nonlin = abs(delta/delta1 - 1)\n",
    "print('{:.2e}'.format(delta), '{:.2e}'.format(delta1), '{:.2e}'.format(nonlin), '{:.3e}'.format(Mass), '{:.2e}'.format(zC))"
   ]
  },
  {
   "cell_type": "code",
   "execution_count": 4,
   "id": "301132fb",
   "metadata": {},
   "outputs": [
    {
     "data": {
      "text/plain": [
       "302.53397248862854"
      ]
     },
     "execution_count": 4,
     "metadata": {},
     "output_type": "execute_result"
    }
   ],
   "source": [
    "zIN"
   ]
  },
  {
   "cell_type": "code",
   "execution_count": 5,
   "id": "0880e370",
   "metadata": {},
   "outputs": [
    {
     "data": {
      "text/plain": [
       "300.0008538967575"
      ]
     },
     "execution_count": 5,
     "metadata": {},
     "output_type": "execute_result"
    }
   ],
   "source": [
    "tIN = 1.01265\n",
    "zIN = LCDM.z(tIN)\n",
    "zIN"
   ]
  },
  {
   "cell_type": "code",
   "execution_count": 6,
   "id": "581fdcee",
   "metadata": {},
   "outputs": [
    {
     "data": {
      "text/plain": [
       "457.21275987818336"
      ]
     },
     "execution_count": 6,
     "metadata": {},
     "output_type": "execute_result"
    }
   ],
   "source": [
    "1/(LCDM.a(tIN)*LCDM.Hprop(tIN))"
   ]
  },
  {
   "cell_type": "code",
   "execution_count": 7,
   "id": "57961072",
   "metadata": {},
   "outputs": [
    {
     "data": {
      "text/plain": [
       "455.300946915069"
      ]
     },
     "execution_count": 7,
     "metadata": {},
     "output_type": "execute_result"
    }
   ],
   "source": [
    "1/(LCDM.a(1)*LCDM.Hprop(1))"
   ]
  },
  {
   "cell_type": "code",
   "execution_count": 8,
   "id": "4d075581",
   "metadata": {},
   "outputs": [],
   "source": [
    "# Mass fac\n",
    "speed_of_light = 299792458   # m.s^{-1}\n",
    "Grav_const     = 6.67408e-11 # m^3.kg^{-1}.s^{-2}\n",
    "parsec         = 3.0857e16   # m\n",
    "Megaparsecc    = parsec*1e6  # m\n",
    "MassSun        = 1.98847e30  # kg\n",
    "a0 = 1    \n",
    "Massfac = (Megaparsecc*speed_of_light**2)/(Grav_const*MassSun*a0**3)"
   ]
  },
  {
   "cell_type": "code",
   "execution_count": 9,
   "id": "3a573fda",
   "metadata": {},
   "outputs": [
    {
     "name": "stdout",
     "output_type": "stream",
     "text": [
      "1.338e+08\n",
      "4.955e+09\n",
      "3.964e+10\n",
      "1.338e+11\n"
     ]
    }
   ],
   "source": [
    "for L in [0.3, 1, 2, 3]:\n",
    "    Vol = (L*LCDM.a(tIN)/2)**3\n",
    "    Mass = LCDM.rho(tIN)*Vol*Massfac\n",
    "    print('{:.3e}'.format(Mass))"
   ]
  },
  {
   "cell_type": "code",
   "execution_count": 10,
   "id": "e2a7cff4",
   "metadata": {},
   "outputs": [],
   "source": [
    "def L_for_M(L):\n",
    "    delta, delta1, Mass, MassOD = A.f_Amp(tIN, L, Amp_pert)\n",
    "    return Mass\n",
    "\n",
    "def dichotonomy(y_wanted, function, lower_bound, upper_bound, tolerance):\n",
    "    x_low = lower_bound\n",
    "    x_upp = upper_bound\n",
    "    x_mid = (x_low + x_upp) / 2\n",
    "    y_low = function(x_low)\n",
    "    y_upp = function(x_upp)\n",
    "    y_mid = function(x_mid)\n",
    "    while abs(y_wanted / y_mid - 1) > tolerance:\n",
    "        if y_wanted > y_mid:\n",
    "            y_low = y_mid\n",
    "            x_low = x_mid\n",
    "            x_mid = (x_low + x_upp) / 2\n",
    "            y_mid = function(x_mid)\n",
    "        else:\n",
    "            y_upp = y_mid\n",
    "            x_upp = x_mid\n",
    "            x_mid = (x_low + x_upp) / 2\n",
    "            y_mid = function(x_mid)\n",
    "    return x_mid"
   ]
  },
  {
   "cell_type": "code",
   "execution_count": 11,
   "id": "eb3501f8",
   "metadata": {
    "scrolled": false
   },
   "outputs": [
    {
     "name": "stdout",
     "output_type": "stream",
     "text": [
      "1.18e-01 9.75e-02 2.06e-01 1.340e+08 20.000074719879024\n",
      "1.18e-01 9.75e-02 2.06e-01 4.963e+09 20.000212605813715\n",
      "1.18e-01 9.75e-02 2.06e-01 3.970e+10 20.00020228711561\n",
      "1.18e-01 9.75e-02 2.06e-01 1.340e+11 20.0000440737446\n"
     ]
    }
   ],
   "source": [
    "for L, Amp_pert in zip([0.3, 1, 2, 3], [8.8645e-10, 9.8495e-9, 3.9398e-8, 8.8645e-8]):\n",
    "    delta, delta1, Mass, MassOD = A.f_Amp(tIN, L, Amp_pert)\n",
    "    zC = (1+zIN)*delta/deltaC - 1\n",
    "    nonlin = abs(delta/delta1 - 1)\n",
    "    print('{:.2e}'.format(delta), '{:.2e}'.format(delta1), '{:.2e}'.format(nonlin), '{:.3e}'.format(Mass), zC)"
   ]
  },
  {
   "cell_type": "code",
   "execution_count": 12,
   "id": "0f769b92",
   "metadata": {},
   "outputs": [
    {
     "name": "stdout",
     "output_type": "stream",
     "text": [
      "8.96e-02 7.73e-02 1.59e-01 1.339e+08 15.000119162575903\n",
      "8.96e-02 7.73e-02 1.59e-01 4.960e+09 15.000169665064416\n",
      "8.96e-02 7.73e-02 1.59e-01 3.968e+10 15.000045640985313\n",
      "8.96e-02 7.73e-02 1.59e-01 1.339e+11 15.000100815508048\n"
     ]
    }
   ],
   "source": [
    "for L, Amp_pert in zip([0.3, 1, 2, 3], [7.0252e-10, 7.8058e-9, 3.1223e-8, 7.0252e-8]):\n",
    "    delta, delta1, Mass, MassOD = A.f_Amp(tIN, L, Amp_pert)\n",
    "    zC = (1+zIN)*delta/deltaC - 1\n",
    "    nonlin = abs(delta/delta1 - 1)\n",
    "    print('{:.2e}'.format(delta), '{:.2e}'.format(delta1), '{:.2e}'.format(nonlin), '{:.3e}'.format(Mass), zC)"
   ]
  },
  {
   "cell_type": "code",
   "execution_count": 13,
   "id": "08f919ab",
   "metadata": {
    "scrolled": true
   },
   "outputs": [
    {
     "name": "stdout",
     "output_type": "stream",
     "text": [
      "6.16e-02 5.54e-02 1.11e-01 1.339e+08 10.000074216823897\n",
      "6.16e-02 5.54e-02 1.11e-01 4.958e+09 10.000097463091988\n",
      "6.16e-02 5.54e-02 1.11e-01 3.966e+10 10.000311902170038\n",
      "6.16e-02 5.54e-02 1.11e-01 1.339e+11 10.000065251290334\n"
     ]
    }
   ],
   "source": [
    "for L, Amp_pert in zip([0.3, 1, 2, 3], [5.0381e-10, 5.5979e-9, 2.2392e-8, 5.0381e-8]):\n",
    "    delta, delta1, Mass, MassOD = A.f_Amp(tIN, L, Amp_pert)\n",
    "    zC = (1+zIN)*delta/deltaC - 1\n",
    "    nonlin = abs(delta/delta1 - 1)\n",
    "    print('{:.2e}'.format(delta), '{:.2e}'.format(delta1), '{:.2e}'.format(nonlin), '{:.3e}'.format(Mass), zC)"
   ]
  },
  {
   "cell_type": "code",
   "execution_count": 14,
   "id": "4d053f2b",
   "metadata": {},
   "outputs": [
    {
     "name": "stdout",
     "output_type": "stream",
     "text": [
      "3.36e-02 3.16e-02 6.19e-02 1.338e+08 5.000073595355017\n",
      "3.36e-02 3.16e-02 6.19e-02 4.956e+09 5.0001175545575895\n",
      "3.36e-02 3.16e-02 6.19e-02 3.965e+10 5.000017079511044\n",
      "3.36e-02 3.16e-02 6.19e-02 1.338e+11 5.000070829400761\n"
     ]
    }
   ],
   "source": [
    "for L, Amp_pert in zip([0.3, 1, 2, 3], [2.8762e-10, 3.1958e-9, 1.2783e-8, 2.8762e-8]):\n",
    "    delta, delta1, Mass, MassOD = A.f_Amp(tIN, L, Amp_pert)\n",
    "    zC = (1+zIN)*delta/deltaC - 1\n",
    "    nonlin = abs(delta/delta1 - 1)\n",
    "    print('{:.2e}'.format(delta), '{:.2e}'.format(delta1), '{:.2e}'.format(nonlin), '{:.3e}'.format(Mass), zC)"
   ]
  },
  {
   "cell_type": "code",
   "execution_count": null,
   "id": "e063fc72",
   "metadata": {},
   "outputs": [],
   "source": []
  }
 ],
 "metadata": {
  "kernelspec": {
   "display_name": "Python 3",
   "language": "python",
   "name": "python3"
  },
  "language_info": {
   "codemirror_mode": {
    "name": "ipython",
    "version": 3
   },
   "file_extension": ".py",
   "mimetype": "text/x-python",
   "name": "python",
   "nbconvert_exporter": "python",
   "pygments_lexer": "ipython3",
   "version": "3.8.8"
  }
 },
 "nbformat": 4,
 "nbformat_minor": 5
}
