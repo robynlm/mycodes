{
 "cells": [
  {
   "cell_type": "code",
   "execution_count": 1,
   "id": "4df0285b-1e7b-4c23-bc91-e2b30e67c223",
   "metadata": {},
   "outputs": [],
   "source": [
    "import numpy as np\n",
    "from data_analysis_codes.tools import LCDM\n",
    "evo = LCDM.evo()\n",
    "from data_analysis_codes.tools import Amplitudes as A\n",
    "from data_analysis_codes.tools import AmplitudesK as AK"
   ]
  },
  {
   "cell_type": "code",
   "execution_count": 2,
   "id": "abc9b4bc-634f-41a3-aa58-a673b5f9e770",
   "metadata": {},
   "outputs": [],
   "source": [
    "def dichotomomy(y_wanted, function, lower_bound, upper_bound, tolerance):\n",
    "    x_low = lower_bound\n",
    "    x_upp = upper_bound\n",
    "    x_mid = (x_low + x_upp) / 2\n",
    "    y_low = function(x_low)\n",
    "    y_upp = function(x_upp)\n",
    "    y_mid = function(x_mid)\n",
    "    while abs(y_wanted / y_mid - 1) > tolerance:\n",
    "        if y_wanted > y_mid:\n",
    "            y_low = y_mid\n",
    "            x_low = x_mid\n",
    "            x_mid = (x_low + x_upp) / 2\n",
    "            y_mid = function(x_mid)\n",
    "        else:\n",
    "            y_upp = y_mid\n",
    "            x_upp = x_mid\n",
    "            x_mid = (x_low + x_upp) / 2\n",
    "            y_mid = function(x_mid)\n",
    "    return x_mid"
   ]
  },
  {
   "cell_type": "code",
   "execution_count": 4,
   "id": "2976f79a-e8e0-4c9b-9be5-c6f614fc34a0",
   "metadata": {},
   "outputs": [
    {
     "name": "stdout",
     "output_type": "stream",
     "text": [
      "27.487251073533795 0.0054648086348850254 0.1821203834931771\n"
     ]
    }
   ],
   "source": [
    "tIN = 1.01265\n",
    "deltaIN = 0.1176280\n",
    "deltaTA = 3*((6*np.pi)**(2/3))/20\n",
    "tTA = tIN*(deltaTA/deltaIN)**(3/2)\n",
    "L = 3\n",
    "\n",
    "fac = 0.0006 / evo.a(1.0)\n",
    "dtfacTA = fac * evo.a(tTA)\n",
    "print(tTA, dtfacTA, fac)"
   ]
  },
  {
   "cell_type": "code",
   "execution_count": 12,
   "id": "84ac7aad-be49-4415-be35-0e0efaacb11a",
   "metadata": {},
   "outputs": [
    {
     "name": "stdout",
     "output_type": "stream",
     "text": [
      "0.00727922122040553 0\n"
     ]
    }
   ],
   "source": [
    "rho = evo.rho(tTA)*(1+deltaTA)\n",
    "R3_wanted = 2*evo.kappa*rho + 2*evo.Lambda\n",
    "K_wanted = 0\n",
    "print(R3_wanted, K_wanted)"
   ]
  },
  {
   "cell_type": "code",
   "execution_count": 25,
   "id": "2a5d791a-0b6b-4119-aa30-02497217fad6",
   "metadata": {},
   "outputs": [
    {
     "name": "stdout",
     "output_type": "stream",
     "text": [
      "5.272032934427261e-08\n",
      "1.062409652400136 1.5976836012458562\n",
      "0.00727922122040553 0.0072792211022670245\n",
      "0 -0.053233190360954266\n"
     ]
    }
   ],
   "source": [
    "def get_R(Amp):\n",
    "    deltaOD, delta1OD, MassTot, MassOD, gdetOD, RicciSOD, KOD = A.f_Amp(tTA, [L]*3, [Amp]*3)\n",
    "    return RicciSOD\n",
    "\n",
    "Amp_wanted = dichotomomy(R3_wanted, get_R, 9e-9, 1e-7, 1e-7)\n",
    "deltaOD, delta1OD, MassTot, MassOD, gdetOD, RicciSOD, KOD = A.f_Amp(tTA, [L]*3, [Amp_wanted]*3)\n",
    "\n",
    "print(Amp_wanted)\n",
    "print(deltaTA, deltaOD)\n",
    "print(R3_wanted, RicciSOD)\n",
    "print(K_wanted, KOD)"
   ]
  },
  {
   "cell_type": "code",
   "execution_count": 32,
   "id": "813ec1e7-9ac1-4704-aa4a-da19e1a4d6ca",
   "metadata": {},
   "outputs": [
    {
     "name": "stdout",
     "output_type": "stream",
     "text": [
      "5.272032934427261e-08 1.0062137113162444e-07\n",
      "1.062409652400136 1.0624096189271945\n",
      "0.00727922122040553 0.0072792211022670245\n",
      "0 0.0\n"
     ]
    },
    {
     "name": "stderr",
     "output_type": "stream",
     "text": [
      "/opt/apps/pkgs/jupyterhub/lib64/python3.6/site-packages/ipykernel_launcher.py:8: RuntimeWarning: invalid value encountered in double_scalars\n",
      "  \n"
     ]
    }
   ],
   "source": [
    "def get_K(AmpK):\n",
    "    deltaOD, delta1OD, MassTot, MassOD, gdetOD, RicciSOD, KOD = AK.f_Amp(tTA, [L]*3, [Amp_wanted]*3, [AmpK]*3)\n",
    "    return KOD\n",
    "\n",
    "AmpK_wanted = dichotomomy(K_wanted, get_K, 1e-8, 1e-6, 1e-7)\n",
    "deltaOD, delta1OD, MassTot, MassOD, gdetOD, RicciSOD, KOD = AK.f_Amp(tTA, [L]*3, [Amp_wanted]*3, [AmpK_wanted]*3)\n",
    "\n",
    "print(Amp_wanted, AmpK_wanted)\n",
    "print(deltaTA, deltaOD)\n",
    "print(R3_wanted, RicciSOD)\n",
    "print(K_wanted, KOD)"
   ]
  },
  {
   "cell_type": "code",
   "execution_count": 36,
   "id": "624d05f6-ad4e-4d66-a878-a2f67fa38dd3",
   "metadata": {},
   "outputs": [
    {
     "name": "stdout",
     "output_type": "stream",
     "text": [
      "0.0000000527203293\n",
      "0.0000001006213711\n"
     ]
    }
   ],
   "source": [
    "print('{:.16f}'.format(Amp_wanted))\n",
    "print('{:.16f}'.format(AmpK_wanted))"
   ]
  },
  {
   "cell_type": "code",
   "execution_count": null,
   "id": "8c60b0d4-0602-4306-8887-35e16405c42c",
   "metadata": {},
   "outputs": [],
   "source": []
  }
 ],
 "metadata": {
  "kernelspec": {
   "display_name": "Python 3",
   "language": "python",
   "name": "python3"
  },
  "language_info": {
   "codemirror_mode": {
    "name": "ipython",
    "version": 3
   },
   "file_extension": ".py",
   "mimetype": "text/x-python",
   "name": "python",
   "nbconvert_exporter": "python",
   "pygments_lexer": "ipython3",
   "version": "3.6.8"
  }
 },
 "nbformat": 4,
 "nbformat_minor": 5
}
