{
 "cells": [
  {
   "cell_type": "code",
   "execution_count": 1,
   "id": "187daf2a-d7f7-4b7c-aa8a-3ef732d8d5df",
   "metadata": {},
   "outputs": [],
   "source": [
    "import sys\n",
    "sys.path.append(\"/users/munozr/mycodes\")\n",
    "import numpy as np\n",
    "import matplotlib.pyplot as plt\n",
    "from data_analysis_codes.tools import Cstyle\n",
    "plt.style.use(Cstyle.style1)\n",
    "\n",
    "from data_analysis_codes.tools import Amplitudes as A\n",
    "from data_analysis_codes.tools import EdS\n",
    "EdS = EdS.evo()\n",
    "\n",
    "from data_analysis_codes.tools import ReadingTools as RRead\n",
    "from data_analysis_codes.tools import LinData\n",
    "import pandas as pd\n",
    "import math"
   ]
  },
  {
   "cell_type": "code",
   "execution_count": 2,
   "id": "4ed12ce9-b9c4-4253-9448-443239b124c2",
   "metadata": {},
   "outputs": [],
   "source": [
    "def dichotomy(y_wanted, function, lower_bound, upper_bound, tolerance):\n",
    "    x_low = lower_bound\n",
    "    x_upp = upper_bound\n",
    "    x_mid = (x_low + x_upp) / 2\n",
    "    y_low = function(x_low)\n",
    "    y_upp = function(x_upp)\n",
    "    y_mid = function(x_mid)\n",
    "    while abs(y_wanted / y_mid - 1) > tolerance:\n",
    "        if y_wanted > y_mid:\n",
    "            y_low = y_mid\n",
    "            x_low = x_mid\n",
    "            x_mid = (x_low + x_upp) / 2\n",
    "            y_mid = function(x_mid)\n",
    "        else:\n",
    "            y_upp = y_mid\n",
    "            x_upp = x_mid\n",
    "            x_mid = (x_low + x_upp) / 2\n",
    "            y_mid = function(x_mid)\n",
    "    return x_mid"
   ]
  },
  {
   "cell_type": "code",
   "execution_count": 3,
   "id": "efbe2b2a-dd0f-4aa3-b0c2-51dc810e91f2",
   "metadata": {},
   "outputs": [
    {
     "name": "stdout",
     "output_type": "stream",
     "text": [
      "deltaODIN =  0.03000000000000025   nonlin =  0.10100085090658872\n",
      "tTA = 210.7444419312192\n",
      "zIN =  205.46172764896136 zF =  2.672671968975387\n",
      "tIN = 1   tTA = 210.7444419312192   tF = 421.48888386243834\n",
      "{'Mom_max': 0.000145952740806895, 'Mom_Q3': 3.67910401367188e-05, 'Mom_med': 2.0724704172199853e-05, 'Mom_Q1': 9.046862919194526e-06, 'Mom_min': 1.372379185859321e-23, 'TotMass': 2.209325660334571e+20, 'deltaOD': 0.03000000000000025, 'delta1OD': 0.03337044315364872, 'MassOD': 923227872364147.4, 'gxxOD': 2.4441288618552918e-05, 'gdetOD': 1.460065363391338e-14, 'dgdetOD': 0.13086207943868788, 'dgdetOD1': 0.12553573389532116, 'RicciSOD': 0.13663848194719494, 'RicciSOD1': 0.1483130806828832, 'KOD': -1.9786465771024415, 'KxxOD': -1.6120224021690865e-05, 'dKOD': -0.010676711448779241, 'dKOD1': -0.011123481051216239}\n",
      " read time file\n"
     ]
    }
   ],
   "source": [
    "# Previously in paper\n",
    "tINprev = 1\n",
    "lambda_pertprev = 1206\n",
    "Amp_pertprev = 0.01068203445570103244\n",
    "output = A.f_Amp(tINprev, [lambda_pertprev]*3, [Amp_pertprev]*3)\n",
    "print('deltaODIN = ', output['deltaOD'], '  nonlin = ', abs(output['deltaOD']/output['delta1OD'] - 1))\n",
    "\n",
    "deltaTA = 3*((6*np.pi)**(2/3))/20\n",
    "aTA = EdS.a(tINprev) * deltaTA / output['deltaOD']\n",
    "tTA = EdS.t_func_a(aTA)\n",
    "print('tTA =', tTA)\n",
    "\n",
    "deltaF = 3*((12*np.pi)**(2/3))/20\n",
    "aF = EdS.a(tINprev) * deltaF / output['deltaOD']\n",
    "tF = EdS.t_func_a(aF)\n",
    "print('zIN = ', EdS.z(tINprev), 'zF = ', EdS.z(tF))\n",
    "\n",
    "print('tIN =', tINprev, '  tTA =', tTA, '  tF =', tF)\n",
    "print(output)\n",
    "paramprev = RRead.read_parameters('pflrw_d3e2_L1206_t1_N64_EdS')\n",
    "Lin = LinData.LinData_Class(paramprev)\n",
    "fprev = pd.read_table(paramprev['datapath']+'h5_data.csv', delimiter=',')\n",
    "Lin.delta_initial['OD'] = fprev['drho_OD'][0]"
   ]
  },
  {
   "cell_type": "code",
   "execution_count": 4,
   "id": "2090ceeb-dbf0-4286-aa94-d689bf61a8a4",
   "metadata": {},
   "outputs": [
    {
     "name": "stdout",
     "output_type": "stream",
     "text": [
      "{'Mom_max': 6.42240384525396e-05, 'Mom_Q3': 1.61892758085669e-05, 'Mom_med': 9.11955603176049e-06, 'Mom_Q1': 3.980919224598797e-06, 'Mom_min': 1.5859805928971255e-23, 'TotMass': 6.448931653903956e+19, 'deltaOD': 0.02999999984881696, 'delta1OD': 0.033370442965726124, 'MassOD': 269486457060059.4, 'gxxOD': 4.732545696810624e-06, 'gdetOD': 1.0599477283634104e-16, 'dgdetOD': 0.13086207867134148, 'dgdetOD1': 0.12553573318837802, 'RicciSOD': 1.6036771861325136, 'RicciSOD1': 1.740697791713571, 'KOD': -6.7786028607383155, 'KxxOD': -1.06933492663251e-05, 'dKOD': -0.010676711391069071, 'dKOD1': -0.011123480988575374}\n"
     ]
    }
   ],
   "source": [
    "# Repeat sim with L=800\n",
    "Lf1 = 800\n",
    "tINf1 = 0.2918959286843883\n",
    "Amp_pertf1 = 0.010682034395546127\n",
    "\n",
    "deltaODIN = 0.02999999984881696\n",
    "nonlin = 0.10100085037441231\n",
    "\n",
    "zIN = 468.1958895544446 \n",
    "zF = 7.3463535952338415\n",
    "\n",
    "tIN = 0.2918959286843883 \n",
    "tTA = 61.51544505759174 \n",
    "tF = 123.03089011518348\n",
    "\n",
    "dtfac = 0.00026401986749502915\n",
    "output = A.f_Amp(tINf1, [Lf1]*3, [Amp_pertf1]*3)\n",
    "print(output)\n",
    "\n",
    "param_case1TV_N64 = RRead.read_parameters('pflrw_d3e2_L800_t3e1_N64_EdS_TV')\n",
    "f1TV_N64 = pd.read_table(param_case1TV_N64['datapath']+'h5_data.csv', delimiter=',')"
   ]
  },
  {
   "cell_type": "markdown",
   "id": "6eb625bb-633a-48b7-a969-0a1a1657104d",
   "metadata": {},
   "source": [
    " Now I want"
   ]
  },
  {
   "cell_type": "code",
   "execution_count": 5,
   "id": "c9fbc3ab-cc03-48f1-9b6f-7de25d9e0251",
   "metadata": {},
   "outputs": [
    {
     "name": "stdout",
     "output_type": "stream",
     "text": [
      "17.2376283280362 15.164670669715957 6.672957234706933\n"
     ]
    }
   ],
   "source": [
    "L = 800\n",
    "prev_ratio = 1\n",
    "tIN_wanted = ((3 * (EdS.t_today**(2/3)) * prev_ratio)/(2 * EdS.a_today * L))**(-3)\n",
    "print(tIN_wanted, EdS.a(tIN_wanted)/ f1TV_N64['a'][0], Lin.an_initial(tIN_wanted))"
   ]
  },
  {
   "cell_type": "code",
   "execution_count": 6,
   "id": "a6ce76d1-2675-481b-9815-56a05dfed60e",
   "metadata": {},
   "outputs": [],
   "source": [
    "def L_interp(x, y, xf):\n",
    "    yf = np.zeros(len(xf))\n",
    "    k = len(x)\n",
    "    for i in range(len(xf)):\n",
    "        for j in range(k):\n",
    "            topbot = 1\n",
    "            for m in range(k):\n",
    "                if (j!=m \n",
    "                    and (xf[i]-x[m] not in [math.nan, math.inf, -math.inf]) \n",
    "                    and (x[j]-x[m] not in [math.nan, math.inf, -math.inf])):\n",
    "                    topbot *= (xf[i]-x[m])/(x[j]-x[m])\n",
    "            yf[i] += y[j]*topbot\n",
    "    return yf"
   ]
  },
  {
   "cell_type": "code",
   "execution_count": 7,
   "id": "be06ab11-6e34-442e-ad6c-cfc8adbf6c34",
   "metadata": {},
   "outputs": [
    {
     "name": "stdout",
     "output_type": "stream",
     "text": [
      "[0.70660668]\n"
     ]
    }
   ],
   "source": [
    "deltaIN_wanted = L_interp(f1TV_N64['t'], f1TV_N64['drho_u_OD'], [tIN_wanted])\n",
    "print(deltaIN_wanted)"
   ]
  },
  {
   "cell_type": "code",
   "execution_count": 8,
   "id": "733ac4dd-f756-4c35-b3fd-ca881c6354a7",
   "metadata": {},
   "outputs": [
    {
     "data": {
      "text/plain": [
       "(-1.0, 17.0)"
      ]
     },
     "execution_count": 8,
     "metadata": {},
     "output_type": "execute_result"
    },
    {
     "data": {
      "image/png": "[encoded data removed]",
      "text/plain": [
       "<Figure size 432x288 with 1 Axes>"
      ]
     },
     "metadata": {
      "needs_background": "light"
     },
     "output_type": "display_data"
    }
   ],
   "source": [
    "plt.plot(Lin.an_initial(fprev['t']), fprev['drho_OD'])\n",
    "plt.plot(EdS.a(f1TV_N64['t'])/EdS.a(f1TV_N64['t'][0]), f1TV_N64['drho_u_OD'])\n",
    "plt.plot(Lin.an_initial(fprev['t']), Lin.delta_u(fprev['t'], loc='OD'), linestyle='--')\n",
    "plt.scatter(EdS.a(tIN_wanted)/EdS.a(f1TV_N64['t'][0]), deltaIN_wanted, s=100)\n",
    "plt.axvline(x = EdS.a(tIN_wanted)/ f1TV_N64['a'][0])\n",
    "plt.grid()\n",
    "plt.ylim(-0.05, 1)\n",
    "plt.xlim(-1, 17)"
   ]
  },
  {
   "cell_type": "code",
   "execution_count": 9,
   "id": "e753a5e6-63aa-48f6-9164-69fd7ff9e866",
   "metadata": {},
   "outputs": [
    {
     "name": "stdout",
     "output_type": "stream",
     "text": [
      "17.2376283280362 800 0.008003336841967575\n"
     ]
    },
    {
     "data": {
      "text/plain": [
       "{'Mom_max': 0.0008124247509650085,\n",
       " 'Mom_Q3': 0.0001916648532371662,\n",
       " 'Mom_med': 9.713529937022545e-05,\n",
       " 'Mom_Q1': 4.417469693135515e-05,\n",
       " 'Mom_min': 0.0,\n",
       " 'TotMass': 6.259184829243918e+19,\n",
       " 'deltaOD': 0.7066066766170842,\n",
       " 'delta1OD': 0.37915088889064225,\n",
       " 'MassOD': 297773550301988.8,\n",
       " 'gxxOD': 0.0008307354717186444,\n",
       " 'gdetOD': 5.733083466861886e-10,\n",
       " 'dgdetOD': -0.4970607172961383,\n",
       " 'dgdetOD1': -0.6142417146258681,\n",
       " 'RicciSOD': 0.008967350883740954,\n",
       " 'RicciSOD1': 0.0056711944150477,\n",
       " 'KOD': -0.09758620997150855,\n",
       " 'KxxOD': -2.7022775391305278e-05,\n",
       " 'dKOD': -0.15892259128471764,\n",
       " 'dKOD1': -0.12638362963021407}"
      ]
     },
     "execution_count": 9,
     "metadata": {},
     "output_type": "execute_result"
    }
   ],
   "source": [
    "tIN = tIN_wanted\n",
    "L = 800\n",
    "def func(Amp_pert):\n",
    "    return A.f_Amp(tIN, [L]*3, [Amp_pert]*3)['deltaOD']\n",
    "Amp_pert = dichotomy(deltaIN_wanted, func, 1e-10, 0.1, 1e-8)\n",
    "print(tIN, L, Amp_pert)\n",
    "output = A.f_Amp(tIN, [L]*3, [Amp_pert]*3)\n",
    "output"
   ]
  },
  {
   "cell_type": "code",
   "execution_count": null,
   "id": "e6ac2db3-2221-4060-b826-2fc60cedb6f9",
   "metadata": {},
   "outputs": [],
   "source": []
  }
 ],
 "metadata": {
  "kernelspec": {
   "display_name": "Python 3",
   "language": "python",
   "name": "python3"
  },
  "language_info": {
   "codemirror_mode": {
    "name": "ipython",
    "version": 3
   },
   "file_extension": ".py",
   "mimetype": "text/x-python",
   "name": "python",
   "nbconvert_exporter": "python",
   "pygments_lexer": "ipython3",
   "version": "3.6.8"
  }
 },
 "nbformat": 4,
 "nbformat_minor": 5
}
