{
 "cells": [
  {
   "cell_type": "code",
   "execution_count": 1,
   "id": "6aa4eec9",
   "metadata": {},
   "outputs": [],
   "source": [
    "import numpy as np\n",
    "from data_analysis_codes.tools import LCDM\n",
    "evo = LCDM.evo()\n",
    "from data_analysis_codes.tools import Amplitudes as A\n",
    "from data_analysis_codes.tools import AmplitudesK as AK\n",
    "from data_analysis_codes.tools import ReadingTools as RRead\n",
    "import pandas as pd\n",
    "import matplotlib.pyplot as plt\n",
    "from data_analysis_codes.tools import LinData\n",
    "from data_analysis_codes.tools import ReadingTools as RRead\n",
    "from data_analysis_codes.tools import Cstyle\n",
    "plt.style.use(Cstyle.style1)"
   ]
  },
  {
   "cell_type": "code",
   "execution_count": 2,
   "id": "d8505046-da6d-428d-bf15-659582c2b812",
   "metadata": {},
   "outputs": [],
   "source": [
    "def dichotomomy(y_wanted, function, lower_bound, upper_bound, tolerance):\n",
    "    x_low = lower_bound\n",
    "    x_upp = upper_bound\n",
    "    x_mid = (x_low + x_upp) / 2\n",
    "    y_low = function(x_low)\n",
    "    y_upp = function(x_upp)\n",
    "    y_mid = function(x_mid)\n",
    "    while abs(y_wanted / y_mid - 1) > tolerance:\n",
    "        if y_wanted > y_mid:\n",
    "            y_low = y_mid\n",
    "            x_low = x_mid\n",
    "            x_mid = (x_low + x_upp) / 2\n",
    "            y_mid = function(x_mid)\n",
    "        else:\n",
    "            y_upp = y_mid\n",
    "            x_upp = x_mid\n",
    "            x_mid = (x_low + x_upp) / 2\n",
    "            y_mid = function(x_mid)\n",
    "    return x_mid"
   ]
  },
  {
   "cell_type": "markdown",
   "id": "b9b6c0db",
   "metadata": {},
   "source": [
    "## Just change tIN"
   ]
  },
  {
   "cell_type": "code",
   "execution_count": 51,
   "id": "bf30368f",
   "metadata": {},
   "outputs": [
    {
     "name": "stdout",
     "output_type": "stream",
     "text": [
      "TA\n",
      "210.027864112607\n",
      "0.02120809156535989\n",
      "New tIN\n",
      "200 0.02052681318551482\n"
     ]
    }
   ],
   "source": [
    "# 1st just change tIn and dtfac\n",
    "tIN = 1\n",
    "aIN = evo.a(tIN)\n",
    "deltaIN = 0.03\n",
    "\n",
    "print('TA')\n",
    "deltaTA = 1.06\n",
    "anTA = deltaTA/deltaIN\n",
    "tTA = tIN*(anTA)**(3/2)\n",
    "aTA = evo.a(tTA)\n",
    "print(tTA)\n",
    "\n",
    "dtfacIN = 0.0006\n",
    "# dt = fac * a * dx\n",
    "# dtfac = fac * a\n",
    "# fac = dtfac / a\n",
    "fac = dtfacIN / aIN\n",
    "dtfacTA = fac * aTA\n",
    "print(dtfacTA)\n",
    "\n",
    "print('New tIN')\n",
    "tIN_new = 200\n",
    "aIN_new = evo.a(tIN_new)\n",
    "dtfac_new = fac * aIN_new\n",
    "print(tIN_new, dtfac_new)"
   ]
  },
  {
   "cell_type": "code",
   "execution_count": 52,
   "id": "8330337d",
   "metadata": {},
   "outputs": [
    {
     "name": "stdout",
     "output_type": "stream",
     "text": [
      "0.029999999999999583 1.5552033835920128e-06\n",
      "3.1865949545724727e+19\n"
     ]
    }
   ],
   "source": [
    "tIN = 1\n",
    "L = 1821\n",
    "Amp_pert = 0.01138486133517004756\n",
    "deltaOD, delta1OD, MassTot, MassOD, gdetOD, RicciSOD, KOD = A.f_Amp(tIN, [L]*3, [Amp_pert]*3)\n",
    "print(deltaOD, (gdetOD**(1/3))*RicciSOD)\n",
    "print(MassTot)"
   ]
  },
  {
   "cell_type": "code",
   "execution_count": 53,
   "id": "5d18f47d",
   "metadata": {},
   "outputs": [
    {
     "name": "stdout",
     "output_type": "stream",
     "text": [
      "20.47257611124472 5.426179683287306e-06\n"
     ]
    }
   ],
   "source": [
    "tIN = 200\n",
    "L = 1821\n",
    "Amp_pert = 0.01138486133517004756\n",
    "deltaOD, delta1OD, MassTot, MassOD, gdetOD, RicciSOD, KOD = A.f_Amp(tIN, [L]*3, [Amp_pert]*3)\n",
    "print(deltaOD, (gdetOD**(1/3))*RicciSOD)"
   ]
  },
  {
   "cell_type": "markdown",
   "id": "32411d89",
   "metadata": {},
   "source": [
    "## Change Amp for given tIn to match $\\delta_{OD}$"
   ]
  },
  {
   "cell_type": "code",
   "execution_count": 54,
   "id": "149c2cfa",
   "metadata": {},
   "outputs": [
    {
     "name": "stdout",
     "output_type": "stream",
     "text": [
      " read time file\n"
     ]
    }
   ],
   "source": [
    "param = RRead.read_parameters('pflrw_d3e2_L1821_t1_N128_LCDM')\n",
    "Lin = LinData.LinData_Class(param)\n",
    "f = pd.read_table(param['datapath']+'h5_data.csv', delimiter=',')"
   ]
  },
  {
   "cell_type": "code",
   "execution_count": 55,
   "id": "05ac30eb",
   "metadata": {},
   "outputs": [],
   "source": [
    "tIN = np.arange(1, 400, 10)\n",
    "deltaODIN = [A.f_Amp(t, [L]*3, [Amp_pert]*3)[0] for t in tIN]"
   ]
  },
  {
   "cell_type": "code",
   "execution_count": 56,
   "id": "74830611",
   "metadata": {},
   "outputs": [
    {
     "data": {
      "text/plain": [
       "<matplotlib.collections.PathCollection at 0x7f0734fb2630>"
      ]
     },
     "execution_count": 56,
     "metadata": {},
     "output_type": "execute_result"
    },
    {
     "data": {
      "image/png": "[encoded data removed]",
      "text/plain": [
       "<Figure size 432x288 with 1 Axes>"
      ]
     },
     "metadata": {
      "needs_background": "light"
     },
     "output_type": "display_data"
    }
   ],
   "source": [
    "plt.semilogy(f['t'], f['drho_OD'], label='nonlin sim result')\n",
    "plt.semilogy(f['t'], Lin.delta(f['t'], 'OD'), label='1st order prediction')\n",
    "plt.semilogy(tIN, deltaODIN, label='same IC just vary tIN')\n",
    "plt.grid()\n",
    "plt.axvline(x=tTA)\n",
    "plt.xlabel(r'$\\tau$')\n",
    "plt.ylabel(r'$\\delta$')\n",
    "deltaOD_wanted = 4.1256343925\n",
    "plt.scatter(200, deltaOD_wanted)"
   ]
  },
  {
   "cell_type": "code",
   "execution_count": 58,
   "id": "33ddc9de",
   "metadata": {},
   "outputs": [],
   "source": [
    "def get_delta(Amp):\n",
    "    tIN = 200\n",
    "    L = 1821\n",
    "    deltaOD, delta1OD, MassTot, MassOD, gdetOD, RicciSOD, KOD = A.f_Amp(tIN, [L]*3, [Amp]*3)\n",
    "    return deltaOD"
   ]
  },
  {
   "cell_type": "code",
   "execution_count": 59,
   "id": "4a31645d",
   "metadata": {},
   "outputs": [
    {
     "name": "stdout",
     "output_type": "stream",
     "text": [
      "0.007810051407665015\n",
      "4.125634518126491 4.1256343925\n",
      "2.1472652214072455e-06 1.5535549472643465e-06\n"
     ]
    }
   ],
   "source": [
    "Amp_wanted = dichotomomy(deltaOD_wanted, get_delta, 0.001, 0.1, 1e-7)\n",
    "print(Amp_wanted)\n",
    "tIN = 200\n",
    "L = 1821\n",
    "deltaOD, delta1OD, MassTot, MassOD, gdetOD, RicciSOD, KOD = A.f_Amp(tIN, [L]*3, [Amp_wanted]*3)\n",
    "print(deltaOD, deltaOD_wanted)\n",
    "\n",
    "locconfR = (f['gdet_OD']**(1/3))*f['RicciS_OD']\n",
    "aR_wanted = np.mean(locconfR[:350])\n",
    "print((gdetOD**(1/3))*RicciSOD, aR_wanted)"
   ]
  },
  {
   "cell_type": "markdown",
   "id": "104fba36",
   "metadata": {},
   "source": [
    "## Change Amp for given tIn to match ${\\gamma_{OD}}^{\\frac{1}{3}}\\;{}^{(3)}R$"
   ]
  },
  {
   "cell_type": "code",
   "execution_count": 60,
   "id": "c7661d38",
   "metadata": {},
   "outputs": [],
   "source": [
    "def get_aR(Amp):\n",
    "    tIN = 200\n",
    "    L = 1821\n",
    "    deltaOD, delta1OD, MassTot, MassOD, gdetOD, RicciSOD, KOD = A.f_Amp(tIN, [L]*3, [Amp]*3)\n",
    "    aR = (gdetOD**(1/3))*RicciSOD\n",
    "    return aR"
   ]
  },
  {
   "cell_type": "code",
   "execution_count": 61,
   "id": "91f6f47a",
   "metadata": {},
   "outputs": [
    {
     "name": "stderr",
     "output_type": "stream",
     "text": [
      "/opt/apps/pkgs/jupyterhub/lib64/python3.6/site-packages/ipykernel_launcher.py:5: RuntimeWarning: invalid value encountered in double_scalars\n",
      "  \"\"\"\n"
     ]
    },
    {
     "name": "stdout",
     "output_type": "stream",
     "text": [
      "0.006516082435846328\n",
      "2.4640610686952176 4.1256343925\n",
      "1.5535548951610432e-06 1.5535549472643465e-06\n"
     ]
    }
   ],
   "source": [
    "Amp_wanted = dichotomomy(aR_wanted, get_aR, 0.001, 0.02, 1e-7)\n",
    "print(Amp_wanted)\n",
    "tIN = 200\n",
    "L = 1821\n",
    "deltaOD, delta1OD, MassTot, MassOD, gdetOD, RicciSOD, KOD = A.f_Amp(tIN, [L]*3, [Amp_wanted]*3)\n",
    "print(deltaOD, deltaOD_wanted)\n",
    "\n",
    "locconfR = (f['gdet_OD']**(1/3))*f['RicciS_OD']\n",
    "aR_wanted = np.mean(locconfR[:350])\n",
    "print((gdetOD**(1/3))*RicciSOD, aR_wanted)"
   ]
  },
  {
   "cell_type": "markdown",
   "id": "935918fc-9ae2-48ff-ae80-2c98d30516a5",
   "metadata": {},
   "source": [
    "## Change Amp for given tIn to match $K_{OD}$"
   ]
  },
  {
   "cell_type": "code",
   "execution_count": 62,
   "id": "668c99fc-232b-459d-b9b1-dee52d8c9201",
   "metadata": {},
   "outputs": [],
   "source": [
    "def get_K(Amp):\n",
    "    tIN = 200\n",
    "    L = 1821\n",
    "    deltaOD, delta1OD, MassTot, MassOD, gdetOD, RicciSOD, KOD = A.f_Amp(tIN, [L]*3, [Amp]*3)\n",
    "    aR = (gdetOD**(1/3))*RicciSOD\n",
    "    return KOD"
   ]
  },
  {
   "cell_type": "code",
   "execution_count": 63,
   "id": "66ab736e-d46a-446d-91cc-3ae62ecb40e2",
   "metadata": {},
   "outputs": [
    {
     "data": {
      "image/png": "[encoded data removed]",
      "text/plain": [
       "<Figure size 432x288 with 1 Axes>"
      ]
     },
     "metadata": {
      "needs_background": "light"
     },
     "output_type": "display_data"
    }
   ],
   "source": [
    "a = (f['K_OD'][234]-f['K_OD'][233])/(f['t'][234]-f['t'][233])\n",
    "b = f['K_OD'][233] - a*f['t'][233]\n",
    "\n",
    "plt.scatter([f['t'][233], f['t'][234]], [f['K_OD'][233], f['K_OD'][234]])\n",
    "plt.plot(f['t'], a*f['t']+b)\n",
    "K_wanted = a * 200 + b\n",
    "plt.axhline(y = K_wanted)\n",
    "plt.axvline(x = 200)\n",
    "plt.xlim(199.8, 200.8)\n",
    "plt.ylim(-7.6e-4, -6.7e-4)\n",
    "plt.grid()"
   ]
  },
  {
   "cell_type": "code",
   "execution_count": 64,
   "id": "20a4450b-bf9a-4eab-9708-13cdc18cba22",
   "metadata": {},
   "outputs": [
    {
     "data": {
      "text/plain": [
       "-0.0007383398800928087"
      ]
     },
     "execution_count": 64,
     "metadata": {},
     "output_type": "execute_result"
    }
   ],
   "source": [
    "K_wanted"
   ]
  },
  {
   "cell_type": "code",
   "execution_count": 65,
   "id": "14da6549-21ac-4ffb-93fb-606171b91772",
   "metadata": {},
   "outputs": [
    {
     "name": "stderr",
     "output_type": "stream",
     "text": [
      "/opt/apps/pkgs/jupyterhub/lib64/python3.6/site-packages/ipykernel_launcher.py:5: RuntimeWarning: invalid value encountered in double_scalars\n",
      "  \"\"\"\n"
     ]
    },
    {
     "name": "stdout",
     "output_type": "stream",
     "text": [
      "0.01021585144288838\n",
      "11.49182129121758 4.1256343925\n",
      "3.927009580906676e-06 1.5535549472643465e-06\n",
      "-0.0007383398770522973 -0.0007383398800928087\n"
     ]
    }
   ],
   "source": [
    "Amp_wanted = dichotomomy(K_wanted, get_K, 0.001, 0.02, 1e-7)\n",
    "print(Amp_wanted)\n",
    "tIN = 200\n",
    "L = 1821\n",
    "deltaOD, delta1OD, MassTot, MassOD, gdetOD, RicciSOD, KOD = A.f_Amp(tIN, [L]*3, [Amp_wanted]*3)\n",
    "print(deltaOD, deltaOD_wanted)\n",
    "\n",
    "locconfR = (f['gdet_OD']**(1/3))*f['RicciS_OD']\n",
    "aR_wanted = np.mean(locconfR[:350])\n",
    "print((gdetOD**(1/3))*RicciSOD, aR_wanted)\n",
    "\n",
    "print(KOD, K_wanted)"
   ]
  },
  {
   "cell_type": "markdown",
   "id": "093b0a0e-8890-49bd-8c9a-b386d21101d2",
   "metadata": {},
   "source": [
    "# Chose $A_{pert}$ for ${\\gamma_{OD}}^{\\frac{1}{3}}\\;{}^{(3)}R$ and $A_{pertK}$ for $\\delta$"
   ]
  },
  {
   "cell_type": "code",
   "execution_count": 66,
   "id": "d7e5a6ee-e11c-476d-86d4-2c07b5cde7a2",
   "metadata": {},
   "outputs": [],
   "source": [
    "def get_delta(AmpK):\n",
    "    Amp = 0.006516082435846328\n",
    "    tIN = 200\n",
    "    L = 1821\n",
    "    deltaOD, delta1OD, MassTot, MassOD, gdetOD, RicciSOD, KOD = AK.f_Amp(tIN, [L]*3, [Amp]*3, [AmpK]*3)\n",
    "    aR = (gdetOD**(1/3))*RicciSOD\n",
    "    return deltaOD\n",
    "\n",
    "def get_K(AmpK):\n",
    "    Amp = 0.006516082435846328\n",
    "    tIN = 200\n",
    "    L = 1821\n",
    "    deltaOD, delta1OD, MassTot, MassOD, gdetOD, RicciSOD, KOD = AK.f_Amp(tIN, [L]*3, [Amp]*3, [AmpK]*3)\n",
    "    aR = (gdetOD**(1/3))*RicciSOD\n",
    "    return KOD"
   ]
  },
  {
   "cell_type": "code",
   "execution_count": 67,
   "id": "ad2204ed-7b9d-4127-b0ad-17f554538c00",
   "metadata": {},
   "outputs": [
    {
     "data": {
      "image/png": "[encoded data removed]",
      "text/plain": [
       "<Figure size 1008x432 with 2 Axes>"
      ]
     },
     "metadata": {
      "needs_background": "light"
     },
     "output_type": "display_data"
    }
   ],
   "source": [
    "AmpK = np.array([1e-3, 2.5e-3, 5e-3, 7.5e-3, \n",
    "                 1e-2, 1.005e-2,\n",
    "                 1.01e-2, 1.015e-2,\n",
    "                 1.02e-2, 1.021e-2, 1.022e-2, 1.023e-2, 1.025e-2, \n",
    "                 1.05e-2, 1.075e-2, 1.1e-2, 1.2e-2, 1.3e-2, 1.4e-2, \n",
    "                 1.5e-2, 1.6e-2, 1.7e-2, 1.8e-2, 1.9e-2, 2e-2, 3e-2, 4e-2])\n",
    "dK = np.array([get_delta(A) for A in AmpK])\n",
    "KK = np.array([get_K(A) for A in AmpK])\n",
    "\n",
    "plt.figure(figsize=(14,6))\n",
    "plt.subplot(121)\n",
    "plt.loglog(AmpK, dK)\n",
    "plt.scatter(AmpK, dK)\n",
    "plt.axhline(y=4.1256343925)\n",
    "plt.axvline(x=0.006516082435846328)\n",
    "plt.axvline(x=0.010039551025629041, color='k')\n",
    "plt.axvline(x=0.01953259008407593, color='r')\n",
    "plt.xlabel(r'$A_{pertK}$')\n",
    "plt.ylabel(r'$\\delta_{OD}$')\n",
    "plt.grid()\n",
    "#plt.ylim(10, 20)\n",
    "\n",
    "plt.subplot(122)\n",
    "plt.loglog(AmpK, abs(KK))\n",
    "plt.scatter(AmpK, abs(KK))\n",
    "plt.axhline(y=0.0007383398800928087)\n",
    "plt.axvline(x=0.006516082435846328)\n",
    "plt.axvline(x=0.010039551025629041, color='k')\n",
    "plt.axvline(x=0.01953259008407593, color='r')\n",
    "plt.xlabel(r'$A_{pertK}$')\n",
    "plt.ylabel(r'$K_{OD}$')\n",
    "plt.grid()\n",
    "#plt.xlim(9e-3, 1.2e-2)\n",
    "#plt.ylim(3e-4, 2e-3)"
   ]
  },
  {
   "cell_type": "code",
   "execution_count": 68,
   "id": "9f2fb36e-89ed-4896-b2f3-62d79898fcbb",
   "metadata": {},
   "outputs": [
    {
     "name": "stdout",
     "output_type": "stream",
     "text": [
      "0.01953259008407593\n",
      "0.010039551025629041\n"
     ]
    }
   ],
   "source": [
    "delta_wanted = 4.1256343925\n",
    "K_wanted = -0.0007383398800928087\n",
    "\n",
    "AmpK_wanted_delta = dichotomomy(delta_wanted, get_delta, 0.00001, 0.02, 1e-7)\n",
    "print(AmpK_wanted_delta)\n",
    "\n",
    "AmpK_wanted_K = dichotomomy(K_wanted, get_K, 0.00001, 0.02, 1e-7)\n",
    "print(AmpK_wanted_K)"
   ]
  },
  {
   "cell_type": "markdown",
   "id": "30370836-39fa-4abd-9581-5137d7918d7c",
   "metadata": {},
   "source": [
    "# Change $A_{pert}$ for ${}^{(3)}R$ and $A_{pertK}$ for $K$"
   ]
  },
  {
   "cell_type": "code",
   "execution_count": 69,
   "id": "a296ecb1-f6e3-4eff-840f-87a8b63556d8",
   "metadata": {},
   "outputs": [
    {
     "data": {
      "image/png": "[encoded data removed]",
      "text/plain": [
       "<Figure size 432x288 with 1 Axes>"
      ]
     },
     "metadata": {
      "needs_background": "light"
     },
     "output_type": "display_data"
    }
   ],
   "source": [
    "a = (f['RicciS_OD'][234]-f['RicciS_OD'][233])/(f['t'][234]-f['t'][233])\n",
    "b = f['RicciS_OD'][233] - a*f['t'][233]\n",
    "\n",
    "plt.scatter([f['t'][233], f['t'][234]], [f['RicciS_OD'][233], f['RicciS_OD'][234]])\n",
    "plt.plot(f['t'], a*f['t']+b)\n",
    "R3_wanted = a * 200 + b\n",
    "plt.axhline(y = R3_wanted)\n",
    "plt.axvline(x = 200)\n",
    "plt.xlim(199.8, 200.8)\n",
    "plt.ylim(0.0003409, 0.0003410)\n",
    "plt.grid()"
   ]
  },
  {
   "cell_type": "code",
   "execution_count": 70,
   "id": "29865161-c31b-4520-9199-b173c1d6f0a9",
   "metadata": {},
   "outputs": [
    {
     "data": {
      "text/plain": [
       "0.00034094722826609545"
      ]
     },
     "execution_count": 70,
     "metadata": {},
     "output_type": "execute_result"
    }
   ],
   "source": [
    "R3_wanted"
   ]
  },
  {
   "cell_type": "code",
   "execution_count": 71,
   "id": "f1010fe6-d46a-49eb-87db-6815829fe5f0",
   "metadata": {},
   "outputs": [
    {
     "name": "stdout",
     "output_type": "stream",
     "text": [
      "0.007938653588294983\n",
      "4.34486975285202 4.1256343925\n",
      "0.00034094724421423903 0.00034094722826609545\n",
      "-0.004777342255277027 -0.0007383398800928087\n"
     ]
    }
   ],
   "source": [
    "def get_R(Amp):\n",
    "    tIN = 200\n",
    "    L = 1821\n",
    "    deltaOD, delta1OD, MassTot, MassOD, gdetOD, RicciSOD, KOD = A.f_Amp(tIN, [L]*3, [Amp]*3)\n",
    "    return RicciSOD\n",
    "\n",
    "R3_wanted = 0.00034094722826609545\n",
    "Amp_wanted = dichotomomy(R3_wanted, get_R, 0.001, 0.02, 1e-7)\n",
    "\n",
    "deltaOD, delta1OD, MassTot, MassOD, gdetOD, RicciSOD, KOD = A.f_Amp(tIN, [L]*3, [Amp_wanted]*3)\n",
    "print(Amp_wanted)\n",
    "print(deltaOD, deltaOD_wanted)\n",
    "print(RicciSOD, R3_wanted)\n",
    "print(KOD, K_wanted)"
   ]
  },
  {
   "cell_type": "code",
   "execution_count": 72,
   "id": "34ae9c5d-fd19-493b-8d28-e28c877e6b1d",
   "metadata": {},
   "outputs": [
    {
     "name": "stdout",
     "output_type": "stream",
     "text": [
      "0.01010733900219202\n",
      "4.12185982564065 4.1256343925\n",
      "0.00034094724421423903 0.00034094722826609545\n",
      "-0.0007383399156892629 -0.0007383398800928087\n"
     ]
    }
   ],
   "source": [
    "def get_K(AmpK):\n",
    "    Amp = 0.007938653588294983\n",
    "    tIN = 200\n",
    "    L = 1821\n",
    "    deltaOD, delta1OD, MassTot, MassOD, gdetOD, RicciSOD, KOD = AK.f_Amp(tIN, [L]*3, [Amp]*3, [AmpK]*3)\n",
    "    return KOD\n",
    "\n",
    "K_wanted = -0.0007383398800928087\n",
    "AmpK_wanted = dichotomomy(K_wanted, get_K, 0.001, 0.02, 1e-7)\n",
    "\n",
    "deltaOD, delta1OD, MassTot, MassOD, gdetOD, RicciSOD, KOD = AK.f_Amp(tIN, [L]*3, [Amp_wanted]*3, [AmpK_wanted]*3)\n",
    "print(AmpK_wanted)\n",
    "print(deltaOD, deltaOD_wanted)\n",
    "print(RicciSOD, R3_wanted)\n",
    "print(KOD, K_wanted)"
   ]
  },
  {
   "cell_type": "code",
   "execution_count": 73,
   "id": "fac4018d-3ca0-49a7-8b44-458b30f58d11",
   "metadata": {},
   "outputs": [
    {
     "data": {
      "text/plain": [
       "3.024553150238998e+19"
      ]
     },
     "execution_count": 73,
     "metadata": {},
     "output_type": "execute_result"
    }
   ],
   "source": [
    "MassTot"
   ]
  },
  {
   "cell_type": "markdown",
   "id": "15b7ead4-1d45-4ebb-a20f-7484776bc405",
   "metadata": {},
   "source": [
    "# Start at TA"
   ]
  },
  {
   "cell_type": "code",
   "execution_count": 9,
   "id": "de0b8887-2bc5-4778-b59f-1a79902a0ffc",
   "metadata": {},
   "outputs": [
    {
     "name": "stdout",
     "output_type": "stream",
     "text": [
      "210.74444193122176\n",
      "0.005224680357251814\n"
     ]
    }
   ],
   "source": [
    "tIN = 1\n",
    "deltaIN = 0.03\n",
    "deltaTA = 3*((6*np.pi)**(2/3))/20\n",
    "tTA = tIN*(deltaTA/deltaIN)**(3/2)\n",
    "print(tTA)\n",
    "L = 1821\n",
    "def get_R(Amp):\n",
    "    deltaOD, delta1OD, MassTot, MassOD, gdetOD, RicciSOD, KOD = A.f_Amp(tTA, [L]*3, [Amp]*3)\n",
    "    return RicciSOD\n",
    "\n",
    "rho = evo.rho(tTA)*(1+deltaTA)\n",
    "R3_wanted = 2*evo.kappa*rho - 2*evo.Lambda\n",
    "Amp_wanted = dichotomomy(R3_wanted, get_R, 0.001, 0.02, 1e-15)\n",
    "print(Amp_wanted)"
   ]
  },
  {
   "cell_type": "code",
   "execution_count": 11,
   "id": "7a6f299c-1e2a-4a1b-a796-cf163d1de73b",
   "metadata": {},
   "outputs": [
    {
     "name": "stdout",
     "output_type": "stream",
     "text": [
      "210.74444193122176 0.02125635844697865 0.005224680357251814 0.010122724423143954\n",
      "1.062409652400136 1.0554848894499966\n",
      "0.0001234812740478533 0.00012348127404785325\n",
      "0.0 0.0\n"
     ]
    },
    {
     "name": "stderr",
     "output_type": "stream",
     "text": [
      "/opt/apps/pkgs/jupyterhub/lib64/python3.6/site-packages/ipykernel_launcher.py:8: RuntimeWarning: invalid value encountered in double_scalars\n",
      "  \n"
     ]
    }
   ],
   "source": [
    "def get_K(AmpK):\n",
    "    deltaOD, delta1OD, MassTot, MassOD, gdetOD, RicciSOD, KOD = AK.f_Amp(tTA, [L]*3, [Amp_wanted]*3, [AmpK]*3)\n",
    "    return KOD\n",
    "\n",
    "K_wanted = 0.0\n",
    "AmpK_wanted = dichotomomy(K_wanted, get_K, 0.001, 0.02, 1e-7)\n",
    "\n",
    "deltaOD, delta1OD, MassTot, MassOD, gdetOD, RicciSOD, KOD = AK.f_Amp(tTA, [L]*3, [Amp_wanted]*3, [AmpK_wanted]*3)\n",
    "\n",
    "fac = 0.0006 / evo.a(1.0)\n",
    "dtfacTA = fac * evo.a(tTA)\n",
    "print(tTA, dtfacTA, Amp_wanted, AmpK_wanted)\n",
    "print(deltaTA, deltaOD)\n",
    "print(R3_wanted, RicciSOD)\n",
    "print(K_wanted, KOD)"
   ]
  },
  {
   "cell_type": "code",
   "execution_count": null,
   "id": "eded273a-5b0d-464e-8e36-ea7ff839eade",
   "metadata": {},
   "outputs": [],
   "source": []
  }
 ],
 "metadata": {
  "kernelspec": {
   "display_name": "Python 3",
   "language": "python",
   "name": "python3"
  },
  "language_info": {
   "codemirror_mode": {
    "name": "ipython",
    "version": 3
   },
   "file_extension": ".py",
   "mimetype": "text/x-python",
   "name": "python",
   "nbconvert_exporter": "python",
   "pygments_lexer": "ipython3",
   "version": "3.6.8"
  }
 },
 "nbformat": 4,
 "nbformat_minor": 5
}
