{
 "cells": [
  {
   "cell_type": "code",
   "execution_count": 1,
   "id": "6c5015e4",
   "metadata": {},
   "outputs": [],
   "source": [
    "import numpy as np\n",
    "import data_analysis_codes.ebweyl.ebweyl as ebw\n",
    "import sympy"
   ]
  },
  {
   "cell_type": "code",
   "execution_count": 2,
   "id": "d75516f6",
   "metadata": {},
   "outputs": [],
   "source": [
    "L = 2\n",
    "N = 32 # Number of data points per side\n",
    "dx = L / N  # Elementary grid size\n",
    "\n",
    "# Cartesian coordinates\n",
    "xyz = np.arange(- L / 2, L / 2, dx)\n",
    "x, y, z = np.meshgrid(xyz, xyz, xyz, indexing='ij')"
   ]
  },
  {
   "cell_type": "code",
   "execution_count": 3,
   "id": "c4659f43",
   "metadata": {},
   "outputs": [],
   "source": [
    "t = 0.5  # An arbitrary time\n",
    "B = (x+np.log(t))  # Function from referenced book\n",
    "Box_0 = np.zeros([N, N, N])\n",
    "Box_1 = np.ones([N, N, N])\n",
    "\n",
    "gdown4 = np.array([[-Box_1, Box_0, Box_0, Box_0],\n",
    "                   [Box_0, (t*t)*Box_1, Box_0, Box_0],\n",
    "                   [Box_0, Box_0, t*np.exp(x), t*np.exp(x)*B],\n",
    "                   [Box_0, Box_0, t*np.exp(x)*B, \n",
    "                    t*np.exp(x)*(B*B+1)]])\n",
    "dtB = 1/t  # Time derivative of B function\n",
    "# Time derivative of metric\n",
    "dtgdown4 = np.array([[Box_0, Box_0, Box_0, Box_0],\n",
    "                     [Box_0, 2*t*Box_1, Box_0, Box_0],\n",
    "                     [Box_0, Box_0, np.exp(x), \n",
    "                      np.exp(x)*B + t*np.exp(x)*dtB],\n",
    "                     [Box_0, Box_0, np.exp(x)*B + t*np.exp(x)*dtB, \n",
    "                      np.exp(x)*(B*B+1) + t*np.exp(x)*(2*dtB*B)]])\n",
    "\n",
    "Kdown4 = (-1/2)*dtgdown4\n",
    "kappa = 8*np.pi  # Einstein's constant with G = c = 1\n",
    "Tdown4 = np.zeros([4, 4, N, N, N])"
   ]
  },
  {
   "cell_type": "code",
   "execution_count": 4,
   "id": "ccd544f3",
   "metadata": {},
   "outputs": [],
   "source": [
    "FD = ebw.FiniteDifference(dx, N, periodic_boundary=False, \n",
    "                          fd_order6=True)\n",
    "EBW = ebw.Weyl(FD, gdown4, Kdown4)\n",
    "Gudd3 = EBW.christoffel_symbol_udd3()\n",
    "RicciTdown3 = EBW.ricci_tensor_down3(Gudd3)\n",
    "Endown3 = EBW.eweyl_n_tensor_down3(RicciTdown3, kappa, Tdown4)\n",
    "Bndown3 = EBW.bweyl_n_tensor_down3(Gudd3)\n",
    "Cdown4 = EBW.weyl_tensor_down4(Endown3, Bndown3)\n",
    "Cdown4 = Cdown4[:, :, :, :, int(N/2), int(N/2), int(N/2)]"
   ]
  },
  {
   "cell_type": "code",
   "execution_count": 5,
   "id": "9eab5026",
   "metadata": {},
   "outputs": [
    {
     "name": "stdout",
     "output_type": "stream",
     "text": [
      "[ 0.70710678 -1.41421356 -0.         -0.        ]\n",
      "Psi_0 =  3.2823288864669564e-08  + i( -4.2316178339163457e-10 )\n",
      "Psi_1 =  3.8428936114851905e-15  + i( 6.448711543421172e-15 )\n",
      "Psi_2 =  -3.977536633392731e-09  + i( -8.952345698087782e-09 )\n",
      "Psi_3 =  -3.837086578295412e-15  + i( 7.068927419883331e-15 )\n",
      "Psi_4 =  4.000000026851171  + i( -2.259568437912307e-08 )\n"
     ]
    }
   ],
   "source": [
    "lup4, kup4, mup4, mbup4 = EBW.null_vector_base(EBW.nup4)\n",
    "lup4 = lup4[:, int(N/2), int(N/2), int(N/2)]\n",
    "kup4 = kup4[:, int(N/2), int(N/2), int(N/2)]\n",
    "mup4 = mup4[:, int(N/2), int(N/2), int(N/2)]\n",
    "mbup4 = mbup4[:, int(N/2), int(N/2), int(N/2)]\n",
    "print(lup4)\n",
    "\n",
    "psi0 = np.einsum('abcd, a, b, c, d -> ', Cdown4, lup4, mup4, lup4, mup4)\n",
    "psi1 = np.einsum('abcd, a, b, c, d -> ', Cdown4, lup4, kup4, lup4, mup4)\n",
    "psi2 = np.einsum('abcd, a, b, c, d -> ', Cdown4, lup4, mup4, mbup4, kup4)\n",
    "psi3 = np.einsum('abcd, a, b, c, d -> ', Cdown4, lup4, kup4, mbup4, kup4)\n",
    "psi4 = np.einsum('abcd, a, b, c, d -> ', Cdown4, mbup4, kup4, mbup4, kup4)\n",
    "print('Psi_0 = ', np.real(psi0), ' + i(', np.imag(psi0), ')')\n",
    "print('Psi_1 = ', np.real(psi1), ' + i(', np.imag(psi1), ')')\n",
    "print('Psi_2 = ', np.real(psi2), ' + i(', np.imag(psi2), ')')\n",
    "print('Psi_3 = ', np.real(psi3), ' + i(', np.imag(psi3), ')')\n",
    "print('Psi_4 = ', np.real(psi4), ' + i(', np.imag(psi4), ')')"
   ]
  },
  {
   "cell_type": "markdown",
   "id": "9dcb40c7",
   "metadata": {},
   "source": [
    "# Class II transformation"
   ]
  },
  {
   "cell_type": "code",
   "execution_count": 6,
   "id": "27ebf64f",
   "metadata": {},
   "outputs": [
    {
     "data": {
      "text/plain": [
       "[-0.0067521620639798 - 0.00670856157570628*I,\n",
       " -0.00670828205432095 + 0.00675144248695898*I,\n",
       " 0.00670828209005178 - 0.00675144250794307*I,\n",
       " 0.0067521620282528 + 0.00670856159668331*I]"
      ]
     },
     "execution_count": 6,
     "metadata": {},
     "output_type": "execute_result"
    }
   ],
   "source": [
    "from sympy.abc import k\n",
    "roots = sympy.solve(psi0 + 4*k*psi1 + 6*(k**2)*psi2 + 4*(k**3)*psi3 + (k**4)*psi4)\n",
    "b = complex(roots[0])\n",
    "roots"
   ]
  },
  {
   "cell_type": "code",
   "execution_count": 7,
   "id": "e65cb5f4",
   "metadata": {},
   "outputs": [
    {
     "data": {
      "text/plain": [
       "(-2.2036853848065186e-16+2.855300554007813e-18j)"
      ]
     },
     "execution_count": 7,
     "metadata": {},
     "output_type": "execute_result"
    }
   ],
   "source": [
    "psi0 + 4*b*psi1 + 6*(b**2)*psi2 + 4*(b**3)*psi3 + (b**4)*psi4"
   ]
  },
  {
   "cell_type": "code",
   "execution_count": 8,
   "id": "77138a16",
   "metadata": {},
   "outputs": [],
   "source": [
    "lup4 = lup4 + np.conj(b)*mup4 + b*mbup4 + b*np.conj(b)*kup4\n",
    "mup4 = mup4 + b*kup4\n",
    "mbup4 = mbup4 + np.conj(b)*kup4"
   ]
  },
  {
   "cell_type": "code",
   "execution_count": 9,
   "id": "b531d6af",
   "metadata": {},
   "outputs": [
    {
     "name": "stdout",
     "output_type": "stream",
     "text": [
      "[ 0.70717084+0.j -1.41408544+0.j -0.02280437+0.j -0.01341712+0.j]\n"
     ]
    }
   ],
   "source": [
    "print(lup4)"
   ]
  },
  {
   "cell_type": "code",
   "execution_count": 10,
   "id": "0d3bad55",
   "metadata": {},
   "outputs": [
    {
     "name": "stdout",
     "output_type": "stream",
     "text": [
      "Psi_0 =  -4.6710680643157704e-17  + i( 2.6963062903479426e-16 )\n",
      "Psi_1 =  2.4150867284795842e-06  + i( -2.4623249053369562e-06 )\n",
      "Psi_2 =  2.343601019064936e-06  + i( 0.0003623694098766386 )\n",
      "Psi_3 =  -0.02700864858881083  + i( -0.02683424633038126 )\n",
      "Psi_4 =  4.000000026851171  + i( -2.259568437912307e-08 )\n"
     ]
    }
   ],
   "source": [
    "psi0 = np.einsum('abcd, a, b, c, d -> ', Cdown4, lup4, mup4, lup4, mup4)\n",
    "psi1 = np.einsum('abcd, a, b, c, d -> ', Cdown4, lup4, kup4, lup4, mup4)\n",
    "psi2 = np.einsum('abcd, a, b, c, d -> ', Cdown4, lup4, mup4, mbup4, kup4)\n",
    "psi3 = np.einsum('abcd, a, b, c, d -> ', Cdown4, lup4, kup4, mbup4, kup4)\n",
    "psi4 = np.einsum('abcd, a, b, c, d -> ', Cdown4, mbup4, kup4, mbup4, kup4)\n",
    "print('Psi_0 = ', np.real(psi0), ' + i(', np.imag(psi0), ')')\n",
    "print('Psi_1 = ', np.real(psi1), ' + i(', np.imag(psi1), ')')\n",
    "print('Psi_2 = ', np.real(psi2), ' + i(', np.imag(psi2), ')')\n",
    "print('Psi_3 = ', np.real(psi3), ' + i(', np.imag(psi3), ')')\n",
    "print('Psi_4 = ', np.real(psi4), ' + i(', np.imag(psi4), ')')"
   ]
  },
  {
   "cell_type": "markdown",
   "id": "70f5a310",
   "metadata": {},
   "source": [
    "# Class I transformation"
   ]
  },
  {
   "cell_type": "code",
   "execution_count": 11,
   "id": "b298323e",
   "metadata": {},
   "outputs": [
    {
     "data": {
      "text/plain": [
       "[15.8900288064012 - 58.5420173388813*I, 58.642123908698 - 15.5120660564864*I]"
      ]
     },
     "execution_count": 11,
     "metadata": {},
     "output_type": "execute_result"
    }
   ],
   "source": [
    "from sympy.abc import k\n",
    "roots = sympy.solve(psi3 + 3*k*psi2 + 3*(k**2)*psi1)\n",
    "ab = complex(roots[0])\n",
    "a = np.conj(ab)\n",
    "roots"
   ]
  },
  {
   "cell_type": "code",
   "execution_count": 12,
   "id": "c93364ef",
   "metadata": {},
   "outputs": [
    {
     "data": {
      "text/plain": [
       "(-9.71445146547012e-17-4.163336342344337e-17j)"
      ]
     },
     "execution_count": 12,
     "metadata": {},
     "output_type": "execute_result"
    }
   ],
   "source": [
    "psi3 + 3*ab*psi2 + 3*(ab**2)*psi1"
   ]
  },
  {
   "cell_type": "code",
   "execution_count": 13,
   "id": "d93b4252",
   "metadata": {},
   "outputs": [],
   "source": [
    "kup4 = kup4 + ab*mup4 + a*mbup4 + a*ab*lup4\n",
    "mup4 = mup4 + a*lup4\n",
    "mbup4 = mbup4 + ab*lup4"
   ]
  },
  {
   "cell_type": "code",
   "execution_count": 14,
   "id": "854fbdcb",
   "metadata": {},
   "outputs": [
    {
     "name": "stdout",
     "output_type": "stream",
     "text": [
      "Psi_0 =  -2.3701110459056983e-16  + i( -6.693722465863303e-17 )\n",
      "Psi_1 =  2.4150871991566954e-06  + i( -2.462323202777589e-06 )\n",
      "Psi_2 =  -0.00020920373843174168  + i( 1.3484835415753916e-06 )\n",
      "Psi_3 =  1.6593021583750152e-09  + i( -6.183256008326216e-09 )\n",
      "Psi_4 =  -0.00012408167780578964  + i( 0.7697864041256334 )\n"
     ]
    }
   ],
   "source": [
    "psi0 = np.einsum('abcd, a, b, c, d -> ', Cdown4, lup4, mup4, lup4, mup4)\n",
    "psi1 = np.einsum('abcd, a, b, c, d -> ', Cdown4, lup4, kup4, lup4, mup4)\n",
    "psi2 = np.einsum('abcd, a, b, c, d -> ', Cdown4, lup4, mup4, mbup4, kup4)\n",
    "psi3 = np.einsum('abcd, a, b, c, d -> ', Cdown4, lup4, kup4, mbup4, kup4)\n",
    "psi4 = np.einsum('abcd, a, b, c, d -> ', Cdown4, mbup4, kup4, mbup4, kup4)\n",
    "print('Psi_0 = ', np.real(psi0), ' + i(', np.imag(psi0), ')')\n",
    "print('Psi_1 = ', np.real(psi1), ' + i(', np.imag(psi1), ')')\n",
    "print('Psi_2 = ', np.real(psi2), ' + i(', np.imag(psi2), ')')\n",
    "print('Psi_3 = ', np.real(psi3), ' + i(', np.imag(psi3), ')')\n",
    "print('Psi_4 = ', np.real(psi4), ' + i(', np.imag(psi4), ')')"
   ]
  },
  {
   "cell_type": "markdown",
   "id": "f7d147cd",
   "metadata": {},
   "source": [
    "# Invariants"
   ]
  },
  {
   "cell_type": "code",
   "execution_count": 16,
   "id": "5887941b",
   "metadata": {},
   "outputs": [
    {
     "data": {
      "text/plain": [
       "(-9.154379478069185e-12+1.7822828229701432e-13j)"
      ]
     },
     "execution_count": 16,
     "metadata": {},
     "output_type": "execute_result"
    }
   ],
   "source": [
    "psi1*psi1*psi4 + 2*(psi2**3) # if = 0 then the spacetime is special"
   ]
  },
  {
   "cell_type": "code",
   "execution_count": null,
   "id": "0272e7bf",
   "metadata": {},
   "outputs": [],
   "source": []
  }
 ],
 "metadata": {
  "kernelspec": {
   "display_name": "Python 3",
   "language": "python",
   "name": "python3"
  },
  "language_info": {
   "codemirror_mode": {
    "name": "ipython",
    "version": 3
   },
   "file_extension": ".py",
   "mimetype": "text/x-python",
   "name": "python",
   "nbconvert_exporter": "python",
   "pygments_lexer": "ipython3",
   "version": "3.8.8"
  }
 },
 "nbformat": 4,
 "nbformat_minor": 5
}
