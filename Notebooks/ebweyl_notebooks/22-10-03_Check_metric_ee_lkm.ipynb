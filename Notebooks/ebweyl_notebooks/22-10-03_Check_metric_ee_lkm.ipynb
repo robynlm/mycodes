{
 "cells": [
  {
   "cell_type": "code",
   "execution_count": 1,
   "id": "8f6c00a1",
   "metadata": {},
   "outputs": [],
   "source": [
    "import numpy as np\n",
    "import ebweyl_pub.ebweyl as ebw\n",
    "import matplotlib.pyplot as plt"
   ]
  },
  {
   "cell_type": "markdown",
   "id": "cbaa917c",
   "metadata": {},
   "source": [
    "# Check Annalytic metric"
   ]
  },
  {
   "cell_type": "code",
   "execution_count": 2,
   "id": "115af787",
   "metadata": {},
   "outputs": [],
   "source": [
    "L = 20\n",
    "N = 128 \n",
    "dx = L/N\n",
    "xyz = np.arange(-L/2, L/2, dx)#.astype('float128')\n",
    "x, y, z = np.meshgrid(xyz, xyz, xyz, indexing='ij')\n",
    "t = 1.5\n",
    "B = (x+np.log(t)) \n",
    "Box_0 = np.zeros([N, N, N])\n",
    "Box_1 = np.ones([N, N, N])\n",
    "gdown4 = np.array([[-Box_1, Box_0, Box_0, Box_0],\n",
    "                   [Box_0, (t*t)*Box_1, Box_0, Box_0],\n",
    "                   [Box_0, Box_0, t*np.exp(x), t*np.exp(x)*B],\n",
    "                   [Box_0, Box_0, t*np.exp(x)*B, \n",
    "                    t*np.exp(x)*(B*B+1)]])\n",
    "dtB = 1/t\n",
    "dtgdown4 = np.array([[Box_0, Box_0, Box_0, Box_0],\n",
    "                     [Box_0, 2*t*Box_1, Box_0, Box_0],\n",
    "                     [Box_0, Box_0, np.exp(x), \n",
    "                      np.exp(x)*B + t*np.exp(x)*dtB],\n",
    "                     [Box_0, Box_0, np.exp(x)*B + t*np.exp(x)*dtB, \n",
    "                      np.exp(x)*(B*B+1) + t*np.exp(x)*(2*dtB*B)]])\n",
    "Kdown4 = (-1/2)*dtgdown4"
   ]
  },
  {
   "cell_type": "code",
   "execution_count": 3,
   "id": "0ed8f831",
   "metadata": {},
   "outputs": [],
   "source": [
    "FD = ebw.FiniteDifference(dx, N, periodic_boundary=False, fd_order6=True)\n",
    "EBW = ebw.Weyl(FD, gdown4, Kdown4)"
   ]
  },
  {
   "cell_type": "code",
   "execution_count": 4,
   "id": "f3473663",
   "metadata": {},
   "outputs": [],
   "source": [
    "e0, e1, e2, e3 = EBW.tetrad_base(EBW.nup4)\n",
    "lup, kup, mup, mbup = EBW.null_vector_base(EBW.nup4)"
   ]
  },
  {
   "cell_type": "code",
   "execution_count": 5,
   "id": "40242285",
   "metadata": {},
   "outputs": [],
   "source": [
    "klmdiff = EBW.gup4 - (- ( np.einsum('a...,b...->ab...', lup, kup) + np.einsum('b...,a...->ab...', lup, kup) ) \n",
    "                      + ( np.einsum('a...,b...->ab...', mup, mbup) + np.einsum('b...,a...->ab...', mup, mbup) ) )"
   ]
  },
  {
   "cell_type": "code",
   "execution_count": 6,
   "id": "cffa4494",
   "metadata": {},
   "outputs": [],
   "source": [
    "ediff = EBW.gup4 - (- np.einsum('a...,b...->ab...', e0, e0) + np.einsum('a...,b...->ab...', e1, e1)\n",
    "                      + np.einsum('a...,b...->ab...', e2, e2) + np.einsum('a...,b...->ab...', e3, e3) )"
   ]
  },
  {
   "cell_type": "code",
   "execution_count": 7,
   "id": "6fe673bc",
   "metadata": {
    "scrolled": false
   },
   "outputs": [
    {
     "name": "stdout",
     "output_type": "stream",
     "text": [
      "0 0 (0.0, 0.0, 0.0)\n",
      "0 1 (-0.0, 0.0, -0.0)\n",
      "0 2 (-0.0, 0.0, -0.0)\n",
      "0 3 (-0.0, 0.0, -0.0)\n",
      "1 0 (-0.0, 0.0, -0.0)\n",
      "1 1 (-8.104628079763643e-15, 1.8735013540549517e-16, 7.93809462606987e-15)\n",
      "1 2 (-0.0, 0.0, -0.0)\n",
      "1 3 (-0.0, 0.0, -0.0)\n",
      "2 0 (-0.0, 0.0, -0.0)\n",
      "2 1 (-0.0, 0.0, -0.0)\n",
      "2 2 (-4.190951585769653e-08, -5.451341159586705e-10, 1.0128132998943329e-08)\n",
      "2 3 (-4.336470738053322e-09, -5.7173955033225425e-11, 1.1059455573558807e-09)\n",
      "3 0 (-0.0, 0.0, -0.0)\n",
      "3 1 (-0.0, 0.0, -0.0)\n",
      "3 2 (-4.336470738053322e-09, -5.7173955033225425e-11, 1.1059455573558807e-09)\n",
      "3 3 (-4.4929038267582655e-10, -5.99777800383432e-12, 1.2187229003757238e-10)\n",
      "\n",
      "0 0 ((-2.220446049250313e-16+0j), (-2.220446049250313e-16+0j), (-2.220446049250313e-16+0j))\n",
      "0 1 ((-0+0j), 0j, (-0+0j))\n",
      "0 2 ((-0+0j), 0j, (-0+0j))\n",
      "0 3 ((-0+0j), 0j, (-0+0j))\n",
      "1 0 ((-0+0j), 0j, (-0+0j))\n",
      "1 1 ((-7.993605777301127e-15+0j), (2.983724378680108e-16+0j), (8.049116928532385e-15+0j))\n",
      "1 2 ((-0+0j), 0j, (-0+0j))\n",
      "1 3 ((-0+0j), 0j, (-0+0j))\n",
      "2 0 ((-0+0j), 0j, (-0+0j))\n",
      "2 1 ((-0+0j), 0j, (-0+0j))\n",
      "2 2 ((-4.1443854570388794e-08+0j), (-5.312642283729449e-10+0j), (1.0244548320770264e-08+0j))\n",
      "2 3 ((-4.307366907596588e-09+0j), (-5.5539337944526026e-11+0j), (1.1350493878126144e-09+0j))\n",
      "3 0 ((-0+0j), 0j, (-0+0j))\n",
      "3 1 ((-0+0j), 0j, (-0+0j))\n",
      "3 2 ((-4.307366907596588e-09+0j), (-5.5539337944526026e-11+0j), (1.1350493878126144e-09+0j))\n",
      "3 3 ((-4.4565240386873484e-10+0j), (-5.842160835055536e-12+0j), (1.255102688446641e-10+0j))\n"
     ]
    }
   ],
   "source": [
    "def print_estimates(v):\n",
    "    return np.min(v), np.mean(v), np.max(v)\n",
    "\n",
    "for i in range(4):\n",
    "    for j in range(4):\n",
    "        print(i, j, print_estimates(ediff[i,j]))\n",
    "        \n",
    "print()\n",
    "for i in range(4):\n",
    "    for j in range(4):\n",
    "        print(i, j, print_estimates(klmdiff[i,j]))"
   ]
  },
  {
   "cell_type": "markdown",
   "id": "bd3dc26e",
   "metadata": {},
   "source": [
    "# Check numerical metric"
   ]
  },
  {
   "cell_type": "code",
   "execution_count": 8,
   "id": "65616890",
   "metadata": {},
   "outputs": [],
   "source": [
    "import h5py\n",
    "from data_analysis_codes import param\n",
    "from data_analysis_codes.tools import LinData\n",
    "from data_analysis_codes.tools import GetVars_Plot2d as GVar"
   ]
  },
  {
   "cell_type": "code",
   "execution_count": 9,
   "id": "77907b85",
   "metadata": {},
   "outputs": [
    {
     "name": "stdout",
     "output_type": "stream",
     "text": [
      " read time file\n"
     ]
    }
   ],
   "source": [
    "N = 64\n",
    "it = 2500\n",
    "sim = param.pflrw_d3e2_L1821_t1_N64_LCDM()\n",
    "Lin = LinData.LinData_Class(sim, '/home/robynm/simulations/'+sim.sim_name+'/')\n",
    "get_var = GVar.Get_var(Lin, '/home/robynm/simulations/'+sim.sim_name+'/output-0000/pflrw_L1821/')\n",
    "f = h5py.File('{}_it_{:06d}.hdf5'.format('/home/robynm/simulations/'+sim.sim_name+'/output-0000/pflrw_L1821/all_iterations/'+sim.sim_name, it), 'r')\n",
    "gdown3 = get_var.get_the_metric(f, it)['gdown']\n",
    "Kdown3 = get_var.get_the_curv(f, it)['Kdown']"
   ]
  },
  {
   "cell_type": "code",
   "execution_count": 10,
   "id": "b190170e",
   "metadata": {},
   "outputs": [],
   "source": [
    "Box_zero = np.zeros([N, N, N])\n",
    "gdown4 = np.array([[Box_zero - 1.0, Box_zero,   Box_zero,   Box_zero],\n",
    "                   [Box_zero,  gdown3[0,0], gdown3[0,1], gdown3[0,2]],\n",
    "                   [Box_zero,  gdown3[1,0], gdown3[1,1], gdown3[1,2]],\n",
    "                   [Box_zero,  gdown3[2,0], gdown3[2,1], gdown3[2,2]]])\n",
    "Kdown4 = np.array([[Box_zero, Box_zero,   Box_zero,   Box_zero],\n",
    "                   [Box_zero,  Kdown3[0,0], Kdown3[0,1], Kdown3[0,2]],\n",
    "                   [Box_zero,  Kdown3[1,0], Kdown3[1,1], Kdown3[1,2]],\n",
    "                   [Box_zero,  Kdown3[2,0], Kdown3[2,1], Kdown3[2,2]]])"
   ]
  },
  {
   "cell_type": "code",
   "execution_count": 11,
   "id": "51833f8f",
   "metadata": {},
   "outputs": [],
   "source": [
    "FD = ebw.FiniteDifference(sim.dx, Lin.N, periodic_boundary=True, fd_order6=True)\n",
    "EBW = ebw.Weyl(FD, gdown4, Kdown4)"
   ]
  },
  {
   "cell_type": "code",
   "execution_count": 12,
   "id": "7ee8bf74",
   "metadata": {},
   "outputs": [],
   "source": [
    "e0, e1, e2, e3 = EBW.tetrad_base(EBW.nup4)\n",
    "ediff = EBW.gup4 - (- np.einsum('a...,b...->ab...', e0, e0) + np.einsum('a...,b...->ab...', e1, e1)\n",
    "                      + np.einsum('a...,b...->ab...', e2, e2) + np.einsum('a...,b...->ab...', e3, e3) )\n",
    "lup, kup, mup, mbup = EBW.null_vector_base(EBW.nup4)\n",
    "klmdiff = EBW.gup4 - (- ( np.einsum('a...,b...->ab...', lup, kup) + np.einsum('b...,a...->ab...', lup, kup) ) \n",
    "                      + ( np.einsum('a...,b...->ab...', mup, mbup) + np.einsum('b...,a...->ab...', mup, mbup) ) )"
   ]
  },
  {
   "cell_type": "code",
   "execution_count": 13,
   "id": "6d7d4b3f",
   "metadata": {
    "scrolled": false
   },
   "outputs": [
    {
     "name": "stdout",
     "output_type": "stream",
     "text": [
      "0 0 (0.0, 0.0, 0.0)\n",
      "0 1 (-0.0, 0.0, -0.0)\n",
      "0 2 (-0.0, 0.0, -0.0)\n",
      "0 3 (-0.0, 0.0, -0.0)\n",
      "1 0 (-0.0, 0.0, -0.0)\n",
      "1 1 (-5.684341886080801e-13, -6.811716989074679e-14, 4.547473508864641e-13)\n",
      "1 2 (-1.1102230246251565e-16, -1.5675589595474782e-20, 1.1102230246251565e-16)\n",
      "1 3 (-1.1102230246251565e-16, 2.8145854320005984e-21, 1.3877787807814457e-16)\n",
      "2 0 (-0.0, 0.0, -0.0)\n",
      "2 1 (-1.1102230246251565e-16, -1.5675589595474782e-20, 1.1102230246251565e-16)\n",
      "2 2 (-5.684341886080801e-13, -3.0458491631635276e-14, 4.547473508864641e-13)\n",
      "2 3 (-1.1102230246251565e-16, -2.4488371841791166e-20, 9.71445146547012e-17)\n",
      "3 0 (-0.0, 0.0, -0.0)\n",
      "3 1 (-1.1102230246251565e-16, 2.8145854320005984e-21, 1.3877787807814457e-16)\n",
      "3 2 (-1.1102230246251565e-16, -2.4488371841791166e-20, 9.71445146547012e-17)\n",
      "3 3 (-5.684341886080801e-13, -2.396368693757811e-14, 4.547473508864641e-13)\n",
      "\n",
      "0 0 ((-2.220446049250313e-16+0j), (-2.220446049250313e-16+0j), (-2.220446049250313e-16+0j))\n",
      "0 1 ((-0+0j), 0j, (-0+0j))\n",
      "0 2 ((-0+0j), 0j, (-0+0j))\n",
      "0 3 ((-0+0j), 0j, (-0+0j))\n",
      "1 0 ((-0+0j), 0j, (-0+0j))\n",
      "1 1 ((-4.547473508864641e-13+0j), (4.501564052072915e-14+0j), (6.821210263296962e-13+0j))\n",
      "1 2 ((-1.1102230246251565e-16+0j), (-1.1146051958726094e-20+0j), (1.1102230246251565e-16+0j))\n",
      "1 3 ((-1.1102230246251565e-16+0j), (-3.890127022919998e-21+0j), (1.1102230246251565e-16+0j))\n",
      "2 0 ((-0+0j), 0j, (-0+0j))\n",
      "2 1 ((-1.1102230246251565e-16+0j), (-1.1146051958726094e-20+0j), (1.1102230246251565e-16+0j))\n",
      "2 2 ((-4.547473508864641e-13+0j), (7.831300712080047e-14+0j), (7.958078640513122e-13+0j))\n",
      "2 3 ((-1.249000902703301e-16+0j), (-4.272563639694408e-20+0j), (1.3877787807814457e-16+0j))\n",
      "3 0 ((-0+0j), 0j, (-0+0j))\n",
      "3 1 ((-1.1102230246251565e-16+0j), (-3.890127022919998e-21+0j), (1.1102230246251565e-16+0j))\n",
      "3 2 ((-1.249000902703301e-16+0j), (-4.272563639694408e-20+0j), (1.3877787807814457e-16+0j))\n",
      "3 3 ((-4.547473508864641e-13+0j), (8.487871863693819e-14+0j), (6.821210263296962e-13+0j))\n"
     ]
    }
   ],
   "source": [
    "def print_estimates(v):\n",
    "    return np.min(v), np.mean(v), np.max(v)\n",
    "\n",
    "for i in range(4):\n",
    "    for j in range(4):\n",
    "        print(i, j, print_estimates(ediff[i,j]))\n",
    "        \n",
    "print()\n",
    "for i in range(4):\n",
    "    for j in range(4):\n",
    "        print(i, j, print_estimates(klmdiff[i,j]))"
   ]
  },
  {
   "cell_type": "markdown",
   "id": "10520b61",
   "metadata": {},
   "source": [
    "# Check analytic case with different e0"
   ]
  },
  {
   "cell_type": "code",
   "execution_count": 15,
   "id": "90b78fa6",
   "metadata": {},
   "outputs": [],
   "source": [
    "n1 = 1.0\n",
    "n2 = 2.0\n",
    "n3 = 0.0\n",
    "n0 = np.sqrt(1 + n1*n1*t*t + n2*n2*np.exp(x)*t)\n",
    "uup4 = np.array([n0*Box_1, n1*Box_1, n2*Box_1, n3*Box_1])"
   ]
  },
  {
   "cell_type": "code",
   "execution_count": 16,
   "id": "d57f779e",
   "metadata": {},
   "outputs": [
    {
     "data": {
      "text/plain": [
       "0.006337042491878333"
      ]
     },
     "execution_count": 16,
     "metadata": {},
     "output_type": "execute_result"
    }
   ],
   "source": [
    "np.min(et*(1+B*B))"
   ]
  },
  {
   "cell_type": "code",
   "execution_count": 17,
   "id": "cfda27ca",
   "metadata": {},
   "outputs": [],
   "source": [
    "e0, e1, e2, e3 = EBW.tetrad_base(uup4)\n",
    "lup, kup, mup, mbup = EBW.null_vector_base(uup4)"
   ]
  },
  {
   "cell_type": "code",
   "execution_count": 18,
   "id": "c1fca6bb",
   "metadata": {},
   "outputs": [
    {
     "name": "stdout",
     "output_type": "stream",
     "text": [
      "e0 norm = (-1.000000000014552, -1.0000000000000553, -0.9999999999854481)\n",
      "e1 norm = (0.999999999992724, 1.0000000000001732, 1.000000000014552)\n",
      "e2 norm = (0.999999999992724, 0.9999999999999667, 1.000000000007276)\n",
      "e3 norm = (0.9999999999999574, 1.0000000000000002, 1.0000000000000284)\n"
     ]
    }
   ],
   "source": [
    "def print_norm(e):\n",
    "    en = np.einsum('a...,b...,ab...->...', e, e, gdown4)\n",
    "    return np.min(en), np.mean(en), np.max(en)\n",
    "print('e0 norm =', print_norm(e0))\n",
    "print('e1 norm =', print_norm(e1))\n",
    "print('e2 norm =', print_norm(e2))\n",
    "print('e3 norm =', print_norm(e3))"
   ]
  },
  {
   "cell_type": "code",
   "execution_count": 19,
   "id": "2016674b",
   "metadata": {},
   "outputs": [
    {
     "name": "stdout",
     "output_type": "stream",
     "text": [
      "e0 and e1 = (-7.275957614183426e-12, 3.9688760006213524e-14, 1.4551915228366852e-11)\n",
      "e0 and e2 = (-3.637978807091713e-11, -1.304780122921706e-13, 1.8189894035458565e-11)\n",
      "e0 and e3 = (-1.5266778063960373e-08, 7.087190426538492e-11, 3.083641786361113e-08)\n",
      "\n",
      "e1 and e0 = (-7.275957614183426e-12, 3.9688760006213524e-14, 1.4551915228366852e-11)\n",
      "e1 and e2 = (-3.637978807091713e-11, -8.993271351145221e-14, 2.9103830456733704e-11)\n",
      "e1 and e3 = (-1.2702912499662489e-08, 5.897639158720241e-11, 2.565775503171608e-08)\n",
      "\n",
      "e2 and e0 = (-3.637978807091713e-11, -1.304780122921706e-13, 1.8189894035458565e-11)\n",
      "e2 and e1 = (-3.637978807091713e-11, -8.993271351145221e-14, 2.9103830456733704e-11)\n",
      "e2 and e3 = (-8.987035471363924e-08, -2.4812365400153635e-10, 3.4918230085168034e-08)\n",
      "\n",
      "e3 and e0 = (-1.5266778063960373e-08, 7.087190426538492e-11, 3.083641786361113e-08)\n",
      "e3 and e1 = (-1.2702912499662489e-08, 5.897639158720241e-11, 2.565775503171608e-08)\n",
      "e3 and e2 = (-8.987035471363924e-08, -2.4812365400153635e-10, 3.4918230085168034e-08)\n",
      "\n"
     ]
    }
   ],
   "source": [
    "def print_ortho(ea, eb):\n",
    "    eo = np.einsum('a...,b...,ab...->...', ea, eb, gdown4)\n",
    "    return np.min(eo), np.mean(eo), np.max(eo)\n",
    "\n",
    "e = [e0, e1, e2, e3]\n",
    "\n",
    "for i in range(4):\n",
    "    for j in range(4):\n",
    "        if i!=j:\n",
    "            print('e'+str(i)+' and e'+str(j)+' =', print_ortho(e[i], e[j]))\n",
    "    print()"
   ]
  },
  {
   "cell_type": "code",
   "execution_count": 20,
   "id": "80ed7025",
   "metadata": {},
   "outputs": [],
   "source": [
    "ediff = EBW.gup4 - (- np.einsum('a...,b...->ab...', e0, e0) + np.einsum('a...,b...->ab...', e1, e1)\n",
    "                      + np.einsum('a...,b...->ab...', e2, e2) + np.einsum('a...,b...->ab...', e3, e3) )\n",
    "klmdiff = EBW.gup4 - (- ( np.einsum('a...,b...->ab...', lup, kup) + np.einsum('b...,a...->ab...', lup, kup) ) \n",
    "                      + ( np.einsum('a...,b...->ab...', mup, mbup) + np.einsum('b...,a...->ab...', mup, mbup) ) )"
   ]
  },
  {
   "cell_type": "code",
   "execution_count": 21,
   "id": "4435c62c",
   "metadata": {},
   "outputs": [
    {
     "name": "stdout",
     "output_type": "stream",
     "text": [
      "0 0 (-1.4607936553723277e-06, -7.031948783681186e-09, 6.034053654513372e-07)\n",
      "0 1 (-1.1155173934627409e-13, 8.181697303945284e-16, 2.717321481999069e-13)\n",
      "0 2 (-1.0131368154190644e-06, -3.6433982671931628e-09, 4.0538812107966013e-07)\n",
      "0 3 (-4.101995498360409e-08, 3.1888448647579884e-10, 1.0093651881578811e-07)\n",
      "1 0 (-1.1155173934627409e-13, 8.181697303945284e-16, 2.717321481999069e-13)\n",
      "1 1 (-1.2935152948756468e-11, -7.729927808952652e-15, 2.5871083053630173e-11)\n",
      "1 2 (-2.553590577876666e-14, 5.819230871887733e-16, 3.572469646324104e-14)\n",
      "1 3 (-4.257999378952414e-15, -2.6359430894157334e-17, 3.669871496403379e-15)\n",
      "2 0 (-1.0131368154190644e-06, -3.6433982671931628e-09, 4.0538812107966013e-07)\n",
      "2 1 (-2.553590577876666e-14, 5.819230871887733e-16, 3.572469646324104e-14)\n",
      "2 2 (-1.4021458560192768e-08, 2.2424856576495227e-10, 1.792795956134796e-08)\n",
      "2 3 (-1.2514647096395493e-09, 2.5904952449108096e-11, 1.862645149230957e-09)\n",
      "3 0 (-4.101995498360409e-08, 3.1888448647579884e-10, 1.0093651881578811e-07)\n",
      "3 1 (-4.257999378952414e-15, -2.6359430894157334e-17, 3.669871496403379e-15)\n",
      "3 2 (-1.2514647096395493e-09, 2.5904952449108096e-11, 1.862645149230957e-09)\n",
      "3 3 (-1.4097167877480388e-10, 2.6196692176212632e-12, 1.9099388737231493e-10)\n",
      "\n",
      "0 0 ((-1.4607940101996064e-06+0j), (-7.0319448510630655e-09+0j), (6.034060788806528e-07+0j))\n",
      "0 1 ((-9.734088463137659e-14+0j), (1.0219997388229573e-15+0j), (2.5752129348535313e-13+0j))\n",
      "0 2 ((-1.0131368242127792e-06+0j), (-3.6433977067956702e-09+0j), (4.0538807866141724e-07+0j))\n",
      "0 3 ((-4.101995498360408e-08+0j), (3.188844864757986e-10+0j), (1.0093651881578808e-07+0j))\n",
      "1 0 ((-9.734088463137659e-14+0j), (1.0219997388229573e-15+0j), (2.5752129348535313e-13+0j))\n",
      "1 1 ((-1.2934986415302774e-11+0j), (-7.63885482646387e-15+0j), (2.5871249587083867e-11+0j))\n",
      "1 2 ((-2.549149965433198e-14+0j), (5.467949368002434e-16+0j), (3.572469646324112e-14+0j))\n",
      "1 3 ((-4.257999378952413e-15+0j), (-2.6359430894157297e-17+0j), (3.669871496403378e-15+0j))\n",
      "2 0 ((-1.0131368242127792e-06+0j), (-3.6433977067956702e-09+0j), (4.0538807866141724e-07+0j))\n",
      "2 1 ((-2.549149965433198e-14+0j), (5.467949368002434e-16+0j), (3.572469646324112e-14+0j))\n",
      "2 2 ((-1.4021458395394037e-08+0j), (2.328987511913017e-10+0j), (1.792795956134796e-08+0j))\n",
      "2 3 ((-1.2369127944111824e-09+0j), (2.7226346156825602e-11+0j), (1.877197064459324e-09+0j))\n",
      "3 0 ((-4.101995498360408e-08+0j), (3.188844864757986e-10+0j), (1.0093651881578808e-07+0j))\n",
      "3 1 ((-4.257999378952413e-15+0j), (-2.6359430894157297e-17+0j), (3.669871496403378e-15+0j))\n",
      "3 2 ((-1.2369127944111824e-09+0j), (2.7226346156825602e-11+0j), (1.877197064459324e-09+0j))\n",
      "3 3 ((-1.3915268937125802e-10+0j), (2.7863491373406e-12+0j), (1.964508555829525e-10+0j))\n"
     ]
    }
   ],
   "source": [
    "def print_estimates(v):\n",
    "    return np.min(v), np.mean(v), np.max(v)\n",
    "\n",
    "for i in range(4):\n",
    "    for j in range(4):\n",
    "        print(i, j, print_estimates(ediff[i,j]))\n",
    "        \n",
    "print()\n",
    "for i in range(4):\n",
    "    for j in range(4):\n",
    "        print(i, j, print_estimates(klmdiff[i,j]))"
   ]
  },
  {
   "cell_type": "code",
   "execution_count": null,
   "id": "f1839479",
   "metadata": {},
   "outputs": [],
   "source": []
  },
  {
   "cell_type": "code",
   "execution_count": null,
   "id": "fd28154c",
   "metadata": {},
   "outputs": [],
   "source": []
  },
  {
   "cell_type": "code",
   "execution_count": null,
   "id": "015e4416",
   "metadata": {},
   "outputs": [],
   "source": []
  }
 ],
 "metadata": {
  "kernelspec": {
   "display_name": "Python 3",
   "language": "python",
   "name": "python3"
  },
  "language_info": {
   "codemirror_mode": {
    "name": "ipython",
    "version": 3
   },
   "file_extension": ".py",
   "mimetype": "text/x-python",
   "name": "python",
   "nbconvert_exporter": "python",
   "pygments_lexer": "ipython3",
   "version": "3.8.8"
  }
 },
 "nbformat": 4,
 "nbformat_minor": 5
}
