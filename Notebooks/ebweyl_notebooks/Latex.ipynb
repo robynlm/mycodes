{
 "cells": [
  {
   "cell_type": "code",
   "execution_count": 2,
   "id": "a54de1b4",
   "metadata": {},
   "outputs": [],
   "source": [
    "from sympy import *"
   ]
  },
  {
   "cell_type": "markdown",
   "id": "913c62a3",
   "metadata": {},
   "source": [
    "# Szekeres"
   ]
  },
  {
   "cell_type": "code",
   "execution_count": 8,
   "id": "e9de2202",
   "metadata": {
    "scrolled": true
   },
   "outputs": [
    {
     "name": "stdout",
     "output_type": "stream",
     "text": [
      "{}^{(4)}R = \\frac{6 a{\\left(t \\right)} \\operatorname{dtdta}{\\left(t \\right)} + 6 \\operatorname{dta}^{2}{\\left(t \\right)} - \\frac{2 \\left(dxdxZ + dydyZ - \\left(4 dtZ \\operatorname{dta}{\\left(t \\right)} + dtdtZ a{\\left(t \\right)}\\right) a{\\left(t \\right)}\\right)}{Z}}{a^{2}{\\left(t \\right)}}\n",
      "\n",
      "{}^{(3)}R = \\frac{- 2 dxdxZ - 2 dydyZ}{Z a^{2}{\\left(t \\right)}}\n",
      "\n",
      "E^2 = \\frac{dxdxZ^{2} - dxdxZ dydyZ + dydyZ^{2} + \\left(dxdxZ + dydyZ\\right) \\left(dtZ \\operatorname{dta}{\\left(t \\right)} + dtdtZ a{\\left(t \\right)}\\right) a{\\left(t \\right)} + \\left(dtZ \\operatorname{dta}{\\left(t \\right)} + dtdtZ a{\\left(t \\right)}\\right)^{2} a^{2}{\\left(t \\right)}}{6 Z^{2} a^{4}{\\left(t \\right)}}\n",
      "\n",
      "B^2 = 0\n"
     ]
    }
   ],
   "source": [
    "R4 = '2*(3*((dta(t)**2)+a(t)*dtdta(t))-(dxdxZ+dydyZ-a(t)*(4*dta(t)*dtZ+a(t)*dtdtZ))/Z)/(a(t)**2)'\n",
    "R3 = '-2*(dxdxZ+dydyZ)/(a(t)*a(t)*Z)'\n",
    "E2 = '((dydyZ**2)-dxdxZ*dydyZ+(dxdxZ**2)+(a(t)**2)*((dta(t)*dtZ+a(t)*dtdtZ)**2)+a(t)*(dxdxZ+dydyZ)*(dta(t)*dtZ+a(t)*dtdtZ))/(6*(a(t)**4)*(Z**2))'\n",
    "B2 = '0'\n",
    "print('{}^{(4)}R = '+latex(sympify(R4)))\n",
    "print()\n",
    "print('{}^{(3)}R = '+latex(sympify(R3)))\n",
    "print()\n",
    "print('E^2 = '+latex(sympify(E2)))\n",
    "print()\n",
    "print('B^2 = '+latex(sympify(B2)))"
   ]
  },
  {
   "cell_type": "markdown",
   "id": "bbb1cc75",
   "metadata": {},
   "source": [
    "# Test metric"
   ]
  },
  {
   "cell_type": "code",
   "execution_count": 12,
   "id": "5494039d",
   "metadata": {},
   "outputs": [
    {
     "name": "stdout",
     "output_type": "stream",
     "text": [
      "aux0 &= 8.0 A dzdzA t - 2.0 A^{3.0} \\left(2.0 dzdzA t^{3.0} + 3.0\\right)\\\n",
      "aux1 &= 3.0 A^{2} dzA^{2} t^{3.0} + aux_{0} + 2.0 dzA^{2} t\\\n",
      "aux2 &= \\frac{0.25 \\left(3.0 A^{5.0} t^{2} + aux_{1}\\right)}{\\left(0.5 A^{2} t^{2} - 1\\right)^{2.0}}\\\n",
      "\\ rho &= \\frac{0.25 aux_{2}}{A \\kappa}\n"
     ]
    }
   ],
   "source": [
    "aux0='(8.*((A)*((t)*(dzdzA))))+(-2.*(((A)**3.)*(3.+(2.*(((t)**3.)*(dzdzA))))))'\n",
    "aux1='(2.*((t)*(((dzA)**2))))+((3.*((((A)**2))*(((t)**3.)*(((dzA)**2)))))+aux0)'\n",
    "aux2='((-2.+((((A)**2))*(((t)**2))))**-2.)*((3.*(((A)**5.)*(((t)**2))))+aux1)'\n",
    "rho =' 0.25*aux2/(A*kappa)'\n",
    "print('aux0 &= '+latex(sympify(aux0))+'\\\\')\n",
    "print('aux1 &= '+latex(sympify(aux1))+'\\\\')\n",
    "print('aux2 &= '+latex(sympify(aux2))+'\\\\')\n",
    "print('\\ rho &= '+latex(sympify(rho)))"
   ]
  },
  {
   "cell_type": "code",
   "execution_count": 14,
   "id": "204b4007",
   "metadata": {},
   "outputs": [
    {
     "name": "stdout",
     "output_type": "stream",
     "text": [
      "aux0 &= A \\left(- 8.0 dzdzA t^{3.0} + 8.0\\right) + A^{3.0} \\left(4.0 dzdzA t^{5.0} + 6.0 t^{2}\\right)\\\n",
      "aux1 &= - 3.0 A^{2} dzA^{2} t^{5.0} + aux_{0} - 2.0 dzA^{2} t^{3.0}\\\n",
      "aux2 &= \\frac{0.25 \\left(3.0 A^{5.0} t^{4.0} + aux_{1}\\right)}{\\left(0.5 A^{2} t^{2} - 1\\right)^{2.0}}\\\n",
      "p &= \\frac{0.0833333 aux_{2}}{A \\kappa t^{2.0}}\n"
     ]
    }
   ],
   "source": [
    "aux0='((A)*(8.+(-8.*(((t)**3.)*(dzdzA)))))+(((A)**3.)*((6.*(((t)**2)))+(4.*(((t)**5.)*(dzdzA)))))'\n",
    "aux1='(-2.*(((t)**3.)*(((dzA)**2))))+((-3.*((((A)**2))*(((t)**5.)*(((dzA)**2)))))+aux0)'\n",
    "aux2='((-2.+((((A)**2))*(((t)**2))))**-2.)*((3.*(((A)**5.)*((t)**4.)))+aux1)'\n",
    "p='((0.0833333*(((t)**-2.)*aux2))/(A))/kappa'\n",
    "print('aux0 &= '+latex(sympify(aux0))+'\\\\')\n",
    "print('aux1 &= '+latex(sympify(aux1))+'\\\\')\n",
    "print('aux2 &= '+latex(sympify(aux2))+'\\\\')\n",
    "print('p &= '+latex(sympify(p)))"
   ]
  },
  {
   "cell_type": "code",
   "execution_count": 16,
   "id": "90e523d7",
   "metadata": {},
   "outputs": [
    {
     "name": "stdout",
     "output_type": "stream",
     "text": [
      "q_x &= \\frac{0.0625 dzA \\left(A^{2} t^{2} - 6.0\\right)}{\\kappa \\left(0.5 A^{2} t^{2} - 1\\right)^{2.0}}\\\n",
      "q_y &= \\frac{0.0625 dzA \\left(A^{2} t^{2} + 2.0\\right)}{A \\kappa t \\left(0.5 A^{2} t^{2} - 1\\right)^{2.0}}\\\n",
      "q_z &= - \\frac{0.0625 dzA \\left(7.0 A^{2} t^{2} - 2.0\\right)}{A \\kappa t \\left(0.5 A^{2} t^{2} - 1\\right)^{2.0}}\\\n"
     ]
    }
   ],
   "source": [
    "outputx='(0.25*((-6.+((((A)**2))*(((t)**2))))*(((-2.+((((A)**2))*(((t)**2))))**-2.)*(dzA))))/kappa'\n",
    "outputy='(((0.25*(((-2.+((((A)**2))*(((t)**2))))**-2.)*((2.+((((A)**2))*(((t)**2))))*(dzA))))/(t))/(A))/kappa'\n",
    "outputz='(((-0.25*(((-2.+((((A)**2))*(((t)**2))))**-2.)*((-2.+(7.*((((A)**2))*(((t)**2)))))*(dzA))))/(t))/(A))/kappa'\n",
    "print('q_x &= '+latex(sympify(outputx))+'\\\\')\n",
    "print('q_y &= '+latex(sympify(outputy))+'\\\\')\n",
    "print('q_z &= '+latex(sympify(outputz))+'\\\\')"
   ]
  },
  {
   "cell_type": "code",
   "execution_count": 18,
   "id": "71bbe17d",
   "metadata": {},
   "outputs": [
    {
     "name": "stdout",
     "output_type": "stream",
     "text": [
      "aux0 &= 2.0 A^{3.0} \\left(dzdzA t^{3.0} + 8.0\\right) + 2.0 A^{5.0} dzdzA t^{5.0}\\\n",
      "aux1 &= - 12.0 A dzdzA t - 3.0 A^{4.0} dzA^{2} t^{5.0} + aux_{0}\\\n",
      "aux2 &= - 7.0 A^{2} dzA^{2} t^{3.0} + aux_{1} + 6.0 dzA^{2} t\\\n",
      "pixx &= aux_{2} t\n"
     ]
    }
   ],
   "source": [
    "aux0='(2.*(((A)**5.)*(((t)**5.)*(dzdzA))))+(2.*(((A)**3.)*(8.+(((t)**3.)*(dzdzA)))))'\n",
    "aux1='(-3.*(((A)**4.)*(((t)**5.)*(((dzA)**2)))))+((-12.*((A)*((t)*(dzdzA))))+aux0)'\n",
    "aux2='(6.*((t)*(((dzA)**2))))+((-7.*((((A)**2))*(((t)**3.)*(((dzA)**2)))))+aux1)'\n",
    "outputxx='(t)*aux2'\n",
    "print('aux0 &= '+latex(sympify(aux0))+'\\\\')\n",
    "print('aux1 &= '+latex(sympify(aux1))+'\\\\')\n",
    "print('aux2 &= '+latex(sympify(aux2))+'\\\\')\n",
    "print('pixx &= '+latex(sympify(outputxx)))"
   ]
  },
  {
   "cell_type": "code",
   "execution_count": 19,
   "id": "96f60ff6",
   "metadata": {},
   "outputs": [
    {
     "name": "stdout",
     "output_type": "stream",
     "text": [
      "aux0 &= A \\left(- 16.0 dzdzA t^{3.0} + 4.0\\right) + 8.0 A^{3.0} dzdzA t^{5.0}\\\n",
      "aux1 &= - 12.0 A^{2} dzA^{2} t^{5.0} + aux_{0} + 8.0 dzA^{2} t^{3.0}\\\n",
      "pixy &= A \\left(3.0 A^{5.0} t^{4.0} + aux_{1}\\right)\n"
     ]
    }
   ],
   "source": [
    "aux0='(8.*(((A)**3.)*(((t)**5.)*(dzdzA))))+((A)*(4.+(-16.*(((t)**3.)*(dzdzA)))))'\n",
    "aux1='(8.*(((t)**3.)*(((dzA)**2))))+((-12.*((((A)**2))*(((t)**5.)*(((dzA)**2)))))+aux0)'\n",
    "outputxy='(A)*((3.*(((A)**5.)*((t)**4.)))+aux1)'\n",
    "print('aux0 &= '+latex(sympify(aux0))+'\\\\')\n",
    "print('aux1 &= '+latex(sympify(aux1))+'\\\\')\n",
    "print('pixy &= '+latex(sympify(outputxy)))"
   ]
  },
  {
   "cell_type": "code",
   "execution_count": 20,
   "id": "5dec8adf",
   "metadata": {},
   "outputs": [
    {
     "name": "stdout",
     "output_type": "stream",
     "text": [
      "aux0 &= A \\left(- 4.0 dzdzA t^{3.0} + 4.0\\right) + 2.0 A^{3.0} dzdzA t^{5.0}\\ \\\n",
      "aux1 &= - 3.0 A^{2} dzA^{2} t^{5.0} + aux_{0} + 2.0 dzA^{2} t^{3.0}\\ \\\n",
      "pixz &= A \\left(3.0 A^{5.0} t^{4.0} + aux_{1}\\right)\n"
     ]
    }
   ],
   "source": [
    "aux0='(2.*(((A)**3.)*(((t)**5.)*(dzdzA))))+((A)*(4.+(-4.*(((t)**3.)*(dzdzA)))))'\n",
    "aux1='(2.*(((t)**3.)*(((dzA)**2))))+((-3.*((((A)**2))*(((t)**5.)*(((dzA)**2)))))+aux0)'\n",
    "outputxz='(A)*((3.*(((A)**5.)*((t)**4.)))+aux1)'\n",
    "print('aux0 &= '+latex(sympify(aux0))+'\\ \\\\')\n",
    "print('aux1 &= '+latex(sympify(aux1))+'\\ \\\\')\n",
    "print('pixz &= '+latex(sympify(outputxz)))"
   ]
  },
  {
   "cell_type": "code",
   "execution_count": 21,
   "id": "707abf89",
   "metadata": {},
   "outputs": [
    {
     "name": "stdout",
     "output_type": "stream",
     "text": [
      "aux0 &= 2.0 A^{3.0} \\left(dzdzA t^{3.0} + 2.0\\right) + 2.0 A^{5.0} t^{2} \\left(dzdzA t^{3.0} + 3.0\\right)\\\n",
      "aux1 &= - 12.0 A dzdzA t - 3.0 A^{4.0} dzA^{2} t^{5.0} + aux_{0}\\\n",
      "aux2 &= - 7.0 A^{2} dzA^{2} t^{3.0} + aux_{1} + 6.0 dzA^{2} t\\\n",
      "piyy &= aux_{2} t\n"
     ]
    }
   ],
   "source": [
    "aux0='(2.*(((A)**3.)*(2.+(((t)**3.)*(dzdzA)))))+(2.*(((A)**5.)*((((t)**2))*(3.+(((t)**3.)*(dzdzA))))))'\n",
    "aux1='(-3.*(((A)**4.)*(((t)**5.)*(((dzA)**2)))))+((-12.*((A)*((t)*(dzdzA))))+aux0)'\n",
    "aux2='(6.*((t)*(((dzA)**2))))+((-7.*((((A)**2))*(((t)**3.)*(((dzA)**2)))))+aux1)'\n",
    "outputyy='(t)*aux2'\n",
    "print('aux0 &= '+latex(sympify(aux0))+'\\\\')\n",
    "print('aux1 &= '+latex(sympify(aux1))+'\\\\')\n",
    "print('aux2 &= '+latex(sympify(aux2))+'\\\\')\n",
    "print('piyy &= '+latex(sympify(outputyy)))"
   ]
  },
  {
   "cell_type": "code",
   "execution_count": 22,
   "id": "46d99f7c",
   "metadata": {},
   "outputs": [
    {
     "name": "stdout",
     "output_type": "stream",
     "text": [
      "aux0 &= - 4.0 A dzdzA t + 2.0 A^{3.0} \\left(dzdzA t^{3.0} + 2.0\\right)\\ \\\n",
      "aux1 &= - 3.0 A^{2} dzA^{2} t^{3.0} + aux_{0} + 2.0 dzA^{2} t\\ \\\n",
      "piyz &= 3.0 t \\left(- 2.0 A^{5.0} t^{2} + aux_{1}\\right)\n"
     ]
    }
   ],
   "source": [
    "aux0='(-4.*((A)*((t)*(dzdzA))))+(2.*(((A)**3.)*(2.+(((t)**3.)*(dzdzA)))))'\n",
    "aux1='(2.*((t)*(((dzA)**2))))+((-3.*((((A)**2))*(((t)**3.)*(((dzA)**2)))))+aux0)'\n",
    "outputyz='3.*((t)*((-2.*(((A)**5.)*(((t)**2))))+aux1))'\n",
    "print('aux0 &= '+latex(sympify(aux0))+'\\ \\\\')\n",
    "print('aux1 &= '+latex(sympify(aux1))+'\\ \\\\')\n",
    "print('piyz &= '+latex(sympify(outputyz)))"
   ]
  },
  {
   "cell_type": "code",
   "execution_count": 23,
   "id": "704295b0",
   "metadata": {},
   "outputs": [
    {
     "name": "stdout",
     "output_type": "stream",
     "text": [
      "aux0 &= 2.0 A^{3.0} \\left(7.0 dzdzA t^{3.0} + 2.0\\right) + A^{5.0} \\left(- 4.0 dzdzA t^{5.0} + 6.0 t^{2}\\right)\\\n",
      "aux1 &= - 12.0 A dzdzA t + 6.0 A^{4.0} dzA^{2} t^{5.0} + aux_{0}\\\n",
      "aux2 &= - 13.0 A^{2} dzA^{2} t^{3.0} + aux_{1} + 6.0 dzA^{2} t\\\n",
      "pizz &= aux_{2} t\n"
     ]
    }
   ],
   "source": [
    "aux0='(2.*(((A)**3.)*(2.+(7.*(((t)**3.)*(dzdzA))))))+(((A)**5.)*((6.*(((t)**2)))+(-4.*(((t)**5.)*(dzdzA)))))'\n",
    "aux1='(6.*(((A)**4.)*(((t)**5.)*(((dzA)**2)))))+((-12.*((A)*((t)*(dzdzA))))+aux0)'\n",
    "aux2='(6.*((t)*(((dzA)**2))))+((-13.*((((A)**2))*(((t)**3.)*(((dzA)**2)))))+aux1)'\n",
    "outputzz='(t)*aux2'\n",
    "print('aux0 &= '+latex(sympify(aux0))+'\\\\')\n",
    "print('aux1 &= '+latex(sympify(aux1))+'\\\\')\n",
    "print('aux2 &= '+latex(sympify(aux2))+'\\\\')\n",
    "print('pizz &= '+latex(sympify(outputzz)))"
   ]
  },
  {
   "cell_type": "code",
   "execution_count": 24,
   "id": "4d5c19da",
   "metadata": {},
   "outputs": [
    {
     "name": "stdout",
     "output_type": "stream",
     "text": [
      "\\frac{t \\left(- 4 A dzdzA \\left(A^{2} t^{2} - 2\\right) + dzA^{2} \\left(3 A^{2} t^{2} + 2\\right)\\right)}{2 A \\left(A^{2} t^{2} - 2\\right)^{2}}\n"
     ]
    }
   ],
   "source": [
    "R3 = 't*((2 + 3*(t*A)**2)*dzA**2 - 4*A*(-2 + (t*A)**2)*dzdzA)/(2*A*(-2 + (t*A)**2)**2)'\n",
    "print(latex(sympify(R3)))"
   ]
  },
  {
   "cell_type": "code",
   "execution_count": 25,
   "id": "1f511b90",
   "metadata": {},
   "outputs": [
    {
     "name": "stdout",
     "output_type": "stream",
     "text": [
      "\\frac{A \\left(4 dzdzA g t^{2} + \\left(- 2 A + dzA^{2} t^{3}\\right) \\left(3 At^{2} + 2\\right)\\right)}{2 g^{2}}\n"
     ]
    }
   ],
   "source": [
    "R4 = '(A/(2*g*g))*( (-2*A + (t**3)*(dzA**2))*(2 + 3*(At**2)) + 4*g*(t**2)*dzdzA )'\n",
    "print(latex(sympify(R4)))"
   ]
  },
  {
   "cell_type": "code",
   "execution_count": 29,
   "id": "baf22c4a",
   "metadata": {},
   "outputs": [
    {
     "name": "stdout",
     "output_type": "stream",
     "text": [
      "\\frac{4 A dzdzA^{2} g t^{3} \\left(A^{4} t^{4} + A^{2} t^{2} - 6\\right) + dzdzA \\left(- 12 A^{2} t^{2} + 8\\right) \\left(4 A^{3} g t^{2} + A dzA^{2} t^{4} \\left(A^{4} t^{4} + A^{2} t^{2} - 6\\right)\\right) + \\left(- 3 A^{2} t^{2} + 2\\right)^{2} \\left(2 A^{4} \\left(3 A^{2} t^{2} + 2\\right) + 8 A^{3} dzA^{2} t^{3} + dzA^{4} t^{4} \\left(A^{2} t^{2} + 3\\right)\\right)}{96 g^{4}}\n"
     ]
    }
   ],
   "source": [
    "E2 = '((2*(A**4)*(2 + 3*((A*t)**2)) + 8*((A*t)**3)*(dzA**2) + (t**4)*(dzA**4)*(3+(A*t)**2))*((2 - 3*((A*t)**2))**2) + 4*(2 - 3*((A*t)**2))*(4*A*((A*t)**2)*g + A*(t**4)*(- 6 + (A*t)**2 + (A*t)**4)*(dzA**2))*dzdzA + 4*A*(t**3)*(- 6 + (A*t)**2 + (A*t)**4)*g*(dzdzA**2))/(96*(g**4))'\n",
    "print(latex(sympify(E2)))"
   ]
  },
  {
   "cell_type": "code",
   "execution_count": 31,
   "id": "ef0cf307",
   "metadata": {},
   "outputs": [
    {
     "name": "stdout",
     "output_type": "stream",
     "text": [
      "\\frac{5 dzA^{2} \\left(A^{2} t^{2} + 2\\right)^{2} \\operatorname{abs}{\\left(- A^{3} t^{3} + 2 A t \\right)}}{32 A^{2} t^{2} \\left(A^{2} t^{2} - 2\\right)^{5}}\n"
     ]
    }
   ],
   "source": [
    "B2 = '(5*abs(2*A*t - (A**3)*(t**3))*(dzA**2)*(2 + (A*t)**2)**2 )/(32*((A*t)**2)*(-2 + (A*t)**2)**5)'\n",
    "print(latex(sympify(B2)))"
   ]
  },
  {
   "cell_type": "markdown",
   "id": "cc98b82f",
   "metadata": {},
   "source": [
    "# Bianchi II"
   ]
  },
  {
   "cell_type": "code",
   "execution_count": 42,
   "id": "1cbda2cb",
   "metadata": {},
   "outputs": [
    {
     "data": {
      "text/plain": [
       "(9.797958971132712, 9.797958971132712)"
      ]
     },
     "execution_count": 42,
     "metadata": {},
     "output_type": "execute_result"
    }
   ],
   "source": [
    "import numpy as np\n",
    "np.sqrt(96), 4*np.sqrt(6)"
   ]
  },
  {
   "cell_type": "markdown",
   "id": "698ec468",
   "metadata": {},
   "source": [
    "# Bianchi VI"
   ]
  },
  {
   "cell_type": "code",
   "execution_count": 3,
   "id": "0dd28bd0",
   "metadata": {},
   "outputs": [
    {
     "name": "stdout",
     "output_type": "stream",
     "text": [
      "{}^{(4)}R = \\frac{k^{2} \\left(m^{2} \\left(q - s + 1\\right)^{2} + 4 q^{2} + 12 s^{2}\\right) - 4}{2 k^{2} t^{2}}\n"
     ]
    }
   ],
   "source": [
    "R4 = '(-4+k*k*(m*m*(1+q-s)*(1+q-s)+4*(q*q+3*s*s)))/(2*k*k*t*t)'\n",
    "print('{}^{(4)}R = '+latex(sympify(R4)))"
   ]
  },
  {
   "cell_type": "code",
   "execution_count": 4,
   "id": "7e71c5f8",
   "metadata": {},
   "outputs": [
    {
     "name": "stdout",
     "output_type": "stream",
     "text": [
      "\\frac{t^{- 4 s - 6} \\left(9 m^{2} \\left(q - s + 1\\right)^{2} + \\left(1 - s\\right) \\left(16 - 16 s\\right)\\right) \\operatorname{abs}{\\left(gdetth \\right)}}{8 k^{4}}\n"
     ]
    }
   ],
   "source": [
    "B2 = '(9*m*m*(1+q-s)*(1+q-s)+16*(1-s)*(1-s))*abs(gdetth)/(8*(k**4)*(t**(6+4*s)))'\n",
    "print(latex(sympify(B2)))"
   ]
  },
  {
   "cell_type": "code",
   "execution_count": 5,
   "id": "e500e391",
   "metadata": {},
   "outputs": [
    {
     "name": "stdout",
     "output_type": "stream",
     "text": [
      "\\frac{k^{4} \\left(4 m^{4} \\left(q - s + 1\\right)^{4} + m^{2} \\left(q - s + 1\\right)^{2} \\left(11 q^{2} - 18 q \\left(s - 1\\right) + \\left(s - 1\\right) \\left(3 s - 3\\right)\\right) + 16 q^{2} \\left(q^{2} + \\left(s - 1\\right) \\left(3 s - 3\\right)\\right)\\right) + 16 k^{2} \\left(m^{2} \\left(q - s + 1\\right)^{2} - 2 q^{2}\\right) + 16}{24 k^{4} t^{4}}\n"
     ]
    }
   ],
   "source": [
    "c1 = '(1 + q - s)'\n",
    "c2 = '(-1 + s)'\n",
    "E2 = '(16 + 16*k*k*(-2*q*q + m*m*'+c1+'*'+c1+') + (k**4)*(16*q*q*(q*q + 3*'+c2+'*'+c2+') + m*m*(11*q*q - 18*q*'+c2+' + 3*'+c2+'*'+c2+')*'+c1+'*'+c1+' + 4*(m**4)*('+c1+'**4)))/(24*((k*t)**4))'\n",
    "print(latex(sympify(E2)))"
   ]
  },
  {
   "cell_type": "code",
   "execution_count": 6,
   "id": "41cc02fb",
   "metadata": {},
   "outputs": [
    {
     "name": "stdout",
     "output_type": "stream",
     "text": [
      "\\frac{- k^{2} \\left(m^{2} \\left(q - s + 1\\right)^{2} + 4 q^{2} - 4 s \\left(s + 2\\right)\\right) - 4}{4 k^{2} \\kappa t^{2}}\n"
     ]
    }
   ],
   "source": [
    "rho = '-(4 + k*k*(4*q*q + m*m*((1 + q - s)**2) - 4*s*(2 + s)))/(4*k*k*kappa*t*t)'\n",
    "print(latex(sympify(rho)))"
   ]
  },
  {
   "cell_type": "code",
   "execution_count": 7,
   "id": "f8a84af3",
   "metadata": {},
   "outputs": [
    {
     "name": "stdout",
     "output_type": "stream",
     "text": [
      "\\frac{- k^{2} \\left(3 m^{2} \\left(q - s + 1\\right)^{2} + 12 q^{2} + 4 s \\left(5 s - 2\\right)\\right) + 4}{12 k^{2} \\kappa t^{2}}\n"
     ]
    }
   ],
   "source": [
    "p = '(4 - k*k*(12*q*q + 3*m*m*((1 + q - s)**2) + 4*s*(-2 + 5*s)))/(12*k*k*kappa*t*t)'\n",
    "print(latex(sympify(p)))"
   ]
  },
  {
   "cell_type": "code",
   "execution_count": 9,
   "id": "3ac9e0b9",
   "metadata": {},
   "outputs": [
    {
     "name": "stdout",
     "output_type": "stream",
     "text": [
      "\\frac{m^{2} \\left(- q + s - 1\\right) - 4 q}{2 \\kappa t}\n",
      "- \\frac{m t^{- q + s - 2} \\left(q - s + 1\\right) e^{x}}{2 k \\kappa}\n"
     ]
    }
   ],
   "source": [
    "qx = '(-4*q+m*m*(-1-q+s))/(2*kappa*t)'\n",
    "qy = '-(exp(x)*m*(1+q-s)*(t**(-2-q+s)))/(2*k*kappa)'\n",
    "print(latex(sympify(qx)))\n",
    "print(latex(sympify(qy)))"
   ]
  },
  {
   "cell_type": "code",
   "execution_count": 13,
   "id": "d14c616e",
   "metadata": {},
   "outputs": [
    {
     "name": "stdout",
     "output_type": "stream",
     "text": [
      "\\frac{- 3 c_{1}^{2} k^{2} m^{4} - 8 c_{2} k^{2} s + m^{2} \\left(- k^{2} \\left(- 6 c_{2} q + 3 q^{2} + 11 s^{2} - 14 s + 3\\right) + 4\\right) - 8}{6 \\kappa}\n",
      "\n",
      "- \\frac{m t^{- c_{1}} \\left(k^{2} \\left(3 c_{1}^{2} m^{2} + 3 q^{2} + 6 q + 5 s^{2} - 8 s + 3\\right) - 4\\right) e^{x}}{6 k \\kappa}\n",
      "\n",
      "\\frac{t^{- 2 c_{1}} \\left(- k^{2} \\left(3 c_{1}^{2} m^{2} + s \\left(4 c_{1} + 8 q\\right)\\right) + 4\\right) e^{2 x}}{6 k^{2} \\kappa}\n",
      "\n",
      "\\frac{t^{2 q + 2 s - 2} \\left(2 k^{2} s \\left(3 q + s - 1\\right) + 2\\right) e^{- 2 x}}{3 k^{2} \\kappa}\n"
     ]
    }
   ],
   "source": [
    "pixx = '(-8 - 3*k*k*m*m*m*m*(c1**2) - 8*k*k*(c2)*s + m*m*(4 - k*k*(3 + 3*q*q - 6*q*(c2) - 14*s + 11*s*s)))/(6*kappa)'\n",
    "pixy = '-(exp(x)*m*(-4 + k*k*(3 + 6*q + 3*q*q + 3*m*m*((c1)**2) - 8*s + 5*s*s))*(t**(-c1)))/(6*k*kappa)'\n",
    "piyy = 'exp(2*x)*(4 - k*k*(3*m*m*(c1**2) + 4*(c1 + 2*q)*s))*(t**(-2*c1))/(6*k*k*kappa)'\n",
    "pizz = 'exp(-2*x)*(2 + 2*k*k*s*(-1 + 3*q + s))*(t**(2*(-1 + q + s)))/(3*k*k*kappa)'\n",
    "print(latex(sympify(pixx)))\n",
    "print()\n",
    "print(latex(sympify(pixy)))\n",
    "print()\n",
    "print(latex(sympify(piyy)))\n",
    "print()\n",
    "print(latex(sympify(pizz)))"
   ]
  },
  {
   "cell_type": "markdown",
   "id": "b3c2cb74",
   "metadata": {},
   "source": [
    "# Plane Wave"
   ]
  },
  {
   "cell_type": "code",
   "execution_count": null,
   "id": "e7a826b1",
   "metadata": {},
   "outputs": [],
   "source": [
    "R4 = ''\n",
    "R3 = ''\n",
    "E2 = ''\n",
    "B2 = ''\n",
    "print('{}^{(4)}R = '+latex(sympify(R4)))\n",
    "print('{}^{(3)}R = '+latex(sympify(R3)))\n",
    "print('E^2 = '+latex(sympify(E2)))\n",
    "print('B^2 = '+latex(sympify(B2)))"
   ]
  },
  {
   "cell_type": "code",
   "execution_count": null,
   "id": "2b9f221a",
   "metadata": {},
   "outputs": [],
   "source": []
  }
 ],
 "metadata": {
  "kernelspec": {
   "display_name": "Python 3",
   "language": "python",
   "name": "python3"
  },
  "language_info": {
   "codemirror_mode": {
    "name": "ipython",
    "version": 3
   },
   "file_extension": ".py",
   "mimetype": "text/x-python",
   "name": "python",
   "nbconvert_exporter": "python",
   "pygments_lexer": "ipython3",
   "version": "3.8.8"
  }
 },
 "nbformat": 4,
 "nbformat_minor": 5
}
